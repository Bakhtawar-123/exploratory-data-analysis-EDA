{
 "cells": [
  {
   "cell_type": "markdown",
   "metadata": {},
   "source": [
    "# - Understanding The Dataset"
   ]
  },
  {
   "cell_type": "code",
   "execution_count": 4,
   "metadata": {},
   "outputs": [],
   "source": [
    "import pandas as pd\n",
    "import seaborn as sns \n",
    "import matplotlib.pyplot as plt\n",
    "import plotly.express as px "
   ]
  },
  {
   "cell_type": "code",
   "execution_count": 5,
   "metadata": {},
   "outputs": [],
   "source": [
    "app=pd.read_csv('googleplaystore.csv')"
   ]
  },
  {
   "cell_type": "markdown",
   "metadata": {},
   "source": [
    "- Representing the starting 5 values of dataset.!!"
   ]
  },
  {
   "cell_type": "code",
   "execution_count": 72,
   "metadata": {},
   "outputs": [
    {
     "data": {
      "text/html": [
       "<div>\n",
       "<style scoped>\n",
       "    .dataframe tbody tr th:only-of-type {\n",
       "        vertical-align: middle;\n",
       "    }\n",
       "\n",
       "    .dataframe tbody tr th {\n",
       "        vertical-align: top;\n",
       "    }\n",
       "\n",
       "    .dataframe thead th {\n",
       "        text-align: right;\n",
       "    }\n",
       "</style>\n",
       "<table border=\"1\" class=\"dataframe\">\n",
       "  <thead>\n",
       "    <tr style=\"text-align: right;\">\n",
       "      <th></th>\n",
       "      <th>App</th>\n",
       "      <th>Category</th>\n",
       "      <th>Rating</th>\n",
       "      <th>Reviews</th>\n",
       "      <th>Size</th>\n",
       "      <th>Installs</th>\n",
       "      <th>Type</th>\n",
       "      <th>Price</th>\n",
       "      <th>Content Rating</th>\n",
       "      <th>Genres</th>\n",
       "      <th>Last Updated</th>\n",
       "      <th>Current Ver</th>\n",
       "      <th>Android Ver</th>\n",
       "    </tr>\n",
       "  </thead>\n",
       "  <tbody>\n",
       "    <tr>\n",
       "      <th>10831</th>\n",
       "      <td>payermonstationnement.fr</td>\n",
       "      <td>MAPS_AND_NAVIGATION</td>\n",
       "      <td>NaN</td>\n",
       "      <td>38</td>\n",
       "      <td>9.8M</td>\n",
       "      <td>5,000+</td>\n",
       "      <td>Free</td>\n",
       "      <td>0</td>\n",
       "      <td>Everyone</td>\n",
       "      <td>Maps &amp; Navigation</td>\n",
       "      <td>June 13, 2018</td>\n",
       "      <td>2.0.148.0</td>\n",
       "      <td>4.0 and up</td>\n",
       "    </tr>\n",
       "    <tr>\n",
       "      <th>10832</th>\n",
       "      <td>FR Tides</td>\n",
       "      <td>WEATHER</td>\n",
       "      <td>3.8</td>\n",
       "      <td>1195</td>\n",
       "      <td>582k</td>\n",
       "      <td>100,000+</td>\n",
       "      <td>Free</td>\n",
       "      <td>0</td>\n",
       "      <td>Everyone</td>\n",
       "      <td>Weather</td>\n",
       "      <td>February 16, 2014</td>\n",
       "      <td>6.0</td>\n",
       "      <td>2.1 and up</td>\n",
       "    </tr>\n",
       "    <tr>\n",
       "      <th>10833</th>\n",
       "      <td>Chemin (fr)</td>\n",
       "      <td>BOOKS_AND_REFERENCE</td>\n",
       "      <td>4.8</td>\n",
       "      <td>44</td>\n",
       "      <td>619k</td>\n",
       "      <td>1,000+</td>\n",
       "      <td>Free</td>\n",
       "      <td>0</td>\n",
       "      <td>Everyone</td>\n",
       "      <td>Books &amp; Reference</td>\n",
       "      <td>March 23, 2014</td>\n",
       "      <td>0.8</td>\n",
       "      <td>2.2 and up</td>\n",
       "    </tr>\n",
       "    <tr>\n",
       "      <th>10834</th>\n",
       "      <td>FR Calculator</td>\n",
       "      <td>FAMILY</td>\n",
       "      <td>4.0</td>\n",
       "      <td>7</td>\n",
       "      <td>2.6M</td>\n",
       "      <td>500+</td>\n",
       "      <td>Free</td>\n",
       "      <td>0</td>\n",
       "      <td>Everyone</td>\n",
       "      <td>Education</td>\n",
       "      <td>June 18, 2017</td>\n",
       "      <td>1.0.0</td>\n",
       "      <td>4.1 and up</td>\n",
       "    </tr>\n",
       "    <tr>\n",
       "      <th>10835</th>\n",
       "      <td>FR Forms</td>\n",
       "      <td>BUSINESS</td>\n",
       "      <td>NaN</td>\n",
       "      <td>0</td>\n",
       "      <td>9.6M</td>\n",
       "      <td>10+</td>\n",
       "      <td>Free</td>\n",
       "      <td>0</td>\n",
       "      <td>Everyone</td>\n",
       "      <td>Business</td>\n",
       "      <td>September 29, 2016</td>\n",
       "      <td>1.1.5</td>\n",
       "      <td>4.0 and up</td>\n",
       "    </tr>\n",
       "    <tr>\n",
       "      <th>10836</th>\n",
       "      <td>Sya9a Maroc - FR</td>\n",
       "      <td>FAMILY</td>\n",
       "      <td>4.5</td>\n",
       "      <td>38</td>\n",
       "      <td>53M</td>\n",
       "      <td>5,000+</td>\n",
       "      <td>Free</td>\n",
       "      <td>0</td>\n",
       "      <td>Everyone</td>\n",
       "      <td>Education</td>\n",
       "      <td>July 25, 2017</td>\n",
       "      <td>1.48</td>\n",
       "      <td>4.1 and up</td>\n",
       "    </tr>\n",
       "    <tr>\n",
       "      <th>10837</th>\n",
       "      <td>Fr. Mike Schmitz Audio Teachings</td>\n",
       "      <td>FAMILY</td>\n",
       "      <td>5.0</td>\n",
       "      <td>4</td>\n",
       "      <td>3.6M</td>\n",
       "      <td>100+</td>\n",
       "      <td>Free</td>\n",
       "      <td>0</td>\n",
       "      <td>Everyone</td>\n",
       "      <td>Education</td>\n",
       "      <td>July 6, 2018</td>\n",
       "      <td>1.0</td>\n",
       "      <td>4.1 and up</td>\n",
       "    </tr>\n",
       "    <tr>\n",
       "      <th>10838</th>\n",
       "      <td>Parkinson Exercices FR</td>\n",
       "      <td>MEDICAL</td>\n",
       "      <td>NaN</td>\n",
       "      <td>3</td>\n",
       "      <td>9.5M</td>\n",
       "      <td>1,000+</td>\n",
       "      <td>Free</td>\n",
       "      <td>0</td>\n",
       "      <td>Everyone</td>\n",
       "      <td>Medical</td>\n",
       "      <td>January 20, 2017</td>\n",
       "      <td>1.0</td>\n",
       "      <td>2.2 and up</td>\n",
       "    </tr>\n",
       "    <tr>\n",
       "      <th>10839</th>\n",
       "      <td>The SCP Foundation DB fr nn5n</td>\n",
       "      <td>BOOKS_AND_REFERENCE</td>\n",
       "      <td>4.5</td>\n",
       "      <td>114</td>\n",
       "      <td>Varies with device</td>\n",
       "      <td>1,000+</td>\n",
       "      <td>Free</td>\n",
       "      <td>0</td>\n",
       "      <td>Mature 17+</td>\n",
       "      <td>Books &amp; Reference</td>\n",
       "      <td>January 19, 2015</td>\n",
       "      <td>Varies with device</td>\n",
       "      <td>Varies with device</td>\n",
       "    </tr>\n",
       "    <tr>\n",
       "      <th>10840</th>\n",
       "      <td>iHoroscope - 2018 Daily Horoscope &amp; Astrology</td>\n",
       "      <td>LIFESTYLE</td>\n",
       "      <td>4.5</td>\n",
       "      <td>398307</td>\n",
       "      <td>19M</td>\n",
       "      <td>10,000,000+</td>\n",
       "      <td>Free</td>\n",
       "      <td>0</td>\n",
       "      <td>Everyone</td>\n",
       "      <td>Lifestyle</td>\n",
       "      <td>July 25, 2018</td>\n",
       "      <td>Varies with device</td>\n",
       "      <td>Varies with device</td>\n",
       "    </tr>\n",
       "  </tbody>\n",
       "</table>\n",
       "</div>"
      ],
      "text/plain": [
       "                                                 App             Category  \\\n",
       "10831                       payermonstationnement.fr  MAPS_AND_NAVIGATION   \n",
       "10832                                       FR Tides              WEATHER   \n",
       "10833                                    Chemin (fr)  BOOKS_AND_REFERENCE   \n",
       "10834                                  FR Calculator               FAMILY   \n",
       "10835                                       FR Forms             BUSINESS   \n",
       "10836                               Sya9a Maroc - FR               FAMILY   \n",
       "10837               Fr. Mike Schmitz Audio Teachings               FAMILY   \n",
       "10838                         Parkinson Exercices FR              MEDICAL   \n",
       "10839                  The SCP Foundation DB fr nn5n  BOOKS_AND_REFERENCE   \n",
       "10840  iHoroscope - 2018 Daily Horoscope & Astrology            LIFESTYLE   \n",
       "\n",
       "       Rating Reviews                Size     Installs  Type Price  \\\n",
       "10831     NaN      38                9.8M       5,000+  Free     0   \n",
       "10832     3.8    1195                582k     100,000+  Free     0   \n",
       "10833     4.8      44                619k       1,000+  Free     0   \n",
       "10834     4.0       7                2.6M         500+  Free     0   \n",
       "10835     NaN       0                9.6M          10+  Free     0   \n",
       "10836     4.5      38                 53M       5,000+  Free     0   \n",
       "10837     5.0       4                3.6M         100+  Free     0   \n",
       "10838     NaN       3                9.5M       1,000+  Free     0   \n",
       "10839     4.5     114  Varies with device       1,000+  Free     0   \n",
       "10840     4.5  398307                 19M  10,000,000+  Free     0   \n",
       "\n",
       "      Content Rating             Genres        Last Updated  \\\n",
       "10831       Everyone  Maps & Navigation       June 13, 2018   \n",
       "10832       Everyone            Weather   February 16, 2014   \n",
       "10833       Everyone  Books & Reference      March 23, 2014   \n",
       "10834       Everyone          Education       June 18, 2017   \n",
       "10835       Everyone           Business  September 29, 2016   \n",
       "10836       Everyone          Education       July 25, 2017   \n",
       "10837       Everyone          Education        July 6, 2018   \n",
       "10838       Everyone            Medical    January 20, 2017   \n",
       "10839     Mature 17+  Books & Reference    January 19, 2015   \n",
       "10840       Everyone          Lifestyle       July 25, 2018   \n",
       "\n",
       "              Current Ver         Android Ver  \n",
       "10831           2.0.148.0          4.0 and up  \n",
       "10832                 6.0          2.1 and up  \n",
       "10833                 0.8          2.2 and up  \n",
       "10834               1.0.0          4.1 and up  \n",
       "10835               1.1.5          4.0 and up  \n",
       "10836                1.48          4.1 and up  \n",
       "10837                 1.0          4.1 and up  \n",
       "10838                 1.0          2.2 and up  \n",
       "10839  Varies with device  Varies with device  \n",
       "10840  Varies with device  Varies with device  "
      ]
     },
     "execution_count": 72,
     "metadata": {},
     "output_type": "execute_result"
    }
   ],
   "source": [
    "app.tail(10)"
   ]
  },
  {
   "cell_type": "markdown",
   "metadata": {},
   "source": [
    "- What actually the dataset??"
   ]
  },
  {
   "cell_type": "code",
   "execution_count": 7,
   "metadata": {},
   "outputs": [
    {
     "data": {
      "text/plain": [
       "(10841, 13)"
      ]
     },
     "execution_count": 7,
     "metadata": {},
     "output_type": "execute_result"
    }
   ],
   "source": [
    "app.shape"
   ]
  },
  {
   "cell_type": "markdown",
   "metadata": {},
   "source": [
    "- Give us the columns containging in our dataset"
   ]
  },
  {
   "cell_type": "code",
   "execution_count": 8,
   "metadata": {},
   "outputs": [
    {
     "data": {
      "text/plain": [
       "Index(['App', 'Category', 'Rating', 'Reviews', 'Size', 'Installs', 'Type',\n",
       "       'Price', 'Content Rating', 'Genres', 'Last Updated', 'Current Ver',\n",
       "       'Android Ver'],\n",
       "      dtype='object')"
      ]
     },
     "execution_count": 8,
     "metadata": {},
     "output_type": "execute_result"
    }
   ],
   "source": [
    "app.columns"
   ]
  },
  {
   "cell_type": "markdown",
   "metadata": {},
   "source": [
    "- tells about the categories use in dataset"
   ]
  },
  {
   "cell_type": "markdown",
   "metadata": {},
   "source": [
    "- # Lets see some discription about different columns "
   ]
  },
  {
   "cell_type": "markdown",
   "metadata": {},
   "source": [
    "1) App :- Name of the App\n",
    "2) Category :- Category under which the App falls.\n",
    "3) Rating :- Application's rating on playstore\n",
    "4) Reviews :- Number of reviews of the App.\n",
    "5) Size :- Size of the App.\n",
    "6) Install :- Number of Installs of the App\n",
    "7) Type :- If the App is free/paid\n",
    "8) Price :- Price of the app (0 if it is Free)\n",
    "9) Content Rating :- Appropiate Target Audience of the App.\n",
    "10) Genres:- Genre under which the App falls.\n",
    "11) Last Updated :- Date when the App was last updated\n",
    "12) Current Ver :- Current Version of the Application\n",
    "13) Android Ver :- Minimum Android Version required to run the App"
   ]
  },
  {
   "cell_type": "code",
   "execution_count": 9,
   "metadata": {},
   "outputs": [
    {
     "data": {
      "text/plain": [
       "0             ART_AND_DESIGN\n",
       "1             ART_AND_DESIGN\n",
       "2             ART_AND_DESIGN\n",
       "3             ART_AND_DESIGN\n",
       "4             ART_AND_DESIGN\n",
       "                ...         \n",
       "10836                 FAMILY\n",
       "10837                 FAMILY\n",
       "10838                MEDICAL\n",
       "10839    BOOKS_AND_REFERENCE\n",
       "10840              LIFESTYLE\n",
       "Name: Category, Length: 10841, dtype: object"
      ]
     },
     "execution_count": 9,
     "metadata": {},
     "output_type": "execute_result"
    }
   ],
   "source": [
    "app.Category"
   ]
  },
  {
   "cell_type": "markdown",
   "metadata": {},
   "source": [
    "- What this data is to be described???"
   ]
  },
  {
   "cell_type": "code",
   "execution_count": 10,
   "metadata": {},
   "outputs": [
    {
     "data": {
      "text/html": [
       "<div>\n",
       "<style scoped>\n",
       "    .dataframe tbody tr th:only-of-type {\n",
       "        vertical-align: middle;\n",
       "    }\n",
       "\n",
       "    .dataframe tbody tr th {\n",
       "        vertical-align: top;\n",
       "    }\n",
       "\n",
       "    .dataframe thead th {\n",
       "        text-align: right;\n",
       "    }\n",
       "</style>\n",
       "<table border=\"1\" class=\"dataframe\">\n",
       "  <thead>\n",
       "    <tr style=\"text-align: right;\">\n",
       "      <th></th>\n",
       "      <th>Rating</th>\n",
       "    </tr>\n",
       "  </thead>\n",
       "  <tbody>\n",
       "    <tr>\n",
       "      <th>count</th>\n",
       "      <td>9367.000000</td>\n",
       "    </tr>\n",
       "    <tr>\n",
       "      <th>mean</th>\n",
       "      <td>4.193338</td>\n",
       "    </tr>\n",
       "    <tr>\n",
       "      <th>std</th>\n",
       "      <td>0.537431</td>\n",
       "    </tr>\n",
       "    <tr>\n",
       "      <th>min</th>\n",
       "      <td>1.000000</td>\n",
       "    </tr>\n",
       "    <tr>\n",
       "      <th>25%</th>\n",
       "      <td>4.000000</td>\n",
       "    </tr>\n",
       "    <tr>\n",
       "      <th>50%</th>\n",
       "      <td>4.300000</td>\n",
       "    </tr>\n",
       "    <tr>\n",
       "      <th>75%</th>\n",
       "      <td>4.500000</td>\n",
       "    </tr>\n",
       "    <tr>\n",
       "      <th>max</th>\n",
       "      <td>19.000000</td>\n",
       "    </tr>\n",
       "  </tbody>\n",
       "</table>\n",
       "</div>"
      ],
      "text/plain": [
       "            Rating\n",
       "count  9367.000000\n",
       "mean      4.193338\n",
       "std       0.537431\n",
       "min       1.000000\n",
       "25%       4.000000\n",
       "50%       4.300000\n",
       "75%       4.500000\n",
       "max      19.000000"
      ]
     },
     "execution_count": 10,
     "metadata": {},
     "output_type": "execute_result"
    }
   ],
   "source": [
    "app.describe()"
   ]
  },
  {
   "cell_type": "markdown",
   "metadata": {},
   "source": [
    "- Total Number of entries"
   ]
  },
  {
   "cell_type": "code",
   "execution_count": 11,
   "metadata": {},
   "outputs": [
    {
     "data": {
      "text/plain": [
       "140933"
      ]
     },
     "execution_count": 11,
     "metadata": {},
     "output_type": "execute_result"
    }
   ],
   "source": [
    "app.size"
   ]
  },
  {
   "cell_type": "markdown",
   "metadata": {},
   "source": [
    "- Count the not null values and tell us the overall figure"
   ]
  },
  {
   "cell_type": "code",
   "execution_count": 12,
   "metadata": {},
   "outputs": [
    {
     "data": {
      "text/plain": [
       "App               10841\n",
       "Category          10841\n",
       "Rating             9367\n",
       "Reviews           10841\n",
       "Size              10841\n",
       "Installs          10841\n",
       "Type              10840\n",
       "Price             10841\n",
       "Content Rating    10840\n",
       "Genres            10841\n",
       "Last Updated      10841\n",
       "Current Ver       10833\n",
       "Android Ver       10838\n",
       "dtype: int64"
      ]
     },
     "execution_count": 12,
     "metadata": {},
     "output_type": "execute_result"
    }
   ],
   "source": [
    "app.count()"
   ]
  },
  {
   "cell_type": "markdown",
   "metadata": {},
   "source": [
    "- Unique values for the specific column.."
   ]
  },
  {
   "cell_type": "code",
   "execution_count": 13,
   "metadata": {},
   "outputs": [
    {
     "data": {
      "text/plain": [
       "App               9660\n",
       "Category            34\n",
       "Rating              40\n",
       "Reviews           6002\n",
       "Size               462\n",
       "Installs            22\n",
       "Type                 3\n",
       "Price               93\n",
       "Content Rating       6\n",
       "Genres             120\n",
       "Last Updated      1378\n",
       "Current Ver       2832\n",
       "Android Ver         33\n",
       "dtype: int64"
      ]
     },
     "execution_count": 13,
     "metadata": {},
     "output_type": "execute_result"
    }
   ],
   "source": [
    "app.nunique()"
   ]
  },
  {
   "cell_type": "markdown",
   "metadata": {},
   "source": [
    "- Tell about the data type use in every columns with additional feature"
   ]
  },
  {
   "cell_type": "code",
   "execution_count": 14,
   "metadata": {},
   "outputs": [
    {
     "name": "stdout",
     "output_type": "stream",
     "text": [
      "<class 'pandas.core.frame.DataFrame'>\n",
      "RangeIndex: 10841 entries, 0 to 10840\n",
      "Data columns (total 13 columns):\n",
      " #   Column          Non-Null Count  Dtype  \n",
      "---  ------          --------------  -----  \n",
      " 0   App             10841 non-null  object \n",
      " 1   Category        10841 non-null  object \n",
      " 2   Rating          9367 non-null   float64\n",
      " 3   Reviews         10841 non-null  object \n",
      " 4   Size            10841 non-null  object \n",
      " 5   Installs        10841 non-null  object \n",
      " 6   Type            10840 non-null  object \n",
      " 7   Price           10841 non-null  object \n",
      " 8   Content Rating  10840 non-null  object \n",
      " 9   Genres          10841 non-null  object \n",
      " 10  Last Updated    10841 non-null  object \n",
      " 11  Current Ver     10833 non-null  object \n",
      " 12  Android Ver     10838 non-null  object \n",
      "dtypes: float64(1), object(12)\n",
      "memory usage: 1.1+ MB\n"
     ]
    }
   ],
   "source": [
    "app.info()"
   ]
  },
  {
   "cell_type": "markdown",
   "metadata": {},
   "source": [
    "- Check the null values in dataset"
   ]
  },
  {
   "cell_type": "code",
   "execution_count": 15,
   "metadata": {},
   "outputs": [
    {
     "data": {
      "text/plain": [
       "App                  0\n",
       "Category             0\n",
       "Rating            1474\n",
       "Reviews              0\n",
       "Size                 0\n",
       "Installs             0\n",
       "Type                 1\n",
       "Price                0\n",
       "Content Rating       1\n",
       "Genres               0\n",
       "Last Updated         0\n",
       "Current Ver          8\n",
       "Android Ver          3\n",
       "dtype: int64"
      ]
     },
     "execution_count": 15,
     "metadata": {},
     "output_type": "execute_result"
    }
   ],
   "source": [
    "app.isnull().sum()"
   ]
  },
  {
   "cell_type": "markdown",
   "metadata": {},
   "source": [
    "# - Let's clean the dataset"
   ]
  },
  {
   "cell_type": "code",
   "execution_count": 16,
   "metadata": {},
   "outputs": [],
   "source": [
    "Clean_Data = app.copy()"
   ]
  },
  {
   "cell_type": "code",
   "execution_count": 17,
   "metadata": {},
   "outputs": [
    {
     "name": "stderr",
     "output_type": "stream",
     "text": [
      "C:\\Users\\Ali Hasnain\\AppData\\Local\\Temp\\ipykernel_1596\\726425966.py:1: FutureWarning: The default value of regex will change from True to False in a future version. In addition, single character regular expressions will *not* be treated as literal strings when regex=True.\n",
      "  Clean_Data['Price'] = Clean_Data['Price'].str.replace('$','')\n"
     ]
    }
   ],
   "source": [
    "Clean_Data['Price'] = Clean_Data['Price'].str.replace('$','')\n",
    "Clean_Data['Price'] = Clean_Data['Price'].str.replace('Everyone','0')\n",
    "Clean_Data['Price'] = Clean_Data['Price'].astype('float')"
   ]
  },
  {
   "cell_type": "code",
   "execution_count": 18,
   "metadata": {},
   "outputs": [
    {
     "data": {
      "text/html": [
       "<div>\n",
       "<style scoped>\n",
       "    .dataframe tbody tr th:only-of-type {\n",
       "        vertical-align: middle;\n",
       "    }\n",
       "\n",
       "    .dataframe tbody tr th {\n",
       "        vertical-align: top;\n",
       "    }\n",
       "\n",
       "    .dataframe thead th {\n",
       "        text-align: right;\n",
       "    }\n",
       "</style>\n",
       "<table border=\"1\" class=\"dataframe\">\n",
       "  <thead>\n",
       "    <tr style=\"text-align: right;\">\n",
       "      <th></th>\n",
       "      <th>App</th>\n",
       "      <th>Category</th>\n",
       "      <th>Rating</th>\n",
       "      <th>Reviews</th>\n",
       "      <th>Size</th>\n",
       "      <th>Installs</th>\n",
       "      <th>Type</th>\n",
       "      <th>Price</th>\n",
       "      <th>Content Rating</th>\n",
       "      <th>Genres</th>\n",
       "      <th>Last Updated</th>\n",
       "      <th>Current Ver</th>\n",
       "      <th>Android Ver</th>\n",
       "    </tr>\n",
       "  </thead>\n",
       "  <tbody>\n",
       "    <tr>\n",
       "      <th>0</th>\n",
       "      <td>Photo Editor &amp; Candy Camera &amp; Grid &amp; ScrapBook</td>\n",
       "      <td>ART_AND_DESIGN</td>\n",
       "      <td>4.1</td>\n",
       "      <td>159</td>\n",
       "      <td>19M</td>\n",
       "      <td>10,000+</td>\n",
       "      <td>Free</td>\n",
       "      <td>0.0</td>\n",
       "      <td>Everyone</td>\n",
       "      <td>Art &amp; Design</td>\n",
       "      <td>January 7, 2018</td>\n",
       "      <td>1.0.0</td>\n",
       "      <td>4.0.3 and up</td>\n",
       "    </tr>\n",
       "    <tr>\n",
       "      <th>1</th>\n",
       "      <td>Coloring book moana</td>\n",
       "      <td>ART_AND_DESIGN</td>\n",
       "      <td>3.9</td>\n",
       "      <td>967</td>\n",
       "      <td>14M</td>\n",
       "      <td>500,000+</td>\n",
       "      <td>Free</td>\n",
       "      <td>0.0</td>\n",
       "      <td>Everyone</td>\n",
       "      <td>Art &amp; Design;Pretend Play</td>\n",
       "      <td>January 15, 2018</td>\n",
       "      <td>2.0.0</td>\n",
       "      <td>4.0.3 and up</td>\n",
       "    </tr>\n",
       "    <tr>\n",
       "      <th>2</th>\n",
       "      <td>U Launcher Lite – FREE Live Cool Themes, Hide ...</td>\n",
       "      <td>ART_AND_DESIGN</td>\n",
       "      <td>4.7</td>\n",
       "      <td>87510</td>\n",
       "      <td>8.7M</td>\n",
       "      <td>5,000,000+</td>\n",
       "      <td>Free</td>\n",
       "      <td>0.0</td>\n",
       "      <td>Everyone</td>\n",
       "      <td>Art &amp; Design</td>\n",
       "      <td>August 1, 2018</td>\n",
       "      <td>1.2.4</td>\n",
       "      <td>4.0.3 and up</td>\n",
       "    </tr>\n",
       "    <tr>\n",
       "      <th>3</th>\n",
       "      <td>Sketch - Draw &amp; Paint</td>\n",
       "      <td>ART_AND_DESIGN</td>\n",
       "      <td>4.5</td>\n",
       "      <td>215644</td>\n",
       "      <td>25M</td>\n",
       "      <td>50,000,000+</td>\n",
       "      <td>Free</td>\n",
       "      <td>0.0</td>\n",
       "      <td>Teen</td>\n",
       "      <td>Art &amp; Design</td>\n",
       "      <td>June 8, 2018</td>\n",
       "      <td>Varies with device</td>\n",
       "      <td>4.2 and up</td>\n",
       "    </tr>\n",
       "    <tr>\n",
       "      <th>4</th>\n",
       "      <td>Pixel Draw - Number Art Coloring Book</td>\n",
       "      <td>ART_AND_DESIGN</td>\n",
       "      <td>4.3</td>\n",
       "      <td>967</td>\n",
       "      <td>2.8M</td>\n",
       "      <td>100,000+</td>\n",
       "      <td>Free</td>\n",
       "      <td>0.0</td>\n",
       "      <td>Everyone</td>\n",
       "      <td>Art &amp; Design;Creativity</td>\n",
       "      <td>June 20, 2018</td>\n",
       "      <td>1.1</td>\n",
       "      <td>4.4 and up</td>\n",
       "    </tr>\n",
       "    <tr>\n",
       "      <th>...</th>\n",
       "      <td>...</td>\n",
       "      <td>...</td>\n",
       "      <td>...</td>\n",
       "      <td>...</td>\n",
       "      <td>...</td>\n",
       "      <td>...</td>\n",
       "      <td>...</td>\n",
       "      <td>...</td>\n",
       "      <td>...</td>\n",
       "      <td>...</td>\n",
       "      <td>...</td>\n",
       "      <td>...</td>\n",
       "      <td>...</td>\n",
       "    </tr>\n",
       "    <tr>\n",
       "      <th>10836</th>\n",
       "      <td>Sya9a Maroc - FR</td>\n",
       "      <td>FAMILY</td>\n",
       "      <td>4.5</td>\n",
       "      <td>38</td>\n",
       "      <td>53M</td>\n",
       "      <td>5,000+</td>\n",
       "      <td>Free</td>\n",
       "      <td>0.0</td>\n",
       "      <td>Everyone</td>\n",
       "      <td>Education</td>\n",
       "      <td>July 25, 2017</td>\n",
       "      <td>1.48</td>\n",
       "      <td>4.1 and up</td>\n",
       "    </tr>\n",
       "    <tr>\n",
       "      <th>10837</th>\n",
       "      <td>Fr. Mike Schmitz Audio Teachings</td>\n",
       "      <td>FAMILY</td>\n",
       "      <td>5.0</td>\n",
       "      <td>4</td>\n",
       "      <td>3.6M</td>\n",
       "      <td>100+</td>\n",
       "      <td>Free</td>\n",
       "      <td>0.0</td>\n",
       "      <td>Everyone</td>\n",
       "      <td>Education</td>\n",
       "      <td>July 6, 2018</td>\n",
       "      <td>1.0</td>\n",
       "      <td>4.1 and up</td>\n",
       "    </tr>\n",
       "    <tr>\n",
       "      <th>10838</th>\n",
       "      <td>Parkinson Exercices FR</td>\n",
       "      <td>MEDICAL</td>\n",
       "      <td>NaN</td>\n",
       "      <td>3</td>\n",
       "      <td>9.5M</td>\n",
       "      <td>1,000+</td>\n",
       "      <td>Free</td>\n",
       "      <td>0.0</td>\n",
       "      <td>Everyone</td>\n",
       "      <td>Medical</td>\n",
       "      <td>January 20, 2017</td>\n",
       "      <td>1.0</td>\n",
       "      <td>2.2 and up</td>\n",
       "    </tr>\n",
       "    <tr>\n",
       "      <th>10839</th>\n",
       "      <td>The SCP Foundation DB fr nn5n</td>\n",
       "      <td>BOOKS_AND_REFERENCE</td>\n",
       "      <td>4.5</td>\n",
       "      <td>114</td>\n",
       "      <td>Varies with device</td>\n",
       "      <td>1,000+</td>\n",
       "      <td>Free</td>\n",
       "      <td>0.0</td>\n",
       "      <td>Mature 17+</td>\n",
       "      <td>Books &amp; Reference</td>\n",
       "      <td>January 19, 2015</td>\n",
       "      <td>Varies with device</td>\n",
       "      <td>Varies with device</td>\n",
       "    </tr>\n",
       "    <tr>\n",
       "      <th>10840</th>\n",
       "      <td>iHoroscope - 2018 Daily Horoscope &amp; Astrology</td>\n",
       "      <td>LIFESTYLE</td>\n",
       "      <td>4.5</td>\n",
       "      <td>398307</td>\n",
       "      <td>19M</td>\n",
       "      <td>10,000,000+</td>\n",
       "      <td>Free</td>\n",
       "      <td>0.0</td>\n",
       "      <td>Everyone</td>\n",
       "      <td>Lifestyle</td>\n",
       "      <td>July 25, 2018</td>\n",
       "      <td>Varies with device</td>\n",
       "      <td>Varies with device</td>\n",
       "    </tr>\n",
       "  </tbody>\n",
       "</table>\n",
       "<p>10841 rows × 13 columns</p>\n",
       "</div>"
      ],
      "text/plain": [
       "                                                     App             Category  \\\n",
       "0         Photo Editor & Candy Camera & Grid & ScrapBook       ART_AND_DESIGN   \n",
       "1                                    Coloring book moana       ART_AND_DESIGN   \n",
       "2      U Launcher Lite – FREE Live Cool Themes, Hide ...       ART_AND_DESIGN   \n",
       "3                                  Sketch - Draw & Paint       ART_AND_DESIGN   \n",
       "4                  Pixel Draw - Number Art Coloring Book       ART_AND_DESIGN   \n",
       "...                                                  ...                  ...   \n",
       "10836                                   Sya9a Maroc - FR               FAMILY   \n",
       "10837                   Fr. Mike Schmitz Audio Teachings               FAMILY   \n",
       "10838                             Parkinson Exercices FR              MEDICAL   \n",
       "10839                      The SCP Foundation DB fr nn5n  BOOKS_AND_REFERENCE   \n",
       "10840      iHoroscope - 2018 Daily Horoscope & Astrology            LIFESTYLE   \n",
       "\n",
       "       Rating Reviews                Size     Installs  Type  Price  \\\n",
       "0         4.1     159                 19M      10,000+  Free    0.0   \n",
       "1         3.9     967                 14M     500,000+  Free    0.0   \n",
       "2         4.7   87510                8.7M   5,000,000+  Free    0.0   \n",
       "3         4.5  215644                 25M  50,000,000+  Free    0.0   \n",
       "4         4.3     967                2.8M     100,000+  Free    0.0   \n",
       "...       ...     ...                 ...          ...   ...    ...   \n",
       "10836     4.5      38                 53M       5,000+  Free    0.0   \n",
       "10837     5.0       4                3.6M         100+  Free    0.0   \n",
       "10838     NaN       3                9.5M       1,000+  Free    0.0   \n",
       "10839     4.5     114  Varies with device       1,000+  Free    0.0   \n",
       "10840     4.5  398307                 19M  10,000,000+  Free    0.0   \n",
       "\n",
       "      Content Rating                     Genres      Last Updated  \\\n",
       "0           Everyone               Art & Design   January 7, 2018   \n",
       "1           Everyone  Art & Design;Pretend Play  January 15, 2018   \n",
       "2           Everyone               Art & Design    August 1, 2018   \n",
       "3               Teen               Art & Design      June 8, 2018   \n",
       "4           Everyone    Art & Design;Creativity     June 20, 2018   \n",
       "...              ...                        ...               ...   \n",
       "10836       Everyone                  Education     July 25, 2017   \n",
       "10837       Everyone                  Education      July 6, 2018   \n",
       "10838       Everyone                    Medical  January 20, 2017   \n",
       "10839     Mature 17+          Books & Reference  January 19, 2015   \n",
       "10840       Everyone                  Lifestyle     July 25, 2018   \n",
       "\n",
       "              Current Ver         Android Ver  \n",
       "0                   1.0.0        4.0.3 and up  \n",
       "1                   2.0.0        4.0.3 and up  \n",
       "2                   1.2.4        4.0.3 and up  \n",
       "3      Varies with device          4.2 and up  \n",
       "4                     1.1          4.4 and up  \n",
       "...                   ...                 ...  \n",
       "10836                1.48          4.1 and up  \n",
       "10837                 1.0          4.1 and up  \n",
       "10838                 1.0          2.2 and up  \n",
       "10839  Varies with device  Varies with device  \n",
       "10840  Varies with device  Varies with device  \n",
       "\n",
       "[10841 rows x 13 columns]"
      ]
     },
     "execution_count": 18,
     "metadata": {},
     "output_type": "execute_result"
    }
   ],
   "source": [
    "Clean_Data"
   ]
  },
  {
   "cell_type": "code",
   "execution_count": 19,
   "metadata": {},
   "outputs": [],
   "source": [
    "Clean_Data['Reviews'] = Clean_Data['Reviews'].str.replace('M','')\n",
    "Clean_Data['Reviews'] = Clean_Data['Reviews'].astype('float')"
   ]
  },
  {
   "cell_type": "code",
   "execution_count": 20,
   "metadata": {},
   "outputs": [
    {
     "name": "stderr",
     "output_type": "stream",
     "text": [
      "C:\\Users\\Ali Hasnain\\AppData\\Local\\Temp\\ipykernel_1596\\2088558732.py:1: FutureWarning: The default value of regex will change from True to False in a future version. In addition, single character regular expressions will *not* be treated as literal strings when regex=True.\n",
      "  Clean_Data['Installs'] = Clean_Data['Installs'].str.replace('+','')\n"
     ]
    }
   ],
   "source": [
    "Clean_Data['Installs'] = Clean_Data['Installs'].str.replace('+','')\n",
    "Clean_Data['Installs'] = Clean_Data['Installs'].str.replace(',','')\n",
    "Clean_Data['Installs'] = Clean_Data['Installs'].str.replace('Free', '0')\n",
    "Clean_Data['Installs'] = Clean_Data['Installs'].astype('int')"
   ]
  },
  {
   "cell_type": "code",
   "execution_count": 21,
   "metadata": {},
   "outputs": [],
   "source": [
    "Clean_Data['Last Updated'] = Clean_Data['Last Updated'].str.replace(',','')"
   ]
  },
  {
   "cell_type": "markdown",
   "metadata": {},
   "source": [
    "- Add data and time"
   ]
  },
  {
   "cell_type": "code",
   "execution_count": 22,
   "metadata": {},
   "outputs": [],
   "source": [
    "from datetime import date"
   ]
  },
  {
   "cell_type": "code",
   "execution_count": 23,
   "metadata": {},
   "outputs": [],
   "source": [
    "Clean_Data['Last Updated']= pd.to_datetime(Clean_Data['Last Updated'], errors='coerce')"
   ]
  },
  {
   "cell_type": "code",
   "execution_count": 24,
   "metadata": {},
   "outputs": [
    {
     "name": "stdout",
     "output_type": "stream",
     "text": [
      "<class 'pandas.core.frame.DataFrame'>\n",
      "RangeIndex: 10841 entries, 0 to 10840\n",
      "Data columns (total 13 columns):\n",
      " #   Column          Non-Null Count  Dtype         \n",
      "---  ------          --------------  -----         \n",
      " 0   App             10841 non-null  object        \n",
      " 1   Category        10841 non-null  object        \n",
      " 2   Rating          9367 non-null   float64       \n",
      " 3   Reviews         10841 non-null  float64       \n",
      " 4   Size            10841 non-null  object        \n",
      " 5   Installs        10841 non-null  int32         \n",
      " 6   Type            10840 non-null  object        \n",
      " 7   Price           10841 non-null  float64       \n",
      " 8   Content Rating  10840 non-null  object        \n",
      " 9   Genres          10841 non-null  object        \n",
      " 10  Last Updated    10840 non-null  datetime64[ns]\n",
      " 11  Current Ver     10833 non-null  object        \n",
      " 12  Android Ver     10838 non-null  object        \n",
      "dtypes: datetime64[ns](1), float64(3), int32(1), object(8)\n",
      "memory usage: 1.0+ MB\n"
     ]
    }
   ],
   "source": [
    "Clean_Data.info()"
   ]
  },
  {
   "cell_type": "code",
   "execution_count": 25,
   "metadata": {},
   "outputs": [
    {
     "name": "stderr",
     "output_type": "stream",
     "text": [
      "C:\\Users\\Ali Hasnain\\AppData\\Local\\Temp\\ipykernel_1596\\4058417048.py:4: SettingWithCopyWarning: \n",
      "A value is trying to be set on a copy of a slice from a DataFrame.\n",
      "Try using .loc[row_indexer,col_indexer] = value instead\n",
      "\n",
      "See the caveats in the documentation: https://pandas.pydata.org/pandas-docs/stable/user_guide/indexing.html#returning-a-view-versus-a-copy\n",
      "  Clean_Data_MB['Size']=Clean_Data['Size'].str.replace('M','')\n",
      "C:\\Users\\Ali Hasnain\\AppData\\Local\\Temp\\ipykernel_1596\\4058417048.py:5: SettingWithCopyWarning: \n",
      "A value is trying to be set on a copy of a slice from a DataFrame.\n",
      "Try using .loc[row_indexer,col_indexer] = value instead\n",
      "\n",
      "See the caveats in the documentation: https://pandas.pydata.org/pandas-docs/stable/user_guide/indexing.html#returning-a-view-versus-a-copy\n",
      "  Clean_Data_KB['Size']=Clean_Data['Size'].str.replace('k','')\n"
     ]
    }
   ],
   "source": [
    "Clean_Data_MB=Clean_Data[Clean_Data['Size'].str.contains('M')]\n",
    "Clean_Data_KB= Clean_Data[Clean_Data['Size'].str.contains('k')]\n",
    "Clean_Data_VWD= Clean_Data[Clean_Data['Size']=='Varies with device']\n",
    "Clean_Data_MB['Size']=Clean_Data['Size'].str.replace('M','')\n",
    "Clean_Data_KB['Size']=Clean_Data['Size'].str.replace('k','')"
   ]
  },
  {
   "cell_type": "code",
   "execution_count": 26,
   "metadata": {},
   "outputs": [
    {
     "name": "stderr",
     "output_type": "stream",
     "text": [
      "C:\\Users\\Ali Hasnain\\AppData\\Local\\Temp\\ipykernel_1596\\3523596605.py:1: SettingWithCopyWarning: \n",
      "A value is trying to be set on a copy of a slice from a DataFrame.\n",
      "Try using .loc[row_indexer,col_indexer] = value instead\n",
      "\n",
      "See the caveats in the documentation: https://pandas.pydata.org/pandas-docs/stable/user_guide/indexing.html#returning-a-view-versus-a-copy\n",
      "  Clean_Data_VWD['Size']= [0 for i in range(0,Clean_Data_VWD.shape[0])] # put 0  as size for Varies with device\n"
     ]
    }
   ],
   "source": [
    "Clean_Data_VWD['Size']= [0 for i in range(0,Clean_Data_VWD.shape[0])] # put 0  as size for Varies with device"
   ]
  },
  {
   "cell_type": "code",
   "execution_count": 27,
   "metadata": {},
   "outputs": [
    {
     "name": "stderr",
     "output_type": "stream",
     "text": [
      "C:\\Users\\Ali Hasnain\\AppData\\Local\\Temp\\ipykernel_1596\\3960612269.py:1: SettingWithCopyWarning: \n",
      "A value is trying to be set on a copy of a slice from a DataFrame.\n",
      "Try using .loc[row_indexer,col_indexer] = value instead\n",
      "\n",
      "See the caveats in the documentation: https://pandas.pydata.org/pandas-docs/stable/user_guide/indexing.html#returning-a-view-versus-a-copy\n",
      "  Clean_Data_KB['Size']=Clean_Data_KB['Size'].apply(lambda x:str(float(x)/1000)) # convert KB to MB\n"
     ]
    }
   ],
   "source": [
    "Clean_Data_KB['Size']=Clean_Data_KB['Size'].apply(lambda x:str(float(x)/1000)) # convert KB to MB"
   ]
  },
  {
   "cell_type": "code",
   "execution_count": 28,
   "metadata": {},
   "outputs": [],
   "source": [
    "Clean_Data= pd.concat([Clean_Data_MB,Clean_Data_KB,Clean_Data_VWD],axis=0)"
   ]
  },
  {
   "cell_type": "code",
   "execution_count": 29,
   "metadata": {},
   "outputs": [],
   "source": [
    "Clean_Data = Clean_Data.rename(columns={'Size':'Size_in_MB'})"
   ]
  },
  {
   "cell_type": "code",
   "execution_count": 30,
   "metadata": {},
   "outputs": [
    {
     "data": {
      "text/html": [
       "<div>\n",
       "<style scoped>\n",
       "    .dataframe tbody tr th:only-of-type {\n",
       "        vertical-align: middle;\n",
       "    }\n",
       "\n",
       "    .dataframe tbody tr th {\n",
       "        vertical-align: top;\n",
       "    }\n",
       "\n",
       "    .dataframe thead th {\n",
       "        text-align: right;\n",
       "    }\n",
       "</style>\n",
       "<table border=\"1\" class=\"dataframe\">\n",
       "  <thead>\n",
       "    <tr style=\"text-align: right;\">\n",
       "      <th></th>\n",
       "      <th>App</th>\n",
       "      <th>Category</th>\n",
       "      <th>Rating</th>\n",
       "      <th>Reviews</th>\n",
       "      <th>Size_in_MB</th>\n",
       "      <th>Installs</th>\n",
       "      <th>Type</th>\n",
       "      <th>Price</th>\n",
       "      <th>Content Rating</th>\n",
       "      <th>Genres</th>\n",
       "      <th>Last Updated</th>\n",
       "      <th>Current Ver</th>\n",
       "      <th>Android Ver</th>\n",
       "    </tr>\n",
       "  </thead>\n",
       "  <tbody>\n",
       "    <tr>\n",
       "      <th>0</th>\n",
       "      <td>Photo Editor &amp; Candy Camera &amp; Grid &amp; ScrapBook</td>\n",
       "      <td>ART_AND_DESIGN</td>\n",
       "      <td>4.1</td>\n",
       "      <td>159.0</td>\n",
       "      <td>19</td>\n",
       "      <td>10000</td>\n",
       "      <td>Free</td>\n",
       "      <td>0.0</td>\n",
       "      <td>Everyone</td>\n",
       "      <td>Art &amp; Design</td>\n",
       "      <td>2018-01-07</td>\n",
       "      <td>1.0.0</td>\n",
       "      <td>4.0.3 and up</td>\n",
       "    </tr>\n",
       "    <tr>\n",
       "      <th>1</th>\n",
       "      <td>Coloring book moana</td>\n",
       "      <td>ART_AND_DESIGN</td>\n",
       "      <td>3.9</td>\n",
       "      <td>967.0</td>\n",
       "      <td>14</td>\n",
       "      <td>500000</td>\n",
       "      <td>Free</td>\n",
       "      <td>0.0</td>\n",
       "      <td>Everyone</td>\n",
       "      <td>Art &amp; Design;Pretend Play</td>\n",
       "      <td>2018-01-15</td>\n",
       "      <td>2.0.0</td>\n",
       "      <td>4.0.3 and up</td>\n",
       "    </tr>\n",
       "    <tr>\n",
       "      <th>2</th>\n",
       "      <td>U Launcher Lite – FREE Live Cool Themes, Hide ...</td>\n",
       "      <td>ART_AND_DESIGN</td>\n",
       "      <td>4.7</td>\n",
       "      <td>87510.0</td>\n",
       "      <td>8.7</td>\n",
       "      <td>5000000</td>\n",
       "      <td>Free</td>\n",
       "      <td>0.0</td>\n",
       "      <td>Everyone</td>\n",
       "      <td>Art &amp; Design</td>\n",
       "      <td>2018-08-01</td>\n",
       "      <td>1.2.4</td>\n",
       "      <td>4.0.3 and up</td>\n",
       "    </tr>\n",
       "    <tr>\n",
       "      <th>3</th>\n",
       "      <td>Sketch - Draw &amp; Paint</td>\n",
       "      <td>ART_AND_DESIGN</td>\n",
       "      <td>4.5</td>\n",
       "      <td>215644.0</td>\n",
       "      <td>25</td>\n",
       "      <td>50000000</td>\n",
       "      <td>Free</td>\n",
       "      <td>0.0</td>\n",
       "      <td>Teen</td>\n",
       "      <td>Art &amp; Design</td>\n",
       "      <td>2018-06-08</td>\n",
       "      <td>Varies with device</td>\n",
       "      <td>4.2 and up</td>\n",
       "    </tr>\n",
       "    <tr>\n",
       "      <th>4</th>\n",
       "      <td>Pixel Draw - Number Art Coloring Book</td>\n",
       "      <td>ART_AND_DESIGN</td>\n",
       "      <td>4.3</td>\n",
       "      <td>967.0</td>\n",
       "      <td>2.8</td>\n",
       "      <td>100000</td>\n",
       "      <td>Free</td>\n",
       "      <td>0.0</td>\n",
       "      <td>Everyone</td>\n",
       "      <td>Art &amp; Design;Creativity</td>\n",
       "      <td>2018-06-20</td>\n",
       "      <td>1.1</td>\n",
       "      <td>4.4 and up</td>\n",
       "    </tr>\n",
       "  </tbody>\n",
       "</table>\n",
       "</div>"
      ],
      "text/plain": [
       "                                                 App        Category  Rating  \\\n",
       "0     Photo Editor & Candy Camera & Grid & ScrapBook  ART_AND_DESIGN     4.1   \n",
       "1                                Coloring book moana  ART_AND_DESIGN     3.9   \n",
       "2  U Launcher Lite – FREE Live Cool Themes, Hide ...  ART_AND_DESIGN     4.7   \n",
       "3                              Sketch - Draw & Paint  ART_AND_DESIGN     4.5   \n",
       "4              Pixel Draw - Number Art Coloring Book  ART_AND_DESIGN     4.3   \n",
       "\n",
       "    Reviews Size_in_MB  Installs  Type  Price Content Rating  \\\n",
       "0     159.0         19     10000  Free    0.0       Everyone   \n",
       "1     967.0         14    500000  Free    0.0       Everyone   \n",
       "2   87510.0        8.7   5000000  Free    0.0       Everyone   \n",
       "3  215644.0         25  50000000  Free    0.0           Teen   \n",
       "4     967.0        2.8    100000  Free    0.0       Everyone   \n",
       "\n",
       "                      Genres Last Updated         Current Ver   Android Ver  \n",
       "0               Art & Design   2018-01-07               1.0.0  4.0.3 and up  \n",
       "1  Art & Design;Pretend Play   2018-01-15               2.0.0  4.0.3 and up  \n",
       "2               Art & Design   2018-08-01               1.2.4  4.0.3 and up  \n",
       "3               Art & Design   2018-06-08  Varies with device    4.2 and up  \n",
       "4    Art & Design;Creativity   2018-06-20                 1.1    4.4 and up  "
      ]
     },
     "execution_count": 30,
     "metadata": {},
     "output_type": "execute_result"
    }
   ],
   "source": [
    "Clean_Data.head()"
   ]
  },
  {
   "cell_type": "code",
   "execution_count": 31,
   "metadata": {},
   "outputs": [],
   "source": [
    "Clean_Data['Size_in_MB'] = Clean_Data['Size_in_MB'].astype('float')"
   ]
  },
  {
   "cell_type": "code",
   "execution_count": 32,
   "metadata": {},
   "outputs": [],
   "source": [
    "Clean_Data['Type'] = Clean_Data['Type'].astype('category')"
   ]
  },
  {
   "cell_type": "code",
   "execution_count": 33,
   "metadata": {},
   "outputs": [],
   "source": [
    "Clean_Data['Content Rating'] = Clean_Data['Content Rating'].astype('category')"
   ]
  },
  {
   "cell_type": "code",
   "execution_count": 34,
   "metadata": {},
   "outputs": [],
   "source": [
    "Clean_Data['Current Ver']= Clean_Data['Current Ver'].replace('Varies with device',0)"
   ]
  },
  {
   "cell_type": "code",
   "execution_count": 35,
   "metadata": {},
   "outputs": [],
   "source": [
    "Clean_Data['Android Ver']= Clean_Data['Android Ver'].replace('Varies with device',0)"
   ]
  },
  {
   "cell_type": "code",
   "execution_count": 36,
   "metadata": {},
   "outputs": [
    {
     "name": "stdout",
     "output_type": "stream",
     "text": [
      "<class 'pandas.core.frame.DataFrame'>\n",
      "Int64Index: 10840 entries, 0 to 10839\n",
      "Data columns (total 13 columns):\n",
      " #   Column          Non-Null Count  Dtype         \n",
      "---  ------          --------------  -----         \n",
      " 0   App             10840 non-null  object        \n",
      " 1   Category        10840 non-null  object        \n",
      " 2   Rating          9366 non-null   float64       \n",
      " 3   Reviews         10840 non-null  float64       \n",
      " 4   Size_in_MB      10840 non-null  float64       \n",
      " 5   Installs        10840 non-null  int32         \n",
      " 6   Type            10839 non-null  category      \n",
      " 7   Price           10840 non-null  float64       \n",
      " 8   Content Rating  10840 non-null  category      \n",
      " 9   Genres          10840 non-null  object        \n",
      " 10  Last Updated    10840 non-null  datetime64[ns]\n",
      " 11  Current Ver     10832 non-null  object        \n",
      " 12  Android Ver     10838 non-null  object        \n",
      "dtypes: category(2), datetime64[ns](1), float64(4), int32(1), object(5)\n",
      "memory usage: 995.4+ KB\n"
     ]
    }
   ],
   "source": [
    "Clean_Data.info()"
   ]
  },
  {
   "cell_type": "code",
   "execution_count": 37,
   "metadata": {},
   "outputs": [
    {
     "data": {
      "text/plain": [
       "App                  0\n",
       "Category             0\n",
       "Rating            1474\n",
       "Reviews              0\n",
       "Size_in_MB           0\n",
       "Installs             0\n",
       "Type                 1\n",
       "Price                0\n",
       "Content Rating       0\n",
       "Genres               0\n",
       "Last Updated         0\n",
       "Current Ver          8\n",
       "Android Ver          2\n",
       "dtype: int64"
      ]
     },
     "execution_count": 37,
     "metadata": {},
     "output_type": "execute_result"
    }
   ],
   "source": [
    "Clean_Data.isnull().sum()"
   ]
  },
  {
   "cell_type": "code",
   "execution_count": 38,
   "metadata": {},
   "outputs": [
    {
     "data": {
      "text/html": [
       "<div>\n",
       "<style scoped>\n",
       "    .dataframe tbody tr th:only-of-type {\n",
       "        vertical-align: middle;\n",
       "    }\n",
       "\n",
       "    .dataframe tbody tr th {\n",
       "        vertical-align: top;\n",
       "    }\n",
       "\n",
       "    .dataframe thead th {\n",
       "        text-align: right;\n",
       "    }\n",
       "</style>\n",
       "<table border=\"1\" class=\"dataframe\">\n",
       "  <thead>\n",
       "    <tr style=\"text-align: right;\">\n",
       "      <th></th>\n",
       "      <th>App</th>\n",
       "      <th>Category</th>\n",
       "      <th>Rating</th>\n",
       "      <th>Reviews</th>\n",
       "      <th>Size_in_MB</th>\n",
       "      <th>Installs</th>\n",
       "      <th>Type</th>\n",
       "      <th>Price</th>\n",
       "      <th>Content Rating</th>\n",
       "      <th>Genres</th>\n",
       "      <th>Last Updated</th>\n",
       "      <th>Current Ver</th>\n",
       "      <th>Android Ver</th>\n",
       "    </tr>\n",
       "  </thead>\n",
       "  <tbody>\n",
       "    <tr>\n",
       "      <th>9148</th>\n",
       "      <td>Command &amp; Conquer: Rivals</td>\n",
       "      <td>FAMILY</td>\n",
       "      <td>NaN</td>\n",
       "      <td>0.0</td>\n",
       "      <td>0.0</td>\n",
       "      <td>0</td>\n",
       "      <td>NaN</td>\n",
       "      <td>0.0</td>\n",
       "      <td>Everyone 10+</td>\n",
       "      <td>Strategy</td>\n",
       "      <td>2018-06-28</td>\n",
       "      <td>0</td>\n",
       "      <td>0</td>\n",
       "    </tr>\n",
       "  </tbody>\n",
       "</table>\n",
       "</div>"
      ],
      "text/plain": [
       "                            App Category  Rating  Reviews  Size_in_MB  \\\n",
       "9148  Command & Conquer: Rivals   FAMILY     NaN      0.0         0.0   \n",
       "\n",
       "      Installs Type  Price Content Rating    Genres Last Updated Current Ver  \\\n",
       "9148         0  NaN    0.0   Everyone 10+  Strategy   2018-06-28           0   \n",
       "\n",
       "     Android Ver  \n",
       "9148           0  "
      ]
     },
     "execution_count": 38,
     "metadata": {},
     "output_type": "execute_result"
    }
   ],
   "source": [
    "Clean_Data[Clean_Data.Type.isnull()]"
   ]
  },
  {
   "cell_type": "code",
   "execution_count": 39,
   "metadata": {},
   "outputs": [],
   "source": [
    "Clean_Data[\"Type\"].fillna(\"Free\",inplace=True)   # because price is equal to 0 so I fill NaN value with free "
   ]
  },
  {
   "cell_type": "code",
   "execution_count": 40,
   "metadata": {},
   "outputs": [
    {
     "data": {
      "text/plain": [
       "App                  0\n",
       "Category             0\n",
       "Rating            1474\n",
       "Reviews              0\n",
       "Size_in_MB           0\n",
       "Installs             0\n",
       "Type                 0\n",
       "Price                0\n",
       "Content Rating       0\n",
       "Genres               0\n",
       "Last Updated         0\n",
       "Current Ver          8\n",
       "Android Ver          2\n",
       "dtype: int64"
      ]
     },
     "execution_count": 40,
     "metadata": {},
     "output_type": "execute_result"
    }
   ],
   "source": [
    "Clean_Data.isnull().sum()"
   ]
  },
  {
   "cell_type": "code",
   "execution_count": 41,
   "metadata": {},
   "outputs": [],
   "source": [
    "Clean_Data.dropna(subset=[\"Current Ver\"],inplace=True)"
   ]
  },
  {
   "cell_type": "code",
   "execution_count": 42,
   "metadata": {},
   "outputs": [],
   "source": [
    "Clean_Data.dropna(subset=[\"Android Ver\"],inplace=True)"
   ]
  },
  {
   "cell_type": "code",
   "execution_count": 43,
   "metadata": {},
   "outputs": [
    {
     "data": {
      "text/plain": [
       "App                  0\n",
       "Category             0\n",
       "Rating            1470\n",
       "Reviews              0\n",
       "Size_in_MB           0\n",
       "Installs             0\n",
       "Type                 0\n",
       "Price                0\n",
       "Content Rating       0\n",
       "Genres               0\n",
       "Last Updated         0\n",
       "Current Ver          0\n",
       "Android Ver          0\n",
       "dtype: int64"
      ]
     },
     "execution_count": 43,
     "metadata": {},
     "output_type": "execute_result"
    }
   ],
   "source": [
    "Clean_Data.isnull().sum()"
   ]
  },
  {
   "cell_type": "code",
   "execution_count": 44,
   "metadata": {},
   "outputs": [],
   "source": [
    "Clean_Data['Rating'].fillna(method = 'bfill', axis = 0, inplace=True)"
   ]
  },
  {
   "cell_type": "code",
   "execution_count": 45,
   "metadata": {},
   "outputs": [
    {
     "data": {
      "text/plain": [
       "App               0\n",
       "Category          0\n",
       "Rating            0\n",
       "Reviews           0\n",
       "Size_in_MB        0\n",
       "Installs          0\n",
       "Type              0\n",
       "Price             0\n",
       "Content Rating    0\n",
       "Genres            0\n",
       "Last Updated      0\n",
       "Current Ver       0\n",
       "Android Ver       0\n",
       "dtype: int64"
      ]
     },
     "execution_count": 45,
     "metadata": {},
     "output_type": "execute_result"
    }
   ],
   "source": [
    "Clean_Data.isnull().sum()"
   ]
  },
  {
   "cell_type": "markdown",
   "metadata": {},
   "source": [
    "- It will check the all observation if there is duplicate it will remove it"
   ]
  },
  {
   "cell_type": "code",
   "execution_count": 46,
   "metadata": {},
   "outputs": [],
   "source": [
    "Clean_Data.drop_duplicates(inplace=True)"
   ]
  },
  {
   "cell_type": "markdown",
   "metadata": {},
   "source": [
    "- Check the difference b/w cleaned and un cleaned data"
   ]
  },
  {
   "cell_type": "code",
   "execution_count": 47,
   "metadata": {},
   "outputs": [
    {
     "data": {
      "text/plain": [
       "134615"
      ]
     },
     "execution_count": 47,
     "metadata": {},
     "output_type": "execute_result"
    }
   ],
   "source": [
    "Clean_Data.size"
   ]
  },
  {
   "cell_type": "code",
   "execution_count": 48,
   "metadata": {},
   "outputs": [
    {
     "data": {
      "text/plain": [
       "140933"
      ]
     },
     "execution_count": 48,
     "metadata": {},
     "output_type": "execute_result"
    }
   ],
   "source": [
    "app.size"
   ]
  },
  {
   "cell_type": "markdown",
   "metadata": {},
   "source": [
    "# - Begin With The EDA Now"
   ]
  },
  {
   "cell_type": "code",
   "execution_count": 49,
   "metadata": {},
   "outputs": [
    {
     "data": {
      "text/plain": [
       "<AxesSubplot:xlabel='Rating', ylabel='Category'>"
      ]
     },
     "execution_count": 49,
     "metadata": {},
     "output_type": "execute_result"
    },
    {
     "data": {
      "image/png": "[encoded data removed]",
      "text/plain": [
       "<Figure size 432x288 with 1 Axes>"
      ]
     },
     "metadata": {
      "needs_background": "light"
     },
     "output_type": "display_data"
    }
   ],
   "source": [
    "sns.lineplot(x='Rating',y='Category', data=Clean_Data)"
   ]
  },
  {
   "cell_type": "code",
   "execution_count": 50,
   "metadata": {},
   "outputs": [
    {
     "data": {
      "text/plain": [
       "<AxesSubplot:xlabel='Rating', ylabel='Count'>"
      ]
     },
     "execution_count": 50,
     "metadata": {},
     "output_type": "execute_result"
    },
    {
     "data": {
      "image/png": "[encoded data removed]",
      "text/plain": [
       "<Figure size 432x288 with 1 Axes>"
      ]
     },
     "metadata": {
      "needs_background": "light"
     },
     "output_type": "display_data"
    }
   ],
   "source": [
    "sns.histplot(x='Rating', data=Clean_Data)"
   ]
  },
  {
   "cell_type": "code",
   "execution_count": 51,
   "metadata": {},
   "outputs": [
    {
     "data": {
      "application/vnd.plotly.v1+json": {
       "config": {
        "plotlyServerURL": "https://plot.ly"
       },
       "data": [
        {
         "alignmentgroup": "True",
         "bingroup": "x",
         "hovertemplate": "Type=Free<br>Rating=%{x}<br>count=%{y}<extra></extra>",
         "legendgroup": "Free",
         "marker": {
          "color": "#636efa",
          "pattern": {
           "shape": ""
          }
         },
         "name": "Free",
         "offsetgroup": "Free",
         "orientation": "v",
         "showlegend": true,
         "type": "histogram",
         "x": [
          4.1,
          3.9,
          4.7,
          4.5,
          4.3,
          4.4,
          3.8,
          4.1,
          4.4,
          4.7,
          4.4,
          4.4,
          4.2,
          4.6,
          4.4,
          4.7,
          4.5,
          4.3,
          4.6,
          4,
          4.1,
          4.7,
          4.7,
          4.7,
          4.8,
          4.7,
          4.1,
          3.9,
          4.1,
          4.2,
          4.1,
          4.5,
          4.2,
          4.7,
          3.8,
          4.7,
          4.7,
          4,
          4.2,
          4.5,
          3.8,
          4.2,
          4.7,
          4.6,
          4.2,
          4.3,
          4.2,
          4,
          3.8,
          3.9,
          4.3,
          4.9,
          4.4,
          4.2,
          3.9,
          4.6,
          4.9,
          4.3,
          4.6,
          4.9,
          3.9,
          4,
          4.2,
          4.8,
          3.6,
          4.2,
          4.8,
          4.6,
          4.5,
          4.3,
          4.5,
          4.9,
          3.9,
          4.4,
          4,
          4.3,
          3.7,
          4.3,
          3.2,
          4.5,
          3.7,
          4.6,
          4.6,
          4,
          4.4,
          4,
          4.7,
          4.9,
          4.7,
          3.9,
          4.2,
          4.6,
          4.3,
          4.7,
          4.8,
          4.3,
          4.5,
          4.1,
          4.2,
          4.2,
          4.5,
          4.4,
          4.1,
          4.4,
          4.6,
          4.5,
          3.9,
          3.9,
          4.4,
          4.6,
          4.6,
          3.8,
          4,
          4,
          4,
          4.3,
          4.5,
          4.1,
          4.1,
          3.7,
          4.7,
          4.2,
          4.5,
          4.6,
          4.5,
          4.4,
          4.6,
          4.8,
          4.6,
          4.2,
          4.1,
          4.7,
          4.3,
          3.3,
          4.6,
          4.8,
          4.1,
          4.1,
          4.6,
          4.1,
          4.6,
          4.7,
          4.5,
          3.9,
          4.4,
          4.5,
          4.4,
          3.4,
          4.9,
          4.6,
          4.4,
          4.4,
          4.4,
          4.4,
          3.5,
          4.4,
          4.4,
          4.3,
          4.3,
          3.9,
          4.8,
          4.5,
          4.4,
          4,
          4.3,
          4.2,
          4.6,
          3.9,
          4.1,
          4.4,
          4.5,
          4.4,
          4.4,
          4.3,
          4.4,
          4.6,
          4.4,
          4.7,
          3.8,
          4.7,
          4.7,
          4.5,
          4.2,
          4.2,
          4.3,
          4.1,
          3.8,
          4.3,
          3.8,
          4.1,
          4.6,
          4.3,
          4.5,
          4.1,
          4.5,
          4.6,
          4.2,
          4.4,
          4,
          4.2,
          4.1,
          3.8,
          3.9,
          4.3,
          4.5,
          4.6,
          4.7,
          4.7,
          4.8,
          3.9,
          4.1,
          4.4,
          4.6,
          4.5,
          4.7,
          4.4,
          4.5,
          3.9,
          3.2,
          3.2,
          4.1,
          4.5,
          4.2,
          3.7,
          4.5,
          4.6,
          4.7,
          4.7,
          4.4,
          3.5,
          3.3,
          4.5,
          4.2,
          5,
          4.7,
          4.4,
          4.4,
          4.6,
          4.3,
          4.3,
          4.3,
          4.3,
          4.3,
          4.3,
          4,
          4.3,
          3.9,
          3.6,
          4.4,
          4.4,
          4.2,
          4.4,
          4.4,
          3.9,
          4.4,
          3.9,
          4.5,
          3.7,
          4.3,
          4.3,
          4.1,
          4.2,
          4.4,
          4.1,
          4.3,
          4.5,
          4.3,
          4.4,
          4.2,
          4.6,
          4.2,
          4.4,
          4.5,
          4.1,
          4.1,
          4.3,
          4.1,
          4.2,
          4.2,
          4.2,
          4.3,
          4.4,
          4.2,
          4.4,
          4.1,
          4.2,
          4.8,
          4.4,
          4.4,
          4.4,
          4.4,
          4.2,
          4.5,
          4.3,
          4.2,
          4.6,
          4.1,
          4,
          4.1,
          4.3,
          4.1,
          4.6,
          4.1,
          4.1,
          4.2,
          4.5,
          4.4,
          4,
          3.1,
          4.4,
          4.2,
          4.1,
          3.9,
          4.3,
          4.4,
          3.5,
          3.3,
          4.5,
          4.4,
          4.1,
          3.9,
          3.9,
          3.6,
          3.6,
          3.4,
          4.2,
          4.1,
          3.4,
          3,
          4.6,
          4.1,
          3.9,
          1.9,
          3.5,
          2.5,
          3.9,
          3.4,
          3.5,
          4.4,
          3.8,
          2.5,
          2.8,
          4.2,
          3.5,
          3.3,
          4.1,
          4.2,
          3.5,
          4.2,
          4.4,
          4.1,
          4.2,
          4.3,
          3,
          4,
          3.3,
          4.1,
          3.7,
          3.9,
          3.5,
          3.9,
          4,
          4.6,
          4,
          4.1,
          3.3,
          4.4,
          4.2,
          3.9,
          4.3,
          3.4,
          4.2,
          4.1,
          4,
          3.6,
          4.2,
          3.5,
          4,
          4.1,
          4.4,
          4.4,
          4.2,
          4.1,
          4.2,
          4.1,
          4.2,
          3.9,
          4,
          4.2,
          4.5,
          3.9,
          3.6,
          4.4,
          3.5,
          4.4,
          4.8,
          4.6,
          4.7,
          4.8,
          2.7,
          2.7,
          5,
          4.8,
          4.8,
          5,
          4.8,
          4.9,
          4.9,
          3,
          4.7,
          4.7,
          4.7,
          1,
          1,
          1,
          5,
          5,
          5,
          5,
          5,
          5,
          5,
          5,
          4.7,
          5,
          5,
          5,
          5,
          5,
          5,
          3,
          3,
          3,
          3,
          3,
          4.1,
          5,
          5,
          5,
          5,
          5,
          5,
          5,
          5,
          3.7,
          4.5,
          4.2,
          4.3,
          4.3,
          4.3,
          4.3,
          4.1,
          1.9,
          4.1,
          3.9,
          4.4,
          3.8,
          4.4,
          4.4,
          4.3,
          3.4,
          3.4,
          4.7,
          4.8,
          4.7,
          3.5,
          4.7,
          3.8,
          2.9,
          4.1,
          4.6,
          4.6,
          4.7,
          4.6,
          4.7,
          4.5,
          4.5,
          4.7,
          4.8,
          4.6,
          4.6,
          4.6,
          4.9,
          3.8,
          4.4,
          4.4,
          4.3,
          4.5,
          4.4,
          4.6,
          3.9,
          4.4,
          4.3,
          4.2,
          4.4,
          4,
          4.2,
          3.8,
          4.5,
          4.5,
          4.3,
          4.3,
          4.7,
          4.5,
          4.6,
          4.4,
          4.2,
          4,
          4.1,
          4.3,
          4.3,
          4.3,
          4.6,
          4.6,
          4.7,
          4.7,
          4.3,
          4.7,
          4.6,
          4.6,
          4.6,
          4.2,
          4,
          4.2,
          4.1,
          4.5,
          4,
          4.6,
          4.5,
          4.6,
          4.3,
          4.7,
          4.4,
          4.5,
          4.4,
          4,
          4.6,
          4.4,
          4.7,
          4.3,
          4.2,
          4.3,
          4.3,
          4.3,
          4.2,
          4,
          4,
          4.1,
          3.9,
          4.1,
          4.4,
          4,
          4.4,
          4.5,
          4.3,
          4.3,
          3.5,
          4.4,
          4.4,
          4.8,
          4.1,
          4,
          4.3,
          3.5,
          4.6,
          4.2,
          3.8,
          4.3,
          4.4,
          4.4,
          3.7,
          4.4,
          4.2,
          4.2,
          4.5,
          4.7,
          4.5,
          4.5,
          4.2,
          4.2,
          4.1,
          4.2,
          4.3,
          3.9,
          4.1,
          3.6,
          4.3,
          4.3,
          4.2,
          4.1,
          4.2,
          4.2,
          4.5,
          3.8,
          3,
          4.1,
          4.2,
          4.1,
          4,
          4.4,
          4.2,
          4,
          4.3,
          3.9,
          4.3,
          4.5,
          4.1,
          4.5,
          3.6,
          3.8,
          4,
          3.7,
          3.8,
          3.7,
          3.9,
          4.1,
          3.9,
          4.2,
          4.3,
          4.3,
          4.6,
          4.5,
          4.2,
          4.4,
          4.2,
          4.3,
          4.3,
          4,
          4,
          4.5,
          4.5,
          4,
          4.2,
          4.4,
          4.6,
          4.6,
          4.6,
          4.6,
          4.4,
          4.6,
          4.5,
          4.6,
          4.3,
          4.3,
          4.3,
          4.3,
          5,
          4.4,
          5,
          4.5,
          4.8,
          4.8,
          4.8,
          4.8,
          4.4,
          5,
          3.7,
          3.7,
          4.1,
          4.1,
          4.8,
          4.8,
          4.6,
          4.6,
          4.6,
          3.6,
          3.8,
          4.2,
          4.2,
          4.2,
          4.2,
          4.7,
          4.7,
          4,
          3.6,
          4,
          4.2,
          4,
          4.1,
          4.4,
          4.5,
          4.3,
          4.6,
          4.3,
          4.5,
          4.5,
          3.6,
          4.1,
          3.5,
          4.4,
          4.5,
          4.2,
          4.2,
          4.8,
          4.5,
          4.2,
          4.4,
          4.6,
          4.6,
          4.4,
          4.3,
          4.2,
          3.8,
          4.5,
          4.6,
          4.6,
          4.7,
          4.6,
          4.6,
          3.8,
          4.3,
          4.5,
          4.6,
          4.6,
          4.7,
          4.5,
          4.4,
          3.9,
          4.1,
          4.4,
          4.4,
          3.9,
          4.5,
          4.1,
          4.6,
          4.3,
          4.4,
          4.1,
          4.4,
          4.2,
          4.3,
          4.3,
          4.3,
          3.9,
          4.1,
          4.1,
          4.2,
          4.5,
          4.7,
          4.4,
          4.6,
          4.6,
          4.4,
          4.6,
          4.3,
          4,
          4.4,
          4.6,
          4.1,
          3.6,
          4.1,
          4.1,
          4.6,
          4.7,
          4.7,
          4.7,
          4.1,
          3.4,
          3.8,
          3.7,
          4.2,
          3.5,
          4.7,
          4.5,
          4.2,
          4.3,
          4,
          4.5,
          4.6,
          4.1,
          3.8,
          4.2,
          4.3,
          3.8,
          3.7,
          4.5,
          3.6,
          4.8,
          3.3,
          4.7,
          4.6,
          4.6,
          3.4,
          4,
          4.5,
          4.4,
          4,
          4.1,
          4.5,
          4.5,
          4.3,
          3.6,
          4.6,
          3.9,
          4.6,
          4.4,
          4.2,
          4.3,
          4.2,
          4.5,
          4.3,
          4,
          4.8,
          4,
          4.9,
          4.8,
          4.9,
          4.8,
          4.4,
          3.3,
          4.7,
          4.6,
          4.8,
          4.8,
          4.5,
          4.4,
          4.5,
          4.5,
          4.5,
          4.8,
          4.6,
          4.5,
          4.7,
          4.7,
          4.2,
          4.2,
          4.4,
          4.6,
          4.2,
          4.5,
          3.7,
          4.5,
          4.6,
          4.6,
          4.5,
          4.5,
          4.6,
          4,
          4.3,
          4.6,
          4.9,
          4.5,
          4.6,
          4.5,
          4.6,
          4.6,
          4.5,
          4.5,
          4.5,
          4.6,
          4.4,
          4.4,
          4.4,
          4.2,
          4.5,
          4.5,
          4.4,
          4.6,
          4.9,
          4.4,
          4.3,
          4.7,
          4.6,
          4.3,
          4.3,
          4.6,
          4.6,
          4.6,
          4.6,
          4.5,
          4.1,
          4.6,
          4.8,
          4.5,
          4.4,
          4.5,
          4.3,
          4.6,
          4.4,
          4.7,
          4.2,
          4.5,
          4.5,
          4,
          4.6,
          4.1,
          4,
          4.4,
          4.1,
          3.5,
          4.3,
          4.2,
          4.5,
          4.1,
          4.5,
          3.7,
          4.6,
          4.7,
          4,
          4.4,
          4.8,
          4.4,
          4.5,
          4.8,
          4.5,
          4.1,
          4.1,
          4,
          4.3,
          3.7,
          3.7,
          4.2,
          4.5,
          4.3,
          3.9,
          4.3,
          4.6,
          4.4,
          4.4,
          4.7,
          3.4,
          4.3,
          4,
          4,
          3.8,
          4.3,
          4.3,
          3.6,
          4.6,
          4.5,
          4.5,
          4.7,
          4.3,
          3.7,
          4.2,
          4.2,
          3.4,
          3.9,
          4,
          4,
          4,
          4,
          4.1,
          3.9,
          4.4,
          4.4,
          4.3,
          4.1,
          4.4,
          4.6,
          4.1,
          4.1,
          4.6,
          4.6,
          4.6,
          4.7,
          4.3,
          4.5,
          4.4,
          4.3,
          4.3,
          4.3,
          4.6,
          4.2,
          4.2,
          4.6,
          4.6,
          4.6,
          4.4,
          4.4,
          4.4,
          4.5,
          4.3,
          5,
          3.2,
          4.5,
          4.7,
          4,
          3.8,
          3.8,
          4.7,
          4.5,
          4.2,
          4.2,
          4.1,
          4.1,
          3.1,
          4.1,
          4.1,
          4.3,
          4,
          4.6,
          4.4,
          4.4,
          4.3,
          4.6,
          3.2,
          4.5,
          4.6,
          4.6,
          4.3,
          3,
          4.4,
          4.4,
          4.3,
          3.5,
          4.3,
          4.5,
          3.7,
          4.5,
          4.2,
          4.3,
          4.6,
          4.5,
          3.9,
          4.3,
          3.3,
          4.7,
          4.2,
          3.2,
          4.4,
          3.5,
          3.7,
          3.8,
          3.8,
          3.7,
          4.6,
          4,
          3.8,
          4.7,
          3.9,
          4.1,
          4.6,
          4.2,
          4.2,
          4.6,
          4.1,
          3.9,
          4,
          4.1,
          4.6,
          4.1,
          4.1,
          4.4,
          4.3,
          4.3,
          4.4,
          4.2,
          4.4,
          4.3,
          4,
          4.2,
          3.9,
          4.4,
          4.5,
          4.8,
          4.5,
          4.5,
          4.5,
          4.5,
          4.4,
          4.7,
          4.5,
          4.2,
          4.6,
          4.3,
          4.3,
          4.2,
          4.6,
          4.4,
          4.4,
          4.5,
          4.4,
          4.3,
          4.6,
          4.2,
          4.2,
          4.5,
          4.5,
          4.7,
          4.7,
          4.5,
          4.4,
          4.3,
          3.8,
          4.1,
          4.3,
          4.4,
          4.3,
          4.4,
          4.7,
          4.4,
          4.6,
          4.5,
          4.4,
          4.5,
          4.5,
          4.3,
          4.5,
          4.4,
          4.4,
          4.5,
          4.6,
          4.5,
          4.5,
          4.5,
          4.8,
          4.7,
          4.4,
          4.5,
          4.6,
          4.6,
          4.5,
          4.4,
          4.7,
          4.3,
          4.3,
          4.3,
          4.5,
          4.4,
          4.5,
          4.5,
          4.6,
          4.7,
          4.6,
          4.4,
          4.4,
          4.5,
          4.3,
          4.5,
          4.5,
          4.4,
          4.5,
          4.2,
          4.5,
          4.2,
          4.5,
          4.5,
          4.5,
          4.1,
          4.8,
          4.4,
          4.2,
          4.4,
          4.7,
          4.3,
          4.7,
          4.2,
          4.3,
          4.1,
          4.1,
          4.2,
          4.7,
          4.6,
          4.5,
          3.1,
          4.1,
          3.4,
          4.4,
          4.6,
          4.3,
          4.6,
          4.2,
          4.2,
          4.5,
          4.4,
          4.2,
          4.5,
          4.4,
          4.6,
          4.5,
          4.3,
          4.6,
          4.5,
          4.6,
          4.1,
          4.5,
          4.6,
          4.4,
          4.7,
          4.6,
          4.5,
          4.6,
          4.2,
          4.5,
          4.8,
          4.1,
          4.3,
          4.4,
          4,
          4.2,
          4.2,
          4.5,
          4.7,
          4.2,
          4.6,
          4.5,
          4.4,
          4.6,
          4.5,
          4.6,
          4.4,
          4.3,
          4.3,
          4.3,
          4.3,
          4.6,
          4.5,
          4.5,
          4.2,
          4.7,
          4.3,
          4,
          4.4,
          4.3,
          4.6,
          4.7,
          4.4,
          4.4,
          4.3,
          4.4,
          4.5,
          4.5,
          4.5,
          4.4,
          4.3,
          4.5,
          4.6,
          4.6,
          4.4,
          4.4,
          4.7,
          4.6,
          4.5,
          4.3,
          4.3,
          4.3,
          4.8,
          4.5,
          4.5,
          4.5,
          4.6,
          4.7,
          4.5,
          4.5,
          4.6,
          4.5,
          4.4,
          4.4,
          4.6,
          4.4,
          4.7,
          4.6,
          4.5,
          4.5,
          4.2,
          4.5,
          4.3,
          4.6,
          4.7,
          4.4,
          4.6,
          4.5,
          4.5,
          4.5,
          4.6,
          4.6,
          4.3,
          4.7,
          4.5,
          4.7,
          4.6,
          4.4,
          4.3,
          4.3,
          4.4,
          4.2,
          4.3,
          4.4,
          4.7,
          4.2,
          4.1,
          4.5,
          4.1,
          4.3,
          4.5,
          4.6,
          4,
          4.3,
          4.5,
          4.2,
          4.5,
          4.6,
          4.5,
          4.7,
          4.5,
          4.5,
          4.5,
          4.4,
          4.6,
          4.4,
          4.7,
          4.7,
          4.4,
          4.3,
          4.4,
          4.5,
          4.4,
          4.4,
          4.6,
          4.4,
          4.6,
          4.6,
          4.2,
          4.7,
          4.3,
          4.6,
          4.4,
          4.4,
          4.3,
          4.7,
          4.4,
          4.5,
          4.4,
          4.4,
          4.5,
          4.6,
          4.5,
          4.3,
          4.7,
          4.4,
          4.5,
          4.2,
          4.5,
          4.5,
          4.7,
          4.4,
          4.3,
          4.6,
          3.9,
          4.2,
          4.5,
          4.5,
          4.4,
          4.4,
          4.8,
          4.4,
          4.4,
          4.3,
          4.6,
          4.1,
          4.5,
          4.5,
          4,
          4.6,
          4.5,
          4.5,
          4.5,
          4.4,
          4.5,
          4.2,
          4.3,
          4.5,
          4.4,
          4.6,
          4.5,
          4.2,
          4.5,
          4.6,
          4.6,
          4.1,
          4.5,
          4.6,
          4.6,
          4.3,
          3.8,
          4.5,
          4.8,
          3.9,
          4.5,
          4.4,
          4.5,
          4.7,
          4.1,
          4.5,
          4.6,
          4.3,
          4.3,
          4.5,
          4.2,
          4.2,
          4.4,
          4.5,
          4.1,
          4.2,
          4.1,
          4.7,
          4.3,
          4.4,
          4.4,
          4.3,
          4.3,
          4.4,
          4.3,
          4.2,
          4.2,
          4.3,
          4.3,
          4.1,
          4.2,
          4.3,
          4.3,
          4.5,
          4.1,
          4.5,
          4.2,
          4.4,
          4,
          4.1,
          4.4,
          4.1,
          4,
          4.3,
          4.6,
          4.3,
          4.7,
          4.3,
          4.4,
          4.7,
          3.9,
          4.1,
          4.1,
          4.1,
          4.3,
          4.3,
          4.1,
          4.1,
          4.1,
          4.6,
          4.1,
          4.4,
          4.4,
          4,
          4.8,
          3.8,
          4.5,
          4.1,
          4.4,
          3.9,
          4.4,
          3.6,
          4.4,
          4.1,
          3.6,
          4.5,
          3.9,
          4.1,
          3.9,
          4.1,
          4.2,
          3.8,
          4.3,
          3.9,
          4.3,
          4.2,
          4,
          4.3,
          4.3,
          4.2,
          4.3,
          4.2,
          4.6,
          4.1,
          4.5,
          4.8,
          4.6,
          4.8,
          4,
          3.7,
          4.2,
          4.8,
          3.5,
          3.9,
          4.2,
          4.8,
          2.7,
          4.2,
          4.7,
          4.6,
          4.5,
          4.7,
          4.7,
          4.5,
          4.7,
          4,
          3.4,
          3.5,
          3,
          4.7,
          4.6,
          4.2,
          4.8,
          4.5,
          4.2,
          3.8,
          4.5,
          4,
          3.6,
          4.4,
          4.7,
          4.9,
          3.6,
          4.5,
          4.1,
          4.6,
          4.7,
          4.7,
          2.8,
          4.6,
          3.4,
          4,
          4,
          4.8,
          4.2,
          3,
          4.5,
          3.7,
          4.5,
          4.5,
          3.6,
          4.4,
          4.4,
          4.5,
          4.1,
          4.3,
          4.3,
          4.7,
          4.5,
          4.2,
          4.4,
          3.9,
          4.2,
          4.1,
          4.1,
          3.5,
          4,
          4.3,
          4.3,
          2.3,
          4.5,
          4.3,
          3.1,
          4.4,
          2.9,
          3.1,
          3.7,
          3.8,
          4.4,
          3.7,
          5,
          3,
          3.7,
          3.7,
          3.7,
          3.7,
          3.7,
          3.7,
          3.7,
          3.7,
          3.7,
          3.7,
          3.7,
          3.7,
          3.7,
          3.7,
          3.7,
          3.7,
          5,
          5,
          5,
          5,
          5,
          5,
          5,
          5,
          5,
          5,
          5,
          5,
          5,
          5,
          5,
          4.3,
          4.3,
          4.3,
          4.3,
          4.9,
          5,
          5,
          5,
          5,
          5,
          5,
          5,
          5,
          4.9,
          4.9,
          4.9,
          4.6,
          5,
          4,
          4,
          4,
          4,
          4,
          5,
          5,
          2.6,
          4.8,
          4.3,
          4.7,
          2.5,
          4.6,
          4.5,
          4.3,
          3.8,
          4.4,
          4.5,
          4.5,
          4.5,
          4.5,
          3.8,
          4,
          4.5,
          3.7,
          4.3,
          4.4,
          4.4,
          3.8,
          2.7,
          4.3,
          5,
          4.3,
          4.7,
          5,
          4.7,
          4.6,
          4.6,
          3.1,
          4.4,
          5,
          3.6,
          2.8,
          4.4,
          4.6,
          4.2,
          3.8,
          3.8,
          3.5,
          4.4,
          4.2,
          4.3,
          4.4,
          4.4,
          4.3,
          4.4,
          4.5,
          4.6,
          4.6,
          4.6,
          4.4,
          4.5,
          4.3,
          4.4,
          4.6,
          4.3,
          4.8,
          4.6,
          4.6,
          4.3,
          3.6,
          4,
          4.4,
          4.5,
          4.2,
          4.1,
          4.5,
          4.2,
          4.3,
          3.7,
          3.7,
          4.1,
          4,
          4.1,
          4.3,
          4.2,
          4.2,
          4.3,
          4.1,
          4,
          4.3,
          4,
          4.4,
          4,
          4.1,
          4,
          4.2,
          4.4,
          4,
          4.5,
          4.3,
          4.2,
          4.3,
          4.5,
          4.3,
          4.2,
          4.4,
          4.2,
          3.6,
          4.5,
          4.4,
          3.8,
          3.6,
          4.2,
          3.6,
          4.4,
          4.5,
          4.1,
          4.3,
          4.3,
          4.2,
          4.2,
          4.2,
          4.3,
          4.6,
          4.4,
          3.8,
          4.6,
          4.5,
          4.1,
          3.8,
          3.3,
          4.1,
          4.2,
          4.4,
          4.1,
          4.2,
          4.3,
          4.5,
          4.1,
          4.5,
          4.5,
          4.6,
          4.7,
          4.3,
          4.4,
          4.4,
          4.1,
          4.5,
          4.6,
          4.3,
          4.1,
          4.6,
          4.2,
          4.2,
          4.2,
          4.2,
          4,
          4.4,
          4,
          4.5,
          4.2,
          4.3,
          4.4,
          4.5,
          4.6,
          4.3,
          4.7,
          4,
          4.5,
          4.1,
          4.4,
          4.5,
          4.4,
          4.1,
          4.3,
          4.5,
          4.5,
          4.7,
          4.1,
          4.6,
          4.8,
          4,
          4.7,
          4.7,
          4.1,
          4.5,
          4.7,
          4.7,
          4.5,
          4.5,
          4.5,
          4.4,
          4.3,
          4.5,
          4.4,
          3.3,
          4.4,
          4.5,
          4.5,
          4.7,
          4.5,
          4.6,
          4.4,
          4.3,
          4.6,
          4.5,
          4.5,
          4.2,
          4,
          4.7,
          4.3,
          4.6,
          4.4,
          4.3,
          4.3,
          4.4,
          4.4,
          4.6,
          4.3,
          4.2,
          4.4,
          3.9,
          4.2,
          4.3,
          4.3,
          4.1,
          4.3,
          4,
          4,
          4,
          4.4,
          4.3,
          4.1,
          4.2,
          3.9,
          4.4,
          4,
          4.3,
          4.2,
          4,
          4.1,
          4.1,
          4,
          4,
          4.4,
          4.1,
          4.2,
          4.3,
          4.4,
          4.4,
          4.6,
          4,
          4.1,
          4.2,
          4.6,
          4.2,
          4.4,
          4.4,
          4.1,
          4.4,
          4.5,
          3.8,
          4.3,
          4.4,
          4.2,
          4.3,
          4.2,
          4.1,
          4.3,
          4,
          4.6,
          4.3,
          4.5,
          4.3,
          4.4,
          4.7,
          4.6,
          4.2,
          4.3,
          4.5,
          4.6,
          3.9,
          4.3,
          4.6,
          4.3,
          4,
          4,
          4.6,
          4.3,
          4.2,
          4,
          4.6,
          4.7,
          4.3,
          4,
          4.5,
          4.7,
          4.4,
          4.8,
          4.3,
          4.4,
          3.9,
          4.4,
          4.1,
          4,
          3.1,
          2.9,
          4.5,
          4.3,
          4.1,
          4.3,
          4.4,
          4.2,
          4.3,
          3.4,
          4.2,
          4,
          4,
          4.6,
          4.5,
          4.4,
          4,
          3.5,
          4,
          4.8,
          4.1,
          4.3,
          4.4,
          4.6,
          4.5,
          4.3,
          4.5,
          4,
          4.1,
          3.5,
          4.5,
          3.9,
          4.2,
          4.6,
          4.5,
          4.4,
          4,
          4.2,
          3.9,
          4.1,
          4.4,
          4.3,
          4.5,
          4.5,
          4.4,
          4.4,
          4,
          4.7,
          4.6,
          3.9,
          3.6,
          3.9,
          4.1,
          3.1,
          3.7,
          3.4,
          3.6,
          3.3,
          3,
          3.6,
          4.8,
          4.5,
          3.7,
          4.5,
          4.4,
          4.1,
          4,
          3.9,
          4.4,
          4.3,
          4.2,
          3.5,
          4.3,
          4.7,
          4.3,
          4.1,
          4.2,
          4.3,
          4.3,
          4.4,
          4.2,
          4.2,
          4.4,
          4.4,
          4.4,
          4.4,
          3.7,
          3.6,
          4.4,
          4.1,
          4.2,
          4.3,
          4.2,
          4.1,
          4.4,
          4.1,
          4.5,
          4.2,
          4.2,
          4.2,
          4.7,
          4.2,
          4.1,
          4.2,
          4.5,
          4.6,
          4,
          3.1,
          4.6,
          4.4,
          4.4,
          4.6,
          4.6,
          4.4,
          4.2,
          4.4,
          3.1,
          3.9,
          3.9,
          4.3,
          3.7,
          3.5,
          3.8,
          3.6,
          3.1,
          3.8,
          4.2,
          4,
          4.3,
          4.5,
          4.5,
          4.4,
          4.4,
          4.4,
          4.3,
          4.7,
          4.5,
          4.7,
          4.8,
          3.9,
          4.5,
          4.6,
          4.4,
          4,
          4,
          4.4,
          4.1,
          4.3,
          4.1,
          4.3,
          4.2,
          4.2,
          4.2,
          4.2,
          4.3,
          4.5,
          4.5,
          4.1,
          4.4,
          4.4,
          4.1,
          4.2,
          4.1,
          4.6,
          4.2,
          4.1,
          4.5,
          4,
          4.4,
          4.2,
          4.4,
          4.6,
          4.5,
          4.4,
          4.5,
          4.6,
          4.6,
          4.6,
          4.5,
          4.7,
          4.7,
          4.4,
          4.3,
          4.7,
          4.1,
          4.7,
          4.6,
          4.5,
          4.4,
          4.4,
          4.3,
          4.6,
          4.7,
          4.3,
          4.6,
          4.4,
          4.5,
          4.7,
          4.3,
          3.7,
          4.7,
          4.5,
          4.4,
          4.3,
          4.6,
          4.1,
          4.7,
          4.1,
          4.2,
          4,
          3.9,
          4.1,
          4.2,
          4.4,
          4.3,
          4.1,
          4.2,
          4.1,
          4.1,
          4.2,
          4.4,
          4.1,
          4.3,
          4.6,
          4.1,
          4.2,
          4.1,
          4.2,
          4.5,
          4.3,
          4.2,
          4,
          4.2,
          4.2,
          4.4,
          4.5,
          4.1,
          4.2,
          4.1,
          4.4,
          3.8,
          4.3,
          3.2,
          4.5,
          4.2,
          4,
          4.6,
          4,
          4.4,
          4.5,
          4.2,
          4.7,
          4.4,
          4.6,
          4.3,
          4.4,
          4,
          4.4,
          4.7,
          4.2,
          4.5,
          4,
          4.5,
          4.4,
          4.5,
          4.4,
          4.6,
          4.5,
          4.3,
          4.2,
          4.2,
          4.3,
          4.5,
          4.6,
          4.2,
          4.2,
          4.2,
          4.3,
          4.6,
          4,
          4.2,
          4.5,
          4.2,
          4.6,
          4.1,
          4.4,
          4.4,
          4.1,
          4.1,
          4.5,
          3.8,
          3.8,
          4.6,
          4.6,
          4.6,
          4.7,
          4,
          4,
          4.7,
          4.7,
          4.1,
          3.7,
          4.1,
          4.1,
          3.7,
          4.6,
          4.4,
          4.6,
          4.1,
          4.8,
          4.8,
          4,
          4.9,
          4.8,
          4.8,
          4.4,
          4.7,
          4.2,
          4.6,
          4.6,
          4.5,
          4.6,
          4.1,
          3.8,
          4.8,
          4.8,
          4.5,
          4.5,
          4,
          4.4,
          4.7,
          3.9,
          3.9,
          4.4,
          4.4,
          4.5,
          4.8,
          4.8,
          4.7,
          4.4,
          4.3,
          4.4,
          4.2,
          4.6,
          4.4,
          3.9,
          4.3,
          4.5,
          4.2,
          3.6,
          4.3,
          4.2,
          4.5,
          4.2,
          3.8,
          4.5,
          4.5,
          4.2,
          4.3,
          4.2,
          4.3,
          3.6,
          3.9,
          3.7,
          4.6,
          4.2,
          4.1,
          3.8,
          4.4,
          4.5,
          4.6,
          4.7,
          4.5,
          3.9,
          4.4,
          3.8,
          4.6,
          4.3,
          4.6,
          4.5,
          4.3,
          3.5,
          3.5,
          3.3,
          4.3,
          4.1,
          4.4,
          4.4,
          4.3,
          4.5,
          4.6,
          3.5,
          4,
          4.3,
          4.3,
          4.1,
          4.5,
          4.4,
          4,
          4.1,
          4.3,
          3.9,
          4.5,
          4.7,
          4.5,
          3.1,
          4.7,
          4,
          4.2,
          4.2,
          3.4,
          4.6,
          4.5,
          4,
          4.4,
          4.2,
          4,
          4.6,
          4.6,
          4.5,
          4.3,
          4.4,
          4.3,
          3.6,
          4.4,
          4.1,
          4.2,
          4.7,
          3.9,
          4.6,
          4.3,
          4.2,
          4,
          4.6,
          4.5,
          4.2,
          4.3,
          4.2,
          4.2,
          4.3,
          3.9,
          4.5,
          3.9,
          4.4,
          4.5,
          4.4,
          4.4,
          4.3,
          4.4,
          4.3,
          4.4,
          4.7,
          4.3,
          4.5,
          3.7,
          4.3,
          4.1,
          4.5,
          4.8,
          4.3,
          4.7,
          4.3,
          4.2,
          4.6,
          4.5,
          4.3,
          4.5,
          4.2,
          4.2,
          4.3,
          4.3,
          4.4,
          3.5,
          4.2,
          4.5,
          4.2,
          3.9,
          4.3,
          3.7,
          4.3,
          4.3,
          4.6,
          4.3,
          4.2,
          4.6,
          3.9,
          4.4,
          4.6,
          4.8,
          4.3,
          4.4,
          3.3,
          4.5,
          4.5,
          3.7,
          4.5,
          4.1,
          3.7,
          4.1,
          4.8,
          4.1,
          4.5,
          4.5,
          4.2,
          4.4,
          4.3,
          3.8,
          4.5,
          3.7,
          4.5,
          4.5,
          4.3,
          4.6,
          4.4,
          4.3,
          4.3,
          4.3,
          4.3,
          4.4,
          4.2,
          4.9,
          4.6,
          4.6,
          4.6,
          3.4,
          3.8,
          4.6,
          3.8,
          4.4,
          3.9,
          4.1,
          4.5,
          3.7,
          4.4,
          4.5,
          4.5,
          3.8,
          3.1,
          4.5,
          4.4,
          2.9,
          3.3,
          4.5,
          4.3,
          4.5,
          2.2,
          4.5,
          4.5,
          4.6,
          4.1,
          3.3,
          4.1,
          4.8,
          4.1,
          4.5,
          4.6,
          4.6,
          4.3,
          4.5,
          4.3,
          4.4,
          4.4,
          4.4,
          4.2,
          4.6,
          4.6,
          4.7,
          4.7,
          1.7,
          4.5,
          4,
          3.6,
          2,
          4.7,
          4.1,
          4.3,
          4.3,
          4.5,
          4.4,
          4.4,
          4.6,
          3.7,
          4.5,
          4,
          4.8,
          4,
          4.8,
          4.6,
          4.3,
          4.2,
          4.8,
          4.2,
          4.2,
          4.5,
          4.5,
          4.3,
          4.8,
          4.5,
          4.3,
          4.2,
          4.4,
          4.5,
          4.2,
          4.6,
          4.4,
          4.5,
          4.5,
          4.4,
          4.1,
          4.4,
          4.6,
          4.5,
          4.5,
          4.3,
          4.3,
          3.3,
          3.7,
          4.4,
          3.1,
          4,
          3.9,
          4.4,
          4.6,
          4.8,
          3.9,
          4.5,
          3.6,
          4.4,
          4.4,
          4.5,
          4.3,
          4.3,
          4.4,
          4.5,
          4,
          4.3,
          4.2,
          4.5,
          4.3,
          4.6,
          4.3,
          4.2,
          4.3,
          4.3,
          4.6,
          3.6,
          4.2,
          4.2,
          4.4,
          4.3,
          4.9,
          4.2,
          3.8,
          4.4,
          4,
          4.4,
          4.4,
          3.4,
          3.8,
          3.7,
          4.6,
          4.4,
          4.2,
          4.4,
          4.5,
          4.5,
          4.3,
          4.2,
          3.6,
          4.4,
          4.6,
          4.4,
          4.3,
          3.8,
          4.4,
          3.7,
          3,
          3.1,
          3.8,
          3.6,
          4.5,
          4.2,
          4.2,
          4.3,
          4.2,
          3.7,
          3.8,
          2.9,
          4.5,
          4.3,
          4.4,
          4.4,
          2.9,
          4.2,
          4,
          4.3,
          3.9,
          4.3,
          4,
          4,
          3.7,
          4.6,
          4.4,
          4.5,
          3,
          3.1,
          4.3,
          4.5,
          4.5,
          4.5,
          4.1,
          4.2,
          3.9,
          3.9,
          3.9,
          4.2,
          3.7,
          2.8,
          4.1,
          4.4,
          2.7,
          4.7,
          4.2,
          4.5,
          4.4,
          4,
          4.1,
          4,
          4.7,
          4.3,
          4.7,
          4.4,
          4,
          4.2,
          4.4,
          3.3,
          4.5,
          2.3,
          4.2,
          4.1,
          4.4,
          4.4,
          3.2,
          4.3,
          4.1,
          4.1,
          4.7,
          3.5,
          3.9,
          4.1,
          4.1,
          4.1,
          4.7,
          4.6,
          4.6,
          4.5,
          4.7,
          4.9,
          4.1,
          4.1,
          4.4,
          4.3,
          4.4,
          4.5,
          4.6,
          4.8,
          4.3,
          4.8,
          3.7,
          4.1,
          3.7,
          4.2,
          4.5,
          4.5,
          4.9,
          4.9,
          4.4,
          4.6,
          4,
          4,
          4,
          4.8,
          4.3,
          4.4,
          4.2,
          4.6,
          4.8,
          4,
          4.3,
          4.7,
          4.6,
          4.5,
          4,
          4.2,
          4,
          4.5,
          4,
          4.1,
          3.1,
          4.9,
          4.5,
          4,
          4,
          3.6,
          4.5,
          4.2,
          4.3,
          3.9,
          4.3,
          4.3,
          4.4,
          4.3,
          4.4,
          4.4,
          3.5,
          4.4,
          4.4,
          4.5,
          4.4,
          4.4,
          3.9,
          3.9,
          4.9,
          3.7,
          3.3,
          3.5,
          3.5,
          4.6,
          3.9,
          4.2,
          4.2,
          4,
          3.2,
          2.4,
          4.5,
          4.1,
          4.2,
          3.7,
          4.2,
          4.1,
          3.9,
          3.8,
          4.4,
          3.4,
          4,
          4.4,
          3.3,
          4.8,
          3.4,
          4.3,
          4.3,
          4,
          3.8,
          4.4,
          4.2,
          3.8,
          4.7,
          3.5,
          3.9,
          4.2,
          4.7,
          3.8,
          3.7,
          3.5,
          4.4,
          4,
          4.4,
          4,
          3.9,
          3.7,
          4.1,
          4.3,
          4.4,
          4.3,
          3.8,
          4.5,
          3.8,
          3.9,
          4,
          4.5,
          4.4,
          4.4,
          4.2,
          3.9,
          3.9,
          4.5,
          3,
          3.6,
          4.4,
          4.6,
          4.3,
          4.3,
          4.5,
          4.1,
          4.1,
          4.5,
          4.8,
          4.8,
          4.5,
          4,
          4,
          2.7,
          2.9,
          4.2,
          4.2,
          2.6,
          4.1,
          4.3,
          4.2,
          4.4,
          4,
          4.4,
          4.1,
          2.2,
          3.8,
          3.1,
          3.1,
          3.8,
          3.8,
          4.3,
          3.6,
          4,
          4.5,
          1.8,
          4.7,
          3.9,
          4.4,
          3.6,
          4.5,
          4.4,
          3.9,
          3.9,
          3.8,
          4.2,
          4.2,
          4.4,
          4.4,
          5,
          5,
          5,
          4.1,
          3.9,
          3.9,
          3.5,
          3.2,
          3.2,
          4.8,
          4.8,
          4.8,
          4.8,
          4.8,
          3.7,
          4.7,
          4.3,
          4.1,
          4.2,
          4.2,
          4.6,
          4.6,
          4.6,
          4.2,
          4.6,
          4.2,
          4.1,
          4.4,
          4.5,
          4.1,
          4.3,
          4.4,
          4.3,
          4.3,
          3.9,
          4.1,
          4,
          4.7,
          4,
          3.7,
          4.1,
          3,
          3,
          4,
          4.6,
          4.1,
          3.5,
          3.1,
          3.9,
          4.2,
          3.3,
          4.8,
          3.8,
          4,
          4.2,
          3.8,
          4.5,
          3.7,
          4.3,
          4.5,
          4.1,
          4.2,
          4.5,
          4,
          4.4,
          4.3,
          4.7,
          3.2,
          3.9,
          4.1,
          3.4,
          3,
          4.6,
          4.6,
          4.1,
          3.1,
          3.4,
          4.2,
          4.2,
          3,
          2.4,
          4.1,
          2.9,
          4,
          4,
          3.8,
          2.4,
          4.4,
          3.7,
          4.3,
          4.6,
          4.2,
          4,
          3.5,
          4.4,
          2.5,
          3.9,
          4.2,
          4.2,
          4.3,
          4.1,
          4.2,
          4.2,
          3.9,
          3.8,
          4.2,
          3.7,
          4.3,
          4.6,
          3.3,
          3.6,
          4.1,
          3.8,
          3.3,
          4.8,
          4.3,
          4.5,
          3.8,
          4.7,
          4.2,
          4.3,
          4.7,
          4.7,
          3.6,
          4,
          4.3,
          4.6,
          4.8,
          4.2,
          4.5,
          4.3,
          4.4,
          1.9,
          4.4,
          2.5,
          4.2,
          4.3,
          4,
          4.8,
          4.7,
          4.4,
          4.4,
          4.4,
          4.6,
          4.2,
          4.2,
          4.5,
          4.7,
          4.2,
          4.4,
          3.2,
          4.1,
          4,
          4.6,
          4.6,
          4.7,
          4.6,
          4.3,
          3.3,
          4.5,
          4,
          4.2,
          4.2,
          4.7,
          4.7,
          4.3,
          4.3,
          4.5,
          4.4,
          4.6,
          4.5,
          4.5,
          3.9,
          4,
          2.7,
          2.9,
          4.6,
          4.4,
          4.6,
          4.4,
          4.4,
          4.2,
          4.8,
          4.3,
          4.3,
          4.6,
          4.6,
          4.1,
          4.4,
          4.5,
          4.6,
          4,
          4.5,
          4.2,
          3.9,
          4.7,
          4.5,
          4.3,
          4.4,
          4.2,
          3.9,
          4.1,
          2.2,
          4.2,
          4.2,
          2.8,
          3.9,
          4.3,
          4.3,
          4.1,
          4.2,
          4.4,
          4.6,
          4.3,
          3.8,
          3.8,
          3.9,
          4.3,
          4.3,
          4.3,
          4.1,
          4.2,
          4.9,
          4.5,
          4.6,
          3.8,
          4.7,
          4.5,
          4.7,
          4.5,
          4.8,
          4.6,
          4.3,
          4.8,
          3.4,
          4.4,
          4.5,
          4.2,
          4.3,
          3.8,
          3.9,
          4.3,
          4.2,
          4.8,
          4.6,
          4.6,
          4.2,
          4.2,
          4,
          4.3,
          4.3,
          4.8,
          4.1,
          4.7,
          4.8,
          4.8,
          4,
          3.8,
          3.3,
          3.3,
          3.4,
          1.8,
          1.6,
          1.9,
          3.6,
          3.4,
          3.2,
          2.5,
          4.7,
          2.6,
          2.8,
          3.9,
          4.2,
          3.9,
          3.5,
          3.1,
          3.7,
          3.6,
          3.4,
          4,
          3.7,
          1.7,
          2.4,
          4.3,
          4.2,
          3.3,
          4.1,
          4.1,
          3.4,
          3,
          3,
          2.2,
          3.7,
          3.7,
          3.7,
          3.6,
          3.7,
          3.8,
          3.7,
          4.2,
          4.1,
          4.6,
          4.1,
          4,
          4.1,
          3.7,
          3.9,
          3.9,
          4.3,
          4.5,
          4.7,
          4.7,
          4.1,
          4.1,
          4.9,
          4.5,
          4.3,
          3.4,
          4.1,
          3.5,
          3.8,
          4.6,
          4.2,
          4,
          3.9,
          3.7,
          4.3,
          1.9,
          4.2,
          4.2,
          4.3,
          4.4,
          4,
          4.3,
          4,
          4.3,
          4,
          3.7,
          3.9,
          4.4,
          4.5,
          3.9,
          3.9,
          4.2,
          4.5,
          4.1,
          4.7,
          4.4,
          4.4,
          4.7,
          4.7,
          4,
          3.9,
          3.8,
          3.8,
          4.4,
          4.5,
          3.5,
          4.2,
          4.7,
          2,
          2.8,
          4,
          3.9,
          4.2,
          3.4,
          4.7,
          2,
          4.7,
          4.7,
          4.7,
          3.3,
          4.1,
          4.3,
          4.3,
          4.3,
          4.3,
          3.9,
          5,
          4.1,
          4.8,
          4,
          3.8,
          3.8,
          4.1,
          4.1,
          4.6,
          4.1,
          4.2,
          4.1,
          4.3,
          4.3,
          4,
          4.1,
          3.8,
          4.5,
          4.5,
          4.1,
          4.1,
          3.9,
          3.9,
          3.7,
          4.5,
          4.4,
          3.4,
          2.3,
          2.3,
          2.3,
          2.3,
          4.7,
          3.4,
          4.7,
          5,
          5,
          5,
          3.6,
          3.6,
          3.6,
          3.6,
          3.6,
          3.6,
          3.6,
          3.6,
          5,
          4.3,
          4.3,
          4.3,
          5,
          5,
          5,
          5,
          4.1,
          4.1,
          4.1,
          3.4,
          3.4,
          3.4,
          4.6,
          4.6,
          4.6,
          5,
          3.9,
          3.9,
          3.9,
          3.9,
          5,
          4.1,
          5,
          5,
          4,
          1,
          4,
          4,
          4,
          4,
          4,
          3.8,
          3.8,
          3.5,
          3.5,
          3.5,
          3.5,
          3.5,
          3.5,
          3.5,
          3.5,
          3.5,
          2.6,
          2.6,
          2.6,
          2.6,
          2.6,
          2.6,
          3.4,
          3.4,
          4.5,
          4.5,
          4.5,
          3.4,
          3.8,
          4.4,
          4,
          3.9,
          4.6,
          3.8,
          3.8,
          4.6,
          3.6,
          4.4,
          3.1,
          4.2,
          4.6,
          4,
          5,
          3.3,
          4.1,
          3.6,
          3.2,
          4.4,
          4.4,
          4.5,
          4.3,
          4.7,
          4.4,
          4.4,
          3.7,
          3.3,
          3.7,
          3.7,
          2.6,
          3.5,
          3.5,
          3.9,
          4.6,
          4.5,
          4.5,
          4.7,
          4.4,
          5,
          2.8,
          2.8,
          2.8,
          4.6,
          4.6,
          2.8,
          5,
          2.8,
          3.8,
          3.8,
          4.1,
          4.8,
          4.8,
          5,
          5,
          5,
          5,
          4.8,
          4.8,
          4.8,
          4,
          5,
          4.6,
          5,
          4.5,
          4.5,
          4.5,
          5,
          4.4,
          4.4,
          4.4,
          4,
          3.9,
          3.9,
          4.1,
          4.8,
          4.3,
          3.9,
          4.5,
          3.7,
          3.7,
          4.3,
          4.2,
          3.7,
          3.8,
          4.6,
          3.3,
          3.3,
          3.3,
          3.3,
          3,
          3.9,
          4.2,
          3.9,
          4.1,
          4.1,
          4.6,
          4.6,
          4.4,
          4.4,
          4.4,
          4.4,
          4.4,
          3.8,
          4.4,
          4.9,
          3.6,
          4.3,
          3.6,
          4.1,
          3.4,
          4.5,
          4.7,
          4.5,
          4.4,
          4.3,
          4.6,
          4.2,
          4.8,
          4.8,
          4.6,
          4.6,
          4.6,
          4.7,
          4.7,
          4.8,
          3.6,
          4.7,
          4.6,
          4.7,
          4.5,
          4.8,
          4.7,
          4.7,
          4.7,
          4.7,
          4.7,
          4.6,
          4.7,
          4.6,
          3.9,
          4,
          4.4,
          3.9,
          3.8,
          4.6,
          3.9,
          4.2,
          4.2,
          4.5,
          4.7,
          3.5,
          4.5,
          4.6,
          4.3,
          4.1,
          4.5,
          4.2,
          4.5,
          4.4,
          3.7,
          4.4,
          4.3,
          4.3,
          3.8,
          4.5,
          4.4,
          4.7,
          3.5,
          4.9,
          4,
          4.1,
          4.2,
          4.4,
          4.4,
          4.1,
          4.6,
          4.5,
          4.6,
          4.4,
          4.4,
          4.2,
          4.4,
          4,
          4.2,
          4.2,
          4.2,
          3.4,
          4.3,
          4.3,
          4.6,
          4.2,
          4.6,
          4.1,
          4.4,
          4.6,
          4.3,
          4.7,
          4.2,
          3.8,
          3.7,
          4.3,
          2.9,
          4.3,
          4.3,
          4,
          3.3,
          4.5,
          5,
          4.6,
          4,
          3.6,
          4,
          4.5,
          2.9,
          2.9,
          4.2,
          4.6,
          4.6,
          4.7,
          4.2,
          3.9,
          4.7,
          3.7,
          4.8,
          4,
          4.6,
          4.4,
          4.3,
          4.4,
          4.6,
          4.5,
          3.7,
          3.7,
          3.7,
          4.2,
          3,
          4.7,
          4.3,
          3.9,
          4.3,
          4.6,
          4.6,
          4.6,
          4.6,
          4.5,
          4.7,
          5,
          5,
          5,
          2.7,
          2.7,
          2.7,
          2.7,
          4.6,
          4.4,
          4.4,
          4.6,
          4.1,
          4.5,
          4.2,
          4.7,
          4.3,
          4.2,
          3.8,
          4,
          4.3,
          4.3,
          4.3,
          4.3,
          4.7,
          4.4,
          3.8,
          4.6,
          4.6,
          4.5,
          4.5,
          3.9,
          3.8,
          4.3,
          3.7,
          3.2,
          4,
          3.8,
          4.4,
          3.4,
          2.9,
          3.7,
          3.8,
          4.1,
          3.7,
          3.6,
          3,
          4.1,
          3.8,
          4.2,
          4.4,
          3.6,
          3.6,
          3.7,
          3.9,
          4.1,
          4.1,
          2.8,
          2.6,
          4.4,
          4.1,
          4,
          4.3,
          4.3,
          4.3,
          4.3,
          4.6,
          4.3,
          4.1,
          4.4,
          4.4,
          2.4,
          4.5,
          4.5,
          4.5,
          4.4,
          3.4,
          3.9,
          4.3,
          4.4,
          4.5,
          4.4,
          4,
          4.3,
          4.2,
          4,
          4.4,
          4,
          4.4,
          3.5,
          4,
          4,
          4.1,
          4.1,
          3.3,
          3.9,
          4.1,
          4.2,
          4,
          3.8,
          3.5,
          4.3,
          4.7,
          3.8,
          4.8,
          3.2,
          3.9,
          3.6,
          3.7,
          4.4,
          4.1,
          4,
          3.1,
          4,
          3.7,
          2.7,
          3.9,
          3.6,
          4.5,
          3.5,
          4,
          3.8,
          3.8,
          3.6,
          4.2,
          4.4,
          4,
          4.7,
          4.1,
          4.1,
          4.1,
          4,
          4.7,
          4.7,
          3.8,
          3.8,
          3.8,
          5,
          4.4,
          4,
          4,
          4,
          3.8,
          3.8,
          4.1,
          4.3,
          3.4,
          3.4,
          4.1,
          4.1,
          3.8,
          4.4,
          4.4,
          3.3,
          3.3,
          4.4,
          3.7,
          3.4,
          2.3,
          3.3,
          4.6,
          4.6,
          3.5,
          3.4,
          4.3,
          4.1,
          4.7,
          4.4,
          3.8,
          4.4,
          4.2,
          4.5,
          3.5,
          4.5,
          4.3,
          4.5,
          4.5,
          4.5,
          4.8,
          4.3,
          1.7,
          4.2,
          4.2,
          4.3,
          4,
          4.2,
          4.6,
          4.1,
          4.6,
          4.1,
          4,
          3.3,
          4,
          4,
          4.4,
          4.4,
          4.2,
          3.1,
          5,
          5,
          4.2,
          4.7,
          4.4,
          4.4,
          2.9,
          3.8,
          3.8,
          4.8,
          5,
          4.7,
          4.2,
          4.2,
          4.1,
          4.1,
          3.8,
          4.6,
          4.4,
          4.4,
          4.2,
          4.4,
          4.6,
          4.6,
          5,
          4.5,
          4.5,
          3.5,
          3.5,
          3.9,
          3.9,
          4.4,
          3.1,
          4.4,
          3,
          3,
          3.7,
          3.7,
          3.7,
          3.7,
          3.9,
          4.8,
          4.6,
          4.6,
          4.6,
          4.5,
          4.3,
          5,
          4.3,
          4.7,
          4,
          3.8,
          5,
          4.8,
          4.5,
          4.3,
          3.7,
          3.7,
          3.7,
          4.3,
          4.3,
          4.3,
          4.3,
          4.3,
          4.3,
          3.8,
          3.8,
          4.6,
          4.6,
          4.2,
          5,
          5,
          3.3,
          3.3,
          3.3,
          3.3,
          3.3,
          3.6,
          4,
          4,
          4,
          4.2,
          4.3,
          4.2,
          4.5,
          4.3,
          4.4,
          4.2,
          4.2,
          4.2,
          3.4,
          3.2,
          4,
          4.6,
          3.2,
          4.4,
          4,
          4.7,
          3.7,
          3.7,
          4.2,
          4.1,
          3.5,
          4.8,
          4.3,
          3.9,
          3.5,
          3.5,
          4.3,
          4.4,
          4.8,
          3.9,
          3.8,
          4.2,
          4,
          4,
          4.4,
          4.7,
          4.5,
          4.3,
          3.3,
          4.3,
          4.1,
          2.1,
          4.2,
          2.1,
          4.1,
          3.1,
          3.5,
          3.5,
          4.2,
          4.7,
          4.7,
          4.8,
          4.8,
          4.8,
          4.5,
          4.6,
          4.6,
          4.9,
          4.8,
          4,
          3.9,
          4.1,
          4.5,
          4.2,
          4,
          4.4,
          1.9,
          3.7,
          3.7,
          4,
          4.3,
          2.5,
          4.4,
          4.7,
          4.7,
          4.6,
          4.3,
          3.8,
          4.4,
          3.7,
          4.2,
          4.2,
          4.8,
          4.4,
          4.1,
          4.7,
          3.3,
          4,
          1,
          4.4,
          4.2,
          4.4,
          4.3,
          4.4,
          3.7,
          3.7,
          4,
          3.3,
          4.2,
          4.2,
          4.2,
          2.3,
          5,
          3.6,
          3.9,
          4.4,
          4.2,
          4.8,
          4.3,
          4.4,
          4.3,
          1.4,
          3.3,
          4.3,
          4.6,
          4.6,
          4.7,
          4.2,
          3.4,
          4.3,
          4.8,
          4.8,
          4.5,
          3.3,
          4.2,
          4.9,
          4.2,
          4.6,
          4.1,
          4.6,
          4,
          4.2,
          5,
          4.1,
          4.1,
          3.8,
          4.7,
          3.5,
          4,
          4.2,
          3.3,
          3.7,
          3.4,
          3.7,
          5,
          5,
          4.8,
          4.4,
          4.9,
          4,
          4.4,
          4.9,
          4.4,
          4.4,
          5,
          4.6,
          4.3,
          3.8,
          4.3,
          4.3,
          4.1,
          4.5,
          4.2,
          3.8,
          4.3,
          4.2,
          3.8,
          4.2,
          4,
          4.2,
          4.3,
          4.3,
          4.4,
          4.1,
          4.5,
          4.2,
          4.3,
          4.4,
          4.5,
          4.3,
          4.2,
          4,
          4.4,
          3.8,
          3,
          4.1,
          4.4,
          4.1,
          4.1,
          4.1,
          4.5,
          4.1,
          2.2,
          3.9,
          4,
          3.9,
          4,
          4.2,
          4.2,
          3.6,
          4.3,
          4.4,
          4.4,
          4.4,
          2.6,
          4.1,
          3.5,
          4.2,
          3.7,
          3.7,
          3.7,
          2.9,
          2.9,
          4.2,
          4.2,
          4,
          2.6,
          4.4,
          4.8,
          4.7,
          4.4,
          2.7,
          3.8,
          1.7,
          4.6,
          3.3,
          4.6,
          4.6,
          2.3,
          4.5,
          4.8,
          4.8,
          5,
          5,
          4.1,
          4.1,
          4.9,
          4.9,
          4.9,
          4.9,
          4.9,
          4.9,
          4.8,
          4.8,
          4.8,
          4.5,
          4,
          4,
          4,
          4,
          4,
          3.7,
          2.2,
          5,
          5,
          4.5,
          4.5,
          4.5,
          4.3,
          4.3,
          3.8,
          4.8,
          4.8,
          4.5,
          4.4,
          3.9,
          3.9,
          4.3,
          4.3,
          4,
          4,
          4.1,
          4.1,
          4.6,
          3.7,
          3.4,
          4.5,
          4.4,
          4.4,
          4.6,
          4.3,
          4.2,
          4.2,
          4.3,
          4.3,
          3.9,
          4.7,
          4.6,
          4.3,
          4.5,
          4.6,
          2.9,
          4,
          3,
          3.9,
          4.8,
          4.8,
          3.9,
          4,
          5,
          5,
          5,
          5,
          4,
          4,
          4,
          4,
          5,
          5,
          4.5,
          4.5,
          4.8,
          4.6,
          4.6,
          3.4,
          3.4,
          2.6,
          2.4,
          4.5,
          4.5,
          3.3,
          4.1,
          4.6,
          3.9,
          4,
          4,
          4,
          4,
          4,
          4,
          3.4,
          4.5,
          4,
          5,
          3.6,
          3.5,
          4.9,
          3.7,
          5,
          5,
          4,
          4.9,
          4.9,
          4.4,
          3.6,
          4.7,
          4.3,
          3.9,
          4.5,
          4.6,
          4.2,
          4.2,
          4.6,
          4.5,
          4.4,
          4,
          4.2,
          4.7,
          4.1,
          4.4,
          4.6,
          4.2,
          4,
          2.3,
          4.5,
          3.6,
          3.9,
          3.9,
          4.8,
          4.2,
          3.7,
          1,
          1,
          4.4,
          4.4,
          4.7,
          3.6,
          4.1,
          4.1,
          3.3,
          5,
          5,
          5,
          4.3,
          4.7,
          4,
          4,
          4,
          4,
          4,
          4.4,
          4.4,
          5,
          4.3,
          3.8,
          4.1,
          4.6,
          4,
          4.7,
          4.5,
          4,
          4.1,
          4,
          3.8,
          4.5,
          4.5,
          2.8,
          4.8,
          4.8,
          5,
          5,
          4.3,
          4.3,
          4.3,
          4.3,
          4.5,
          4.5,
          5,
          4.4,
          5,
          4.7,
          4.7,
          4.7,
          2.2,
          4.6,
          4.7,
          4.6,
          4.4,
          3.8,
          3.6,
          4.9,
          4.8,
          4.4,
          5,
          4.8,
          4.6,
          4.6,
          4.6,
          5,
          4.6,
          5,
          4,
          4,
          4.3,
          4.5,
          4,
          3.2,
          4.6,
          4.2,
          4.8,
          3,
          4.3,
          3.9,
          3.2,
          3.9,
          3.5,
          4.4,
          4.1,
          4.2,
          4.7,
          4,
          4.4,
          4.2,
          5,
          3.5,
          4.5,
          4.1,
          4.3,
          4.3,
          4,
          4,
          4,
          4,
          4,
          4,
          4.3,
          4.9,
          4.7,
          4.3,
          4.3,
          4.3,
          4.2,
          4.1,
          3.2,
          3.9,
          4.2,
          4.1,
          4.9,
          3.7,
          3.5,
          3.3,
          4.9,
          3.4,
          4.5,
          4.5,
          5,
          3.5,
          4.4,
          4.4,
          4.4,
          3.7,
          4.8,
          4.8,
          4.3,
          4.3,
          4.9,
          5,
          5,
          5,
          5,
          5,
          5,
          4.4,
          4.4,
          4.4,
          1,
          4,
          4,
          5,
          4.9,
          3.9,
          3.2,
          3.2,
          3.5,
          3,
          3,
          4,
          3.1,
          3.2,
          4.7,
          3.7,
          3.7,
          3.7,
          4.6,
          4.6,
          4.5,
          4.5,
          4.5,
          4.4,
          4.4,
          3.5,
          4.5,
          4.5,
          4.4,
          4.3,
          3.6,
          4,
          3.8,
          4.4,
          3.8,
          3.9,
          4.1,
          3.5,
          4.3,
          4.7,
          4.5,
          3.8,
          4.5,
          4.2,
          4.3,
          4.1,
          4.6,
          4.5,
          4.5,
          3,
          2.6,
          3.4,
          4,
          4.7,
          3.4,
          3.7,
          4.5,
          3.9,
          4,
          4.5,
          4.4,
          5,
          5,
          3.2,
          3.2,
          4.6,
          3.8,
          3.9,
          4.2,
          4,
          4,
          3.8,
          4.1,
          3.9,
          2.1,
          1.8,
          4.2,
          2,
          3.4,
          3.4,
          4.3,
          3.7,
          4.7,
          4.5,
          4.6,
          3.6,
          4.4,
          4.4,
          4.6,
          2.3,
          2.3,
          2.3,
          3.8,
          3.8,
          3.8,
          3,
          3,
          5,
          4.5,
          4.4,
          4.5,
          4.8,
          4.3,
          3.7,
          3.7,
          4.5,
          4.3,
          4.4,
          4.4,
          4.5,
          1.6,
          4.5,
          4.5,
          4.5,
          3.8,
          3.8,
          3.8,
          3.8,
          3.8,
          3.8,
          4.3,
          3,
          4,
          4.2,
          4,
          4.5,
          4.7,
          4.7,
          1.9,
          4.9,
          4.7,
          4.9,
          4.8,
          4.5,
          4.5,
          4.5,
          4.5,
          4.5,
          5,
          3.9,
          3.9,
          4.3,
          4.3,
          4.3,
          4.8,
          4.8,
          4.6,
          4.1,
          4.1,
          4.1,
          4.5,
          3.8,
          2.4,
          2.8,
          4.5,
          4.6,
          4.1,
          4.6,
          4.3,
          4.6,
          5,
          3.9,
          4.2,
          3.7,
          3.7,
          3.7,
          3.7,
          3.7,
          3.8,
          4.5,
          4.5,
          4.5,
          4.6,
          4.5,
          4.5,
          4.3,
          4.4,
          4.6,
          4.6,
          3.9,
          3.1,
          3.1,
          3.9,
          4.4,
          4.4,
          4.6,
          4.6,
          2.5,
          2.8,
          3.4,
          3.8,
          4.5,
          4.8,
          3.3,
          3.5,
          3.6,
          3.6,
          4.7,
          4.7,
          3.9,
          5,
          4.6,
          3.9,
          4.9,
          3.6,
          3.9,
          2.7,
          3.8,
          2.8,
          3.5,
          4.1,
          4.7,
          4.1,
          4.8,
          4.8,
          4.8,
          4.4,
          4.4,
          4.4,
          1.8,
          4.2,
          3.3,
          5,
          5,
          4.8,
          4.8,
          4.8,
          4.8,
          4.5,
          4.5,
          5,
          4.5,
          4.7,
          4.6,
          4.6,
          4.5,
          4.5,
          4.5,
          3.5,
          3.5,
          3.5,
          3.5,
          3.5,
          3.5,
          4.8,
          4.8,
          4.8,
          4.8,
          4.8,
          4.8,
          4.8,
          4.8,
          4.7,
          4.1,
          5,
          5,
          4,
          4,
          4,
          4,
          4.3,
          4.3,
          4.1,
          4.1,
          5,
          5,
          5,
          4,
          4,
          4,
          4,
          3.5,
          3.5,
          3.5,
          4.1,
          4.1,
          4.1,
          4.1,
          4.6,
          4.6,
          4.6,
          4.1,
          4.1,
          4.1,
          4.1,
          4.2,
          2.2,
          4.3,
          4.1,
          4.1,
          3.1,
          3.1,
          4.2,
          3,
          3,
          3.7,
          4.6,
          2.9,
          4.2,
          4.7,
          2.8,
          4.4,
          4.4,
          4.4,
          4.1,
          4.6,
          3,
          4.1,
          4.4,
          4.4,
          3.9,
          4.3,
          4.3,
          4.3,
          4.3,
          4.5,
          3.6,
          2,
          4,
          4,
          4.3,
          4.8,
          4.8,
          4.5,
          4.5,
          4.5,
          4.5,
          3.9,
          3.9,
          3.9,
          4.3,
          4.3,
          4.3,
          4.3,
          3.7,
          4.7,
          4.5,
          4.7,
          4.7,
          5,
          5,
          4.6,
          4.6,
          4.6,
          4.6,
          2.9,
          4.8,
          4.8,
          2.3,
          3.8,
          3.8,
          4.2,
          4.4,
          4.4,
          4,
          4,
          3.4,
          4.3,
          4,
          4.2,
          4.7,
          4.2,
          3.9,
          3.8,
          4.1,
          3.8,
          3.7,
          4.3,
          4.2,
          4.7,
          4.7,
          4.3,
          4.2,
          3.5,
          4.7,
          4.7,
          4.5,
          4.5,
          4.7,
          4.6,
          4.6,
          4.9,
          4.4,
          4.4,
          4.5,
          4.4,
          4.4,
          3,
          4.8,
          4.7,
          4,
          3.7,
          3.5,
          2.7,
          4.7,
          4.1,
          4.5,
          4.6,
          4.5,
          4.4,
          4.3,
          4.5,
          4.6,
          4.7,
          4.6,
          3.1,
          4.7,
          4.6,
          4.7,
          5,
          4.4,
          4.1,
          4.1,
          4.3,
          4.4,
          4.7,
          4,
          3.4,
          4.6,
          2.8,
          2.8,
          3.1,
          3.9,
          3.9,
          4.2,
          4.2,
          4.5,
          4.1,
          4.1,
          4.2,
          4.2,
          3.3,
          3.3,
          3.3,
          4.4,
          4.4,
          4.4,
          4.6,
          4.4,
          4.5,
          4.1,
          2.2,
          4.2,
          4.8,
          3.2,
          3.2,
          3.2,
          4.3,
          4.6,
          3.4,
          3.4,
          3.3,
          3.3,
          3.3,
          4.2,
          2.4,
          2.4,
          3.2,
          3.1,
          4.8,
          4.8,
          3.7,
          4.2,
          3.7,
          3.9,
          4,
          4,
          4,
          2.7,
          3.1,
          3.8,
          3.8,
          4.3,
          3.5,
          4.5,
          3.9,
          4.5,
          4.5,
          3.3,
          3.3,
          3.3,
          4.1,
          5,
          5,
          3.7,
          3.7,
          4.8,
          1.5,
          5,
          4.6,
          5,
          5,
          5,
          4.7,
          4.7,
          4.7,
          5,
          4.5,
          5,
          5,
          5,
          5,
          5,
          4.2,
          1,
          4.2,
          5,
          4.4,
          3.9,
          4.6,
          3.8,
          4,
          4,
          3.4,
          3.4,
          3.4,
          3.4,
          3.4,
          3.4,
          5,
          5,
          5,
          5,
          5,
          5,
          5,
          3,
          3,
          3,
          3,
          3,
          4.2,
          4.2,
          4.3,
          4.4,
          4.4,
          4.4,
          4.4,
          4.4,
          4.4,
          3.2,
          3.5,
          3.5,
          3.5,
          3.5,
          4.4,
          3.7,
          5,
          4.5,
          3.4,
          3.4,
          4.1,
          5,
          5,
          4.2,
          4.1,
          4.1,
          4.2,
          4.2,
          4.3,
          5,
          4.4,
          4.3,
          4.5,
          4.8,
          4.8,
          4.4,
          4.7,
          4.7,
          4.7,
          4.7,
          4.7,
          4.7,
          4.7,
          4.7,
          4.3,
          4.3,
          4.3,
          4.3,
          4.4,
          2.8,
          5,
          4.4,
          2,
          5,
          5,
          3.4,
          3.4,
          4.4,
          3.4,
          3.4,
          3.3,
          3.3,
          3.3,
          1.5,
          5,
          5,
          5,
          4.3,
          4.3,
          4.3,
          2.2,
          2.2,
          2.2,
          2.2,
          2.2,
          4.6,
          5,
          5,
          5,
          4.7,
          4.7,
          4.7,
          4.7,
          4.7,
          4.7,
          4.7,
          4.7,
          4.7,
          4.7,
          3.5,
          4.3,
          3.6,
          4.3,
          3.6,
          2.6,
          4.7,
          4.5,
          4,
          4.6,
          5,
          4.2,
          4.2,
          4.2,
          4.2,
          4.7,
          4.7,
          4.5,
          3.6,
          4.2,
          3.8,
          3.5,
          4.1,
          5,
          5,
          5,
          4.2,
          4.2,
          4.1,
          3.6,
          3.6,
          4.3,
          4.1,
          4.4,
          4,
          4,
          4,
          5,
          5,
          3.8,
          3.8,
          4.3,
          4.7,
          4.5,
          4.4,
          3.9,
          3.5,
          4.4,
          4.2,
          4.7,
          4.5,
          4.4,
          4.2,
          4.4,
          3.3,
          4.9,
          3.9,
          4.4,
          4.8,
          4,
          5,
          3,
          3.9,
          4.6,
          4.6,
          4.3,
          5,
          4.5,
          4.5,
          4.2,
          4.2,
          1,
          1,
          4.6,
          4.1,
          4.1,
          4.1,
          4.1,
          4.1,
          4.1,
          4.7,
          4.4,
          4.4,
          4.4,
          4.4,
          4.8,
          4.2,
          5,
          5,
          5,
          4.6,
          4.5,
          5,
          2.9,
          4.4,
          3,
          3,
          4.5,
          2.4,
          4.3,
          3.9,
          1.9,
          5,
          4,
          4.7,
          3.9,
          5,
          4.2,
          4.2,
          2.8,
          4.2,
          1,
          3.9,
          4.1,
          3.2,
          5,
          5,
          5,
          5,
          4.3,
          4.1,
          3.8,
          4,
          5,
          5,
          4.1,
          5,
          3.7,
          3.7,
          4.1,
          4.1,
          4.1,
          3.5,
          3.9,
          3.8,
          3.7,
          2.8,
          4.7,
          4.3,
          4.1,
          4.7,
          4.7,
          4.2,
          3.2,
          4.4,
          4.5,
          4,
          4.6,
          4.7,
          4.1,
          4.1,
          4.5,
          4.3,
          5,
          5,
          4,
          5,
          5,
          2.7,
          4.1,
          4.4,
          4.4,
          4.4,
          4.3,
          4.3,
          4.1,
          4.4,
          3.6,
          3.6,
          3.6,
          4,
          4.1,
          4,
          4.1,
          4,
          4.6,
          5,
          5,
          5,
          5,
          3.6,
          4.3,
          4.1,
          2.6,
          2.7,
          3.8,
          5,
          4.2,
          5,
          2.6,
          4.4,
          4.3,
          4.7,
          4.7,
          4.7,
          2.8,
          4.1,
          4,
          4,
          4,
          4,
          5,
          5,
          5,
          5,
          4.7,
          4.6,
          4.6,
          4.6,
          4.6,
          4.6,
          4.4,
          3.8,
          4.1,
          3.4,
          4.5,
          4.5,
          4.5,
          4,
          4.7,
          4.4,
          4.7,
          4.2,
          4,
          4.7,
          4.4,
          4.3,
          4.4,
          4.4,
          4.3,
          3.3,
          4.5,
          4.5,
          4.6,
          4.3,
          4.3,
          4.4,
          4.8,
          3.7,
          3.7,
          4.5,
          4.7,
          4.3,
          4.3,
          4.6,
          4.1,
          4.2,
          4.3,
          4.2,
          4.3,
          3.6,
          4.2,
          4.2,
          4,
          4.6,
          4.3,
          4.4,
          4.5,
          4.3,
          3.7,
          4.2,
          4.7,
          4.6,
          4.1,
          4.5,
          3.9,
          4,
          5,
          5,
          4.2,
          4.3,
          4.5,
          4.5,
          3.5,
          3.6,
          1.9,
          4.3,
          3.2,
          1.6,
          4.2,
          4.9,
          4.4,
          3.4,
          4.7,
          4.7,
          2.9,
          4.3,
          4.4,
          4.3,
          4.6,
          4.6,
          4.2,
          3.5,
          2.9,
          2.9,
          4.4,
          4.7,
          4.5,
          4.7,
          4.4,
          4.4,
          4.5,
          4.5,
          4.2,
          3.7,
          4.4,
          3.4,
          4.3,
          3.6,
          4.6,
          4.6,
          4.2,
          4.3,
          3.8,
          1.4,
          4.4,
          4,
          4,
          4.6,
          4.6,
          3.8,
          4.7,
          4.2,
          4.3,
          4.1,
          4.3,
          4.2,
          3.6,
          3.6,
          4.6,
          4.3,
          4.3,
          5,
          5,
          5,
          3.8,
          3.9,
          4.8,
          4.8,
          4.8,
          4.1,
          4,
          4.8,
          4.8,
          4.4,
          4.4,
          4.4,
          4.4,
          4.4,
          4.4,
          4.3,
          3.7,
          4.3,
          4.3,
          4.3,
          4.3,
          2.7,
          4.4,
          4.5,
          4.5,
          4.2,
          4.2,
          3.7,
          3.7,
          5,
          4.2,
          4.2,
          3.9,
          4.5,
          4.5,
          3.5,
          4.7,
          4.2,
          4.7,
          4.6,
          4,
          3.8,
          3.8,
          3.8,
          4.7,
          4.5,
          4.6,
          5,
          3.9,
          5,
          2.3,
          2.3,
          3.6,
          3.6,
          4,
          3.7,
          4.2,
          4.1,
          4.4,
          4.6,
          4.2,
          4.4,
          4.3,
          4,
          4.5,
          3.9,
          3.7,
          3.8,
          4.7,
          3.4,
          3.4,
          4.5,
          4.1,
          4.3,
          4.6,
          4.3,
          4.3,
          4,
          3.5,
          3.5,
          2.3,
          3.9,
          3.9,
          4.5,
          4.6,
          4.4,
          3.1,
          4.3,
          5,
          4.2,
          4.2,
          3.8,
          3.3,
          5,
          5,
          1,
          4.5,
          4.1,
          4.5,
          4.2,
          3.7,
          4.1,
          3.9,
          4.5,
          3.6,
          3.2,
          3.5,
          4.8,
          4.1,
          4.4,
          4.3,
          4,
          4,
          4.2,
          4.1,
          3.5,
          4.3,
          3.8,
          4.3,
          4.8,
          2.3,
          4.3,
          4.4,
          3.6,
          5,
          4.3,
          4.3,
          4.2,
          4.3,
          4.7,
          3.9,
          4.4,
          4.4,
          4.3,
          2.6,
          4.3,
          3.8,
          3.8,
          4.2,
          4.2,
          4.1,
          4,
          4.4,
          4.7,
          2.6,
          4.3,
          5,
          3.7,
          4.3,
          4.3,
          3.8,
          4.5,
          5,
          3.9,
          3.9,
          3.9,
          3.8,
          4.6,
          4.6,
          4.6,
          4.7,
          5,
          4.5,
          4.5,
          4.3,
          3.5,
          3.9,
          3.9,
          4.5,
          4.5,
          5,
          5,
          3.6,
          4.3,
          4.3,
          4,
          4.5,
          4.6,
          4.7,
          3.8,
          4.7,
          4,
          4.6,
          2,
          4.3,
          2,
          3.6,
          4.7,
          3.5,
          4,
          3.5,
          4.3,
          4.1,
          4.6,
          3.8,
          4.3,
          3.8,
          1,
          3.8,
          3.3,
          4.8,
          3.8,
          4.3,
          3.9,
          4.2,
          4.6,
          4,
          4.5,
          4.6,
          4.5,
          3.7,
          4.4,
          4.6,
          3.9,
          4.4,
          4.5,
          4.5,
          4.3,
          3.7,
          3.9,
          3.9,
          4.3,
          4.1,
          4.1,
          4.4,
          4.4,
          4.2,
          4.5,
          4.6,
          4.4,
          3.8,
          2.6,
          4.2,
          4.4,
          4.2,
          4,
          4.2,
          4,
          4.4,
          4.5,
          3.2,
          4.3,
          3.4,
          4.4,
          4.3,
          4.3,
          4.3,
          3.6,
          4.6,
          4.2,
          4,
          4.4,
          4.5,
          3.2,
          1.7,
          2.2,
          3.8,
          4.4,
          4.4,
          4.5,
          4.4,
          3.5,
          3.8,
          4.5,
          4.5,
          4.8,
          4.8,
          3,
          4.4,
          3.3,
          4.2,
          4.2,
          4.2,
          3.2,
          4.6,
          3.2,
          4.1,
          4.4,
          4,
          4.2,
          4.1,
          4.3,
          3.3,
          4.7,
          4.4,
          3.1,
          3.1,
          3.3,
          3.9,
          3.4,
          3.9,
          4.4,
          3.7,
          4.5,
          4.7,
          4.6,
          4.6,
          5,
          5,
          3,
          3.9,
          3.9,
          5,
          5,
          3.9,
          3.8,
          3.8,
          3.8,
          3.8,
          3.8,
          3.8,
          3.8,
          3.9,
          3.8,
          4.8,
          4,
          4,
          4,
          4,
          4,
          4.8,
          4.7,
          4.7,
          4.5,
          4,
          3.2,
          3.2,
          4.7,
          4.7,
          4.5,
          4.5,
          4.5,
          4.9,
          4.2,
          5,
          5,
          5,
          4.2,
          4.2,
          4.2,
          4.7,
          4.5,
          4.5,
          4.5,
          4.5,
          4.5,
          3.8,
          4.5,
          4.3,
          4.3,
          3.9,
          4.2,
          4.5,
          4.1,
          4.1,
          4.6,
          3.3,
          4.5,
          2.2,
          4.4,
          3.9,
          4.5,
          2.8,
          3.3,
          4.5,
          3.2,
          4.4,
          4.1,
          5,
          3.8,
          4.3,
          4.6,
          4.9,
          4.9,
          5,
          2.9,
          2.9,
          4.4,
          4.6,
          4.6,
          4,
          3.5,
          4.8,
          3.5,
          4.7,
          4.6,
          4.3,
          4.7,
          4.4,
          3.5,
          4.6,
          3.9,
          4.6,
          4.2,
          4.6,
          4,
          4.2,
          4.3,
          4.5,
          4.1,
          4.2,
          4,
          3.6,
          4.7,
          4.6,
          4.5,
          3.9,
          3.9,
          3.9,
          4.3,
          3.1,
          3.1,
          3.7,
          4.6,
          4.6,
          2.7,
          4.1,
          4.2,
          1.9,
          4.6,
          4.4,
          4.4,
          4.2,
          3.9,
          2.4,
          5,
          3.9,
          3.7,
          3.7,
          5,
          4,
          4.1,
          4.8,
          4.5,
          3.5,
          4.5,
          4.5,
          4.5,
          4.5,
          4.3,
          4.4,
          4.4,
          4.3,
          4.5,
          4.3,
          4.3,
          4.2,
          4.9,
          1.4,
          4,
          5,
          4.3,
          4.3,
          4.3,
          3.8,
          4.1,
          4.2,
          4.3,
          4.1,
          4.3,
          3.6,
          4.3,
          4.6,
          4.4,
          5,
          4.4,
          4.5,
          4.7,
          4.7,
          5,
          5,
          3.4,
          3.4,
          3.1,
          4.3,
          4.4,
          4.2,
          4,
          4.1,
          3.8,
          4.3,
          4.1,
          4.3,
          4.3,
          4.2,
          4.3,
          4.4,
          4.4,
          3.9,
          4.3,
          3.5,
          4.2,
          4.1,
          4.7,
          4.5,
          3.3,
          4.2,
          4.6,
          4.3,
          4.3,
          4.3,
          4,
          4.7,
          5,
          5,
          5,
          5,
          5,
          5,
          5,
          5,
          4.9,
          4.3,
          4.3,
          4.3,
          4.3,
          4.3,
          4.3,
          4.3,
          4,
          4,
          4,
          4.5,
          4.1,
          4.1,
          4.3,
          3.7,
          3.7,
          3.7,
          3.7,
          3.7,
          3.6,
          2.1,
          4.7,
          3.2,
          4.3,
          3,
          3.9,
          3.3,
          4,
          2.8,
          4.4,
          5,
          3.9,
          4.8,
          4,
          3,
          4.5,
          2.6,
          5,
          5,
          5,
          5,
          4.1,
          4.5,
          4.5,
          5,
          4.5,
          4.4,
          4.3,
          4.2,
          3,
          4.1,
          4.2,
          4.2,
          4,
          4.1,
          3.6,
          4.3,
          5,
          3.9,
          4.1,
          4.1,
          3.8,
          5,
          3.7,
          4.3,
          4.2,
          4.3,
          2.5,
          4.3,
          4.3,
          4.3,
          4.2,
          4.6,
          4,
          2.9,
          4.5,
          4.7,
          3.8,
          4.7,
          4.7,
          3.9,
          4.5,
          4.5,
          4.3,
          4.4,
          4.8,
          4.2,
          4.1,
          4.5,
          4.5,
          4.4,
          4.1,
          4.3,
          4.7,
          4.2,
          4.3,
          4.5,
          4.8,
          4.5,
          4.7,
          4.4,
          4.1,
          4.3,
          4.2,
          4.2,
          3.6,
          2.8,
          3.9,
          3.8,
          4.4,
          3.7,
          2.7,
          3.8,
          3.2,
          3.9,
          2.3,
          4.1,
          4.3,
          3.1,
          4.1,
          4.4,
          3.2,
          4.5,
          3.7,
          4.4,
          4.4,
          4.4,
          4.5,
          5,
          4.8,
          4.6,
          4.6,
          4,
          4.1,
          4.1,
          4.1,
          4.8,
          4.8,
          4.8,
          4.3,
          4.3,
          4.3,
          4.3,
          2.8,
          4.7,
          4.7,
          4.2,
          3.8,
          3.8,
          3.8,
          4,
          4,
          4.6,
          4,
          4.3,
          4.3,
          3.9,
          4,
          4.1,
          3.9,
          4.2,
          4.3,
          4.5,
          4.4,
          4.1,
          4.2,
          4.5,
          4.6,
          4.1,
          3.9,
          4.7,
          3.9,
          4.3,
          2.9,
          4.4,
          3.7,
          4.4,
          4.1,
          2.8,
          2.8,
          4.9,
          3.4,
          2.8,
          2.5,
          3.2,
          3.2,
          3.9,
          3.6,
          3.5,
          3.3,
          2.4,
          2.4,
          2.4,
          2.4,
          4.4,
          5,
          4.4,
          5,
          5,
          5,
          5,
          5,
          5,
          5,
          3.3,
          2.9,
          4.6,
          2.2,
          2.2,
          5,
          2.5,
          3,
          3,
          3.7,
          5,
          4.1,
          4.1,
          4.1,
          4.1,
          4.1,
          4.1,
          4.1,
          4.1,
          4.1,
          4.6,
          4.5,
          4.5,
          3.3,
          3.3,
          4.4,
          4.7,
          4,
          4.5,
          4.3,
          4.6,
          4.7,
          4.4,
          4,
          4.2,
          4.1,
          4.7,
          3.1,
          4,
          4.5,
          4.4,
          4.4,
          4.6,
          4.6,
          4.3,
          4.3,
          4.5,
          4.7,
          4.3,
          4.6,
          4.2,
          4.2,
          4.1,
          4.6,
          4.4,
          3.7,
          4.4,
          3.9,
          4.3,
          4.3,
          4.5,
          4.5,
          4.5,
          4.5,
          4.7,
          4.3,
          4.4,
          4.5,
          4.3,
          4.3,
          4.2,
          4.2,
          4.3,
          4.2,
          4.7,
          4.1,
          4.3,
          4.1,
          3.8,
          4.5,
          4.1,
          4.3,
          4.3,
          4.5,
          4.1,
          4.4,
          4.3,
          4.4,
          4.3,
          4.1,
          4.1,
          4.6,
          4.7,
          4.2,
          3.7,
          4.7,
          4.4,
          4.7,
          4.2,
          4.6,
          4.5,
          4.8,
          3.7,
          4.3,
          4.2,
          3.6,
          4.1,
          2.3,
          4.3,
          4.6,
          4,
          4.3,
          3.6,
          4,
          2.8,
          2.8,
          3.8,
          4.1,
          3.4,
          4.5,
          3.1,
          4.6,
          3.9,
          4.2,
          4.9,
          3.9,
          3.4,
          4.2,
          3.8,
          4.6,
          4.4,
          4,
          4.2,
          4.2,
          4.2,
          4.5,
          4.4,
          4.6,
          3.7,
          4.1,
          4.2,
          4.5,
          4.6,
          4.5,
          4.4,
          3.3,
          4.2,
          4.2,
          4,
          4,
          4,
          3.5,
          3.9,
          3.9,
          4.3,
          4.1,
          4,
          4.3,
          4.5,
          3.7,
          3.8,
          3.4,
          4.3,
          4.4,
          4.1,
          4.4,
          4,
          3.9,
          3.3,
          4,
          4.1,
          4.1,
          3.4,
          3.4,
          4.1,
          4,
          3.4,
          3.2,
          3.9,
          3.6,
          3.8,
          3.9,
          1,
          4.6,
          4.9,
          3.9,
          3.5,
          3.5,
          3.2,
          3.8,
          3.8,
          3.8,
          3.8,
          3.9,
          4.6,
          1.8,
          4.3,
          4.3,
          4.8,
          4.8,
          3.7,
          4.1,
          4.6,
          4,
          4.8,
          4.8,
          4,
          4,
          3,
          3,
          4.6,
          1.6,
          3.8,
          1.7,
          5,
          4.6,
          4.4,
          4.5,
          3.8,
          4,
          4.1,
          5,
          5,
          5,
          5,
          5,
          5,
          5,
          1,
          4.6,
          4.6,
          4.6,
          2.4,
          4.4,
          4.4,
          4.4,
          4.4,
          5,
          4.1,
          3.9,
          3.1,
          4.7,
          4.5,
          3.5,
          4.5,
          4.6,
          4.5,
          4.5,
          4.4,
          4.3,
          4.2,
          4.6,
          4.5,
          3.8,
          4.3,
          4.6,
          3.6,
          4.7,
          4.8,
          3.1,
          4.5,
          4.5,
          4.5,
          4.7,
          4.7,
          4.4,
          4.6,
          3.6,
          3.6,
          3.7,
          2.1,
          2,
          3.5,
          4.3,
          2.4,
          4.5,
          2.8,
          4.5,
          4.5,
          2.8,
          2.8,
          3.9,
          3.2,
          3.1,
          4.6,
          2.9,
          4,
          2.3,
          2.9,
          4.6,
          4.3,
          5,
          4.2,
          4.6,
          4.5,
          4.2,
          3.5,
          4.6,
          3.5,
          3.6,
          5,
          5,
          3,
          2.9,
          2.9,
          2.9,
          3.7,
          4.6,
          4.2,
          3.2,
          2.5,
          4.4,
          4.3,
          4,
          4.5,
          3.4,
          4.3,
          4.3,
          4.3,
          4.3,
          4,
          4,
          4,
          4.9,
          3.4,
          4.9,
          4.7,
          4.8,
          4.3,
          4,
          3.5,
          3.5,
          5,
          5,
          4.7,
          4.2,
          4.2,
          4.4,
          4.2,
          5,
          2,
          3.7,
          3.7,
          4.5,
          4.5,
          4.5,
          4.5,
          3.1,
          3.1,
          3.1,
          3.1,
          4.5,
          3.8,
          4.5,
          4.5,
          4.6,
          4.2,
          4.5,
          4.2,
          4.2,
          4.1,
          4.3,
          4.6,
          4.4,
          4.5,
          4.5,
          4.6,
          4,
          4,
          4.6,
          4.5,
          4.5,
          4.8,
          4.8,
          4,
          5,
          4,
          4.5,
          3.6,
          4.2,
          3,
          4,
          3.4,
          4.9,
          4,
          4,
          4,
          4,
          4,
          4.4,
          4.1,
          4.4,
          4.5,
          4.5,
          4.2,
          3.9,
          3.6,
          3.6,
          5,
          4.4,
          3.6,
          4.7,
          4.2,
          4.5,
          4.7,
          4.3,
          4.3,
          4.2,
          4.7,
          4.1,
          4.5,
          4.1,
          4,
          4.2,
          4.2,
          4.2,
          4.2,
          4.2,
          4.1,
          4.1,
          4.2,
          5,
          4,
          4.5,
          4.1,
          4.1,
          4.7,
          4.7,
          4.4,
          4.9,
          3.6,
          4.2,
          4.4,
          4.4,
          4.5,
          4.5,
          4.2,
          4.2,
          4.2,
          4.2,
          4.5,
          4.5,
          4.4,
          4.4,
          4.5,
          3.9,
          4.3,
          4.4,
          4.5,
          4,
          4,
          2.5,
          4.4,
          3.8,
          4.4,
          4.2,
          4.1,
          4.2,
          3.9,
          4.5,
          4.1,
          4.3,
          3.4,
          3.4,
          4.2,
          4.4,
          3.5,
          4.1,
          4.6,
          1.7,
          3.3,
          5,
          4.8,
          4.6,
          4.6,
          3.3,
          4.2,
          4.2,
          3.5,
          3.5,
          3.7,
          5,
          4.1,
          4.1,
          4.1,
          3.5,
          5,
          3.7,
          3.7,
          4,
          4.2,
          4.2,
          4.2,
          4.5,
          4.5,
          2.5,
          4,
          4,
          4.1,
          3.4,
          3.4,
          3.4,
          3.9,
          4.6,
          4.7,
          5,
          3.9,
          4.2,
          3.5,
          4.1,
          4.1,
          4.2,
          4.5,
          3.8,
          3.4,
          4.5,
          4.5,
          3,
          3,
          3,
          4.1,
          4.1,
          4.6,
          3.9,
          3.9,
          4.7,
          4.5,
          3.4,
          5,
          5,
          5,
          4,
          4,
          4,
          4,
          4.9,
          4.9,
          5,
          4.6,
          4.6,
          4.8,
          4.1,
          4.1,
          4.7,
          4.7,
          4.7,
          5,
          5,
          4.4,
          3.3,
          4,
          3.5,
          2.8,
          3.6,
          3.6,
          3.2,
          3.6,
          3.7,
          3.3,
          3.1,
          4.1,
          3.1,
          3.5,
          3.6,
          5,
          2.3,
          2.9,
          2.9,
          3,
          2.9,
          3.9,
          5,
          3.4,
          3.4,
          5,
          4.8,
          4.2,
          4.2,
          5,
          5,
          5,
          5,
          4.3,
          4.3,
          4.4,
          4.4,
          4.8,
          4.1,
          4.1,
          4.1,
          4.6,
          4.6,
          4.3,
          4.6,
          4,
          2.9,
          4.1,
          4.2,
          4.2,
          4.2,
          4.2,
          4.3,
          4.4,
          2.4,
          4.2,
          3,
          3,
          3,
          4.7,
          3.4,
          4.7,
          4.7,
          4.2,
          5,
          4.5,
          4.3,
          3.3,
          4.2,
          4.2,
          4.2,
          4.7,
          4.3,
          4.8,
          4.2,
          4,
          4.2,
          4.1,
          4.6,
          3.8,
          4.5,
          4.4,
          4.1,
          4,
          3.9,
          3.5,
          5,
          4.6,
          3.6,
          3.6,
          4.2,
          3.8,
          3.4,
          3.8,
          4.2,
          4.2,
          3.7,
          4,
          4.4,
          4.5,
          3.7,
          4.2,
          3.9,
          3.7,
          4.2,
          4,
          3.9,
          4.1,
          4.3,
          4.5,
          4.5,
          3.3,
          4.4,
          4.2,
          4.2,
          4.1,
          4.1,
          4.4,
          4.1,
          3.9,
          3.9,
          4.4,
          3.8,
          3,
          3.4,
          5,
          4.1,
          4.1,
          2.4,
          2.4,
          4,
          4,
          4,
          3,
          3,
          4.4,
          4.4,
          3.4,
          2.9,
          5,
          4.5,
          3.7,
          4,
          4,
          3.2,
          3.6,
          3.2,
          3.7,
          4.7,
          4.4,
          4.4,
          4.3,
          4.9,
          2.6,
          5,
          4.1,
          4,
          4.1,
          3.3,
          3.3,
          4.2,
          4.3,
          4.4,
          4.4,
          5,
          4.3,
          4.4,
          3.9,
          3.9,
          3.9,
          3.9,
          4,
          3.8,
          3.8,
          3.8,
          4.4,
          4.3,
          3.9,
          4.2,
          3.8,
          4.3,
          3.8,
          4.2,
          4.5,
          3.6,
          3.5,
          4.4,
          3.5,
          4.1,
          4.8,
          4.4,
          4.3,
          4,
          4.4,
          3.5,
          4.3,
          4.4,
          4.7,
          3.8,
          5,
          4.8,
          4.9,
          4.3,
          5,
          5,
          4.9,
          4.9,
          4.9,
          4.9,
          4.5,
          4.5,
          4.5,
          5,
          5,
          3,
          4.9,
          4.9,
          4.9,
          5,
          5,
          4.1,
          4.1,
          4.1,
          4.1,
          4.3,
          4.3,
          4.1,
          4.7,
          4.9,
          4.9,
          4,
          5,
          5,
          4.6,
          4.6,
          4.2,
          3.7,
          5,
          4.3,
          4,
          4.3,
          4,
          3.1,
          3.4,
          4.2,
          4.2,
          4.1,
          4,
          4,
          3.9,
          4.8,
          4.1,
          4.3,
          4.3,
          4.4,
          4.4,
          4.5,
          4.5,
          4.8,
          4.5,
          4.6,
          4.6,
          4.4,
          4.7,
          4.5,
          4.2,
          4.7,
          4.1,
          4.1,
          4.4,
          4.5,
          3.8,
          3.9,
          3.5,
          4.6,
          3.7,
          4.4,
          3.6,
          3.4,
          4.3,
          4.5,
          4.4,
          4.1,
          4.4,
          4.3,
          4.5,
          4.5,
          4.5,
          4.3,
          4.1,
          4.6,
          4.3,
          4,
          4.6,
          4.6,
          4.3,
          4.3,
          4.2,
          4.5,
          4,
          3.8,
          4,
          4.1,
          4.5,
          4.2,
          4.4,
          4,
          4.3,
          4.3,
          4.4,
          4,
          4.7,
          4.5,
          4.1,
          4.1,
          4.3,
          3.5,
          2.6,
          2.6,
          4.2,
          4.3,
          4.3,
          4.3,
          4.3,
          4.3,
          4.3,
          4.3,
          4.4,
          4.4,
          4.4,
          4.4,
          4.4,
          4.4,
          4.3,
          4.1,
          4.1,
          4.3,
          4.5,
          4.6,
          4.6,
          4.6,
          4.3,
          4.2,
          4.5,
          4.3,
          4.5,
          3.5,
          4.3,
          4.6,
          4.5,
          3.4,
          3.4,
          3.4,
          3.4,
          4.3,
          5,
          5,
          5,
          4.9,
          4.2,
          4.2,
          4.2,
          4.2,
          4.3,
          2.3,
          4.7,
          4.4,
          4.4,
          4.4,
          4.4,
          4,
          3.6,
          4.1,
          4.1,
          4.6,
          3.9,
          4.4,
          3.7,
          3.9,
          4.3,
          4.1,
          3.6,
          3.5,
          3.9,
          3.9,
          3.8,
          4,
          4.5,
          4.5,
          3.6,
          3.9,
          4.3,
          4,
          3.7,
          3.9,
          4.2,
          3.5,
          4,
          3.8,
          4.1,
          4.2,
          4.1,
          4.4,
          3.7,
          4.7,
          4.7,
          3.8,
          4,
          4.2,
          3.8,
          3.9,
          4,
          3.1,
          5,
          3.5,
          4.1,
          4.5,
          4.7,
          4.1,
          3.9,
          3.9,
          4,
          4.3,
          3.1,
          4.2,
          4.2,
          4.1,
          3.3,
          3.3,
          4.3,
          4.7,
          4.3,
          4.2,
          4.2,
          4.1,
          4.3,
          4.4,
          4.3,
          3.5,
          1.8,
          4.2,
          4.2,
          4,
          5,
          3.8,
          4.3,
          3,
          5,
          4.6,
          4.7,
          5,
          4.8,
          4.6,
          4.6,
          4.1,
          4.1,
          4.6,
          4.5,
          4.2,
          4.7,
          4.3,
          4.4,
          3.6,
          4.6,
          3.9,
          3.9,
          4.3,
          4.8,
          3.9,
          4.4,
          4.3,
          4.5,
          4.8,
          4.6,
          4.5,
          4.2,
          4.7,
          4.2,
          4.6,
          3.9,
          3.6,
          4.6,
          3.4,
          3.4,
          4.2,
          4.2,
          3.5,
          4.3,
          3.9,
          3.9,
          3.6,
          3.9,
          3.9,
          4.3,
          3.7,
          3.8,
          3.8,
          4.1,
          4.1,
          4.1,
          4.7,
          1.9,
          1.9,
          3.6,
          3.8,
          4.5,
          4.5,
          2.7,
          4.5,
          4.5,
          5,
          5,
          4,
          4.4,
          4.4,
          4.4,
          4,
          5,
          5,
          5,
          3.7,
          3.7,
          3.7,
          3.7,
          3.7,
          3.7,
          3.7,
          3.9,
          3,
          3,
          3,
          4.2,
          4.2,
          4.2,
          4.2,
          4.2,
          3,
          4.2,
          4.2,
          4.2,
          4.2,
          4.2,
          3.7,
          4.5,
          4.6,
          4.7,
          4.3,
          2.3,
          2.8,
          2.8,
          3.6,
          3.2,
          3.5,
          3.8,
          3.5,
          4.2,
          4.5,
          4.5,
          3.4,
          3,
          4.4,
          4,
          4.3,
          4.3,
          4.1,
          4.1,
          3.6,
          3.7,
          4.2,
          3.7,
          4.3,
          3.3,
          3.3,
          3.3,
          4.4,
          4.8,
          4,
          4.9,
          4,
          4.6,
          3.6,
          3.9,
          3.9,
          4.2,
          4.4,
          4.3,
          4.3,
          4.3,
          4.3,
          4.3,
          4.3,
          4.3,
          4.3,
          4.3,
          3.4,
          3.4,
          3.4,
          3.5,
          4.2,
          3.8,
          3.8,
          3.8,
          4,
          4.5,
          3.8,
          4.9,
          3.5,
          3,
          4.5,
          4.7,
          3.3,
          4.1,
          3.7,
          3.9,
          3.5,
          4.4,
          4,
          4,
          4.6,
          4.3,
          4.2,
          4.2,
          4.1,
          4.3,
          3.5,
          4.2,
          4.2,
          3.7,
          3.9,
          4.3,
          4,
          4.4,
          4.3,
          3.5,
          4.3,
          4.3,
          4,
          4.3,
          4.1,
          2.5,
          2.7,
          1.2,
          1.2,
          1.2,
          1.2,
          1.2,
          4.7,
          4.7,
          4.7,
          4.7,
          4.9,
          4.7,
          4.4,
          4.4,
          4.4,
          4.7,
          4,
          4.7,
          4.7,
          4.3,
          4.7,
          4.7,
          4.4,
          4.4,
          4.6,
          4.6,
          4.6,
          4.6,
          4.6,
          4.6,
          4.6,
          4.4,
          4.4,
          4.4,
          4.4,
          4.4,
          4.4,
          4.6,
          3.1,
          4.3,
          3.7,
          4.6,
          4.1,
          4.2,
          4.1,
          4.4,
          3.8,
          2.8,
          3.1,
          2.9,
          4.1,
          3.3,
          3.5,
          4.2,
          2.8,
          2.1,
          4.4,
          4.4,
          4.1,
          3.5,
          4.7,
          3.1,
          4.3,
          4.1,
          4.2,
          3,
          3.2,
          4.3,
          4.3,
          2.2,
          3.9,
          2.8,
          4.4,
          4.6,
          4.4,
          2.9,
          4.1,
          5,
          4.6,
          4.4,
          4.4,
          4.2,
          4.4,
          3.9,
          3.6,
          4.3,
          4.3,
          4.3,
          4.4,
          4.3,
          4.3,
          4.3,
          4.4,
          4.4,
          4.4,
          4.4,
          4,
          4,
          4.5,
          4.6,
          4.3,
          4.1,
          4.4,
          3.5,
          4.1,
          4.3,
          4.5,
          4,
          4.3,
          3.4,
          4.3,
          4.7,
          4.5,
          4.3,
          4.1,
          4.1,
          4.4,
          4.6,
          3.8,
          3.8,
          3.9,
          4.2,
          3.7,
          4.3,
          4.2,
          3.6,
          4.3,
          4.3,
          4.3,
          4.5,
          4.3,
          4.7,
          3.8,
          4,
          4.1,
          3.9,
          3.9,
          4.3,
          3.4,
          4.2,
          4.2,
          4.5,
          4.4,
          4.2,
          4.7,
          4.6,
          4.4,
          4.4,
          4.8,
          4.6,
          4.3,
          4.4,
          4.4,
          3.3,
          4.5,
          4.6,
          4.3,
          4.9,
          4.3,
          4.5,
          4.5,
          4.9,
          3.7,
          4.5,
          4.6,
          4.5,
          4.1,
          5,
          5,
          3.4,
          4.5,
          4.8,
          4.5,
          4.5,
          4.5,
          4.5,
          4.1,
          4.1,
          3.6,
          4.7,
          4.6,
          4.9,
          4.5,
          3.9,
          3.9,
          4.6,
          3.8,
          4.7,
          3.9,
          4.1,
          3.9,
          4,
          4.3,
          4,
          4.4,
          4.1,
          5,
          4.8,
          4.6,
          4.6,
          5,
          4.2,
          4.7,
          4,
          4.4,
          4.9,
          3.5,
          4.1,
          4.2,
          4.4,
          4.5,
          4.5,
          3.1,
          4.5,
          4.5,
          4.6,
          4.3,
          4.4,
          4.3,
          4.8,
          2.8,
          4.1,
          1,
          3,
          5,
          4.5,
          5,
          5,
          5,
          5,
          5,
          5,
          5,
          5,
          4.1,
          4.4,
          4.4,
          4.4,
          4.4,
          3,
          3.8,
          3.9,
          3.9,
          5,
          5,
          5,
          5,
          4.5,
          4.5,
          4.5,
          4.5,
          5,
          5,
          5,
          5,
          3.3,
          3.3,
          3.3,
          4.5,
          4.5,
          4.9,
          4.3,
          4.3,
          4.3,
          4.3,
          4.3,
          4.3,
          4.3,
          4.5,
          4.1,
          4.8,
          3.8,
          4.1,
          3.9,
          4.2,
          4.2,
          4.2,
          4.8,
          4.1,
          4.1,
          3.9,
          4.1,
          4.1,
          4.2,
          3.7,
          3.9,
          3.9,
          3.6,
          3.7,
          3.6,
          4.3,
          3.9,
          4.5,
          2.6,
          4.4,
          1,
          1,
          4.2,
          4.2,
          4.2,
          4.2,
          4.8,
          5,
          4.3,
          4.5,
          4.9,
          4.9,
          5,
          5,
          5,
          5,
          4.2,
          4.2,
          4.2,
          4.2,
          4,
          4,
          4,
          2.1,
          4.2,
          4.2,
          2.5,
          2.5,
          4.4,
          4.4,
          4.6,
          4.4,
          4.4,
          4.4,
          4.2,
          4.5,
          3.3,
          4.5,
          4.1,
          4.6,
          4.4,
          4.3,
          3.5,
          4,
          2.9,
          2.1,
          4.5,
          3.7,
          2.9,
          4,
          4.2,
          3.7,
          3.6,
          3.9,
          3.4,
          4.2,
          3.4,
          3.9,
          3,
          3.6,
          3.2,
          4.1,
          4.1,
          4.2,
          4.2,
          4.7,
          4.7,
          4.6,
          4.6,
          4.5,
          4.3,
          4.3,
          4.5,
          4.5,
          4.4,
          4.3,
          4.2,
          4.2,
          4.2,
          4.2,
          4.2,
          3.7,
          3.7,
          4.3,
          4.3,
          4,
          3.5,
          4.2,
          4.4,
          4.2,
          3.8,
          3.8,
          3.9,
          4,
          3.8,
          3.6,
          4.2,
          3.8,
          3.7,
          3.7,
          4,
          4.2,
          4.4,
          4.4,
          4.4,
          4.4,
          4.9,
          5,
          5,
          4.8,
          4,
          4,
          4,
          4,
          4,
          4,
          4,
          4,
          4,
          4,
          4,
          4,
          4,
          4,
          4,
          4,
          4,
          4.9,
          4.9,
          4.9,
          3.8,
          3.8,
          4.9,
          4.9,
          1.5,
          1.5,
          1.5,
          1.5,
          1.5,
          1.5,
          5,
          5,
          4.8,
          4.8,
          3.9,
          3.9,
          3.7,
          4.7,
          4.6,
          4.3,
          4.2,
          4.6,
          4.7,
          4.6,
          2,
          3.6,
          3.2,
          3.8,
          4,
          3.8,
          4.4,
          3.8,
          4.3,
          4.6,
          1,
          3.2,
          4.7,
          4.1,
          4.9,
          4.1,
          4.2,
          4.2,
          5,
          3.8,
          4.7,
          4.5,
          4.5,
          4.5,
          5,
          5,
          3.3,
          5,
          4,
          4,
          4.5,
          3.2,
          4.5,
          4.2,
          3.7,
          3.7,
          3.8,
          5,
          4.1,
          4.1,
          2.9,
          4.7,
          4.7,
          4.7,
          4.7,
          5,
          3.2,
          3.8,
          3.8,
          3.8,
          4.6,
          4.6,
          4.4,
          4.8,
          4.2,
          3.3,
          3.9,
          4.5,
          4.3,
          4.4,
          4.6,
          3.4,
          4.6,
          4.2,
          4.8,
          4.8,
          4.8,
          5,
          5,
          5,
          5,
          3.8,
          3.8,
          2.9,
          4.6,
          4.1,
          4.1,
          4.5,
          4.5,
          4.4,
          4.4,
          4.2,
          4.2,
          4.1,
          4.2,
          4.3,
          4.4,
          4.6,
          5,
          5,
          5,
          5,
          5,
          3.4,
          3.4,
          3.4,
          3.4,
          3.4,
          3.4,
          4.6,
          4.6,
          4.6,
          3.8,
          3.8,
          3.8,
          4.1,
          4.4,
          3,
          4.2,
          4.2,
          3.9,
          4.2,
          4.4,
          5,
          4,
          4.3,
          4.6,
          4.4,
          4.1,
          4.2,
          4.3,
          4.5,
          3.9,
          3.5,
          4,
          4,
          4,
          3.8,
          3.6,
          4.3,
          4.2,
          5,
          3.4,
          3.5,
          3.5,
          3.5,
          3.5,
          3.7,
          3.7,
          4.2,
          3.6,
          4.5,
          4.2,
          4.4,
          2.7,
          4.1,
          2.9,
          2.9,
          2.9,
          4.8,
          4,
          4,
          3.9,
          5,
          5,
          5,
          5,
          5,
          3.9,
          4,
          3.6,
          4.1,
          4.3,
          4.2,
          4.3,
          4.2,
          4.1,
          4,
          4,
          4.1,
          4,
          4.2,
          4.4,
          4.2,
          4.2,
          4.7,
          4.6,
          4.7,
          4.1,
          4.9,
          4,
          4.3,
          4.2,
          4.3,
          4.7,
          4.7,
          4.7,
          4.7,
          4.8,
          4.1,
          4.1,
          4,
          4,
          4.2,
          4,
          4,
          3.3,
          3.3,
          5,
          4.2,
          4.2,
          4.2,
          4.2,
          4.2,
          4.2,
          3.4,
          4.6,
          3.8,
          4,
          4,
          4.5,
          4.5,
          5,
          4.5,
          4.5,
          4,
          3.1,
          4,
          4,
          4.2,
          4.3,
          4,
          4.9,
          3.8,
          3.5,
          4.6,
          3.9,
          3.8,
          3.6,
          4,
          4.1,
          3.5,
          4.1,
          4.8,
          4.1,
          4.1,
          4.3,
          4.7,
          3.4,
          4.5,
          4.6,
          4.6,
          4.2,
          4.1,
          4.3,
          3.8,
          4.5,
          3.3,
          3.8,
          3.6,
          4.2,
          4.2,
          4.4,
          3.5,
          4,
          3.8,
          4.6,
          3.3,
          4.4,
          4.1,
          3.8,
          4.5,
          3.7,
          4.5,
          3,
          3.8,
          5,
          4.4,
          4.5,
          4.5,
          4.1,
          3.9,
          4.5,
          3.9,
          4.1,
          3.5,
          3,
          3.7,
          4.4,
          4.1,
          3,
          4,
          3.9,
          4.4,
          2.4,
          2.4,
          4,
          4,
          4,
          3.6,
          4.6,
          3.7,
          4.2,
          4.1,
          4,
          4.4,
          3.9,
          4.2,
          4,
          4,
          4.1,
          4.4,
          4,
          3.9,
          3.6,
          4.4,
          4.4,
          4.3,
          4.1,
          3.8,
          4.1,
          3.7,
          3.9,
          4.4,
          4,
          1.8,
          4.3,
          4.3,
          4.3,
          4.3,
          4.3,
          5,
          3.9,
          3.5,
          4,
          4.3,
          3.9,
          3.9,
          4,
          3.9,
          4,
          3.7,
          4.5,
          3.4,
          5,
          4.3,
          4.5,
          4.5,
          4.2,
          4.3,
          4.1,
          4.5,
          3.8,
          4.1,
          4.4,
          4.4,
          4.4,
          4.4,
          4.1,
          4.1,
          4.1,
          4,
          4.2,
          3.6,
          3.6,
          4.2,
          3.6,
          4.4,
          3.6,
          3.6,
          4.4,
          3.9,
          4.1,
          3.1,
          4.1,
          4.6,
          3.9,
          3.9,
          3,
          4,
          3.6,
          4.5,
          4.5,
          4.5,
          4.5,
          4.5,
          3.3,
          3.3,
          4.3,
          4.1,
          4.1,
          4.2,
          4.2,
          4.7,
          4.7,
          4.3,
          3.2,
          2.8,
          4.1,
          5,
          3.9,
          3.3,
          2.6,
          3.3,
          4.5,
          4.2,
          4.3,
          4.1,
          2.4,
          4.8,
          3.9,
          4.4,
          4.3,
          3.8,
          3.8,
          3.6,
          3.9,
          3.1,
          3.1,
          3.9,
          3.9,
          3.9,
          3.9,
          3.9,
          4,
          3.8,
          3.8,
          5,
          3.2,
          4.2,
          4.2,
          4.2,
          4.3,
          4.6,
          4.3,
          3,
          4,
          3.6,
          3.1,
          2.7,
          4.6,
          3.3,
          3.3,
          2.5,
          4.3,
          4.2,
          3.9,
          3.4,
          4.1,
          3.8,
          3.8,
          3.9,
          4.1,
          3.5,
          4.5,
          3.5,
          3.8,
          2.5,
          3.5,
          4.5,
          4.3,
          4.3,
          4.3,
          4.5,
          4.5,
          3.8,
          3.8,
          4.8,
          4.1,
          4.4,
          4.6,
          4.3,
          3.9,
          4.8,
          4.4,
          4.6,
          4.6,
          4.6,
          3.9,
          4.7,
          4.2,
          4,
          4.1,
          4.6,
          4.4,
          4.2,
          4.5,
          4.5,
          4.5,
          4.5,
          3.9,
          4.2,
          4.7,
          4.3,
          4.2,
          4.4,
          4.1,
          4.3,
          4.4,
          4.3,
          4.1,
          4.4,
          4,
          4.2,
          4.5,
          4.2,
          4.1,
          4.6,
          4.3,
          4.1,
          4.1,
          4.2,
          3.9,
          4.3,
          4.4,
          4.4,
          3.5,
          4,
          4.2,
          3.9,
          4.2,
          4.4,
          4.5,
          4.2,
          4.5,
          4.4,
          4.4,
          4,
          4.4,
          4.3,
          4.4,
          4.3,
          4,
          4.3,
          4.4,
          4.3,
          4.5,
          3.7,
          4.5,
          4.4,
          4.2,
          4.4,
          4.1,
          4.3,
          4.2,
          4.2,
          4.4,
          4.6,
          4.3,
          4.3,
          3.7,
          4.3,
          4,
          4.3,
          4,
          4.2,
          4.2,
          4.1,
          4.4,
          4.3,
          4.3,
          4.3,
          4.2,
          4.2,
          4.5,
          4.3,
          4.3,
          4.3,
          4.3,
          4.4,
          4.4,
          4.5,
          4.5,
          4.2,
          4,
          4.5,
          4.1,
          4.3,
          4.5,
          4.3,
          4.5,
          4.6,
          4.2,
          4.3,
          4,
          4.3,
          4,
          3.7,
          4.2,
          4.1,
          4,
          4,
          4.2,
          4.1,
          4.3,
          4.3,
          3.9,
          4,
          4.7,
          4.2,
          4.2,
          4.4,
          4.7,
          4.2,
          4.7,
          4.6,
          4.4,
          4.5,
          4.5,
          4.4,
          4.5,
          4.1,
          4.1,
          4.5,
          4.4,
          4.4,
          4.2,
          4.3,
          4.2,
          4.7,
          4.2,
          4.7,
          4.2,
          4.1,
          4,
          3.8,
          4.5,
          4.2,
          4.7,
          4.5,
          4.2,
          4.4,
          4.4,
          4.2,
          4.5,
          4.2,
          3.1,
          4.3,
          4.3,
          4.1,
          3.4,
          4,
          3.9,
          4.5,
          4.3,
          3.4,
          4.3,
          4.6,
          4.2,
          4.4,
          4.3,
          4.6,
          4.1,
          3.9,
          3.7,
          3.7,
          4.3,
          3.9,
          4,
          3.9,
          4,
          4.2,
          4.4,
          3.7,
          4,
          3.7,
          4.1,
          4.4,
          3.9,
          3.9,
          4.3,
          4,
          4.6,
          3.9,
          4.5,
          4,
          4.1,
          4.7,
          4.2,
          4.5,
          4.4,
          4.4,
          3.7,
          3.3,
          3.4,
          4.3,
          4.1,
          3.6,
          4.3,
          4.2,
          4.1,
          4.7,
          4,
          4.2,
          4,
          4.6,
          4.3,
          4.4,
          4.6,
          4.2,
          4.7,
          4.3,
          4.5,
          4.6,
          4.5,
          4.5,
          4.6,
          4.2,
          4.1,
          3.7,
          4.4,
          4.3,
          4.3,
          4.3,
          4.4,
          4.4,
          4.2,
          4.2,
          4.7,
          4.7,
          3.1,
          4.7,
          4.3,
          4.4,
          4.3,
          4.3,
          4.6,
          4.1,
          4.5,
          4.5,
          4.6,
          4.4,
          4.1,
          4.3,
          4.1,
          4.3,
          4.7,
          4.5,
          4.5,
          4.3,
          4.8,
          3.9,
          4.5,
          4.4,
          3.9,
          4.6,
          4.5,
          4.7,
          4.5,
          4.7,
          4.4,
          4.5,
          4.2,
          4.5,
          4.4,
          3.9,
          4.4,
          4.5,
          4.5,
          4.5,
          4.3,
          4.1,
          4.6,
          4.5,
          4.6,
          4.5,
          4.5,
          4.5,
          4.8,
          4.6,
          4.1,
          4.2,
          4.6,
          4,
          4.6,
          4.4,
          4.4,
          4.6,
          4.5,
          4.4,
          4.4,
          4.5,
          4.4,
          4.5,
          4.4,
          4.3,
          4.5,
          4.6,
          4.2,
          4.6,
          4.1,
          4.3,
          4.2,
          4.5,
          4.6,
          3.7,
          4.6,
          4.4,
          4.5,
          3.8,
          4.3,
          3.8,
          4.5,
          4.6,
          4.2,
          4.4,
          4.6,
          3.9,
          3.4,
          3.7,
          3.6,
          4.1,
          4.6,
          4.4,
          4.1,
          4.1,
          4.1,
          4.6,
          4.5,
          4.4,
          4.5,
          4.6,
          4.4,
          4.3,
          4.5,
          4.6,
          4.6,
          4.4,
          4.3,
          4.6,
          4.5,
          4.6,
          4.7,
          4.7,
          4.7,
          4.5,
          4.6,
          4.4,
          4.4,
          4.6,
          4.7,
          4.4,
          4.5,
          4.7,
          4.7,
          4.4,
          4.3,
          4.4,
          4.4,
          4.4,
          4.6,
          4.6,
          4.3,
          4,
          4.4,
          4.6,
          4.2,
          4.7,
          4.7,
          4.6,
          4.4,
          4.6,
          4.6,
          4.6,
          4.5,
          4.7,
          4.5,
          4.6,
          4.4,
          4.3,
          4.3,
          4.5,
          4.7,
          4.5,
          4.5,
          4.5,
          4.5,
          4.4,
          4.3,
          4.4,
          4.6,
          4.6,
          4.2,
          4.7,
          4.6,
          4.4,
          4.5,
          4.2,
          4.5,
          4.3,
          4.5,
          4.5,
          4.7,
          4.5,
          4.3,
          4.5,
          4.1,
          4.5,
          4.5,
          4.3,
          4.5,
          4.2,
          4.3,
          4.1,
          4.5,
          4.1,
          4.7,
          4,
          4,
          4.4,
          4.2,
          4.4,
          4.7,
          3,
          4.4,
          4.3,
          4.3,
          4.6,
          4.2,
          4.3,
          3.8,
          3.8,
          4.1,
          4.5,
          4.3,
          4.4,
          4,
          4.6,
          4.4,
          4.2,
          4.6,
          4.5,
          4.2,
          4,
          4.5,
          4.5,
          4.2,
          4.3,
          4.2,
          4.3,
          4.3,
          4.3,
          4.1,
          4.2,
          4.1,
          4.1,
          4.4,
          3.9,
          4,
          4.5,
          3.6,
          4.1,
          4,
          4.3,
          4.5,
          3.8,
          4.2,
          4.4,
          4.2,
          4.1,
          4.2,
          4.4,
          4.1,
          4.3,
          4.2,
          4.1,
          4.3,
          4.2,
          4.6,
          4.6,
          4.4,
          4.4,
          4.2,
          4.6,
          4.7,
          4.3,
          4.7,
          4.3,
          4.3,
          4.3,
          4.4,
          4.3,
          4,
          4.1,
          4.1,
          4.5,
          4.4,
          4.6,
          4.7,
          4.2,
          4.2,
          4.6,
          4.5,
          3.9,
          4.3,
          4.4,
          4.6,
          3.8,
          4.5,
          3.6,
          4.5,
          4.2,
          4.4,
          3.7,
          4.3,
          4.4,
          4.2,
          4.6,
          4.3,
          4.4,
          4.4,
          4.5,
          4.5,
          4.3,
          4.4,
          4.3,
          4.3,
          4.4,
          4.3,
          4.4,
          4.5,
          4.1,
          4.3,
          4.5,
          4.3,
          4.3,
          4.4,
          4.4,
          4.3,
          4.3,
          4.6,
          4.3,
          4.1,
          4.6,
          4.6,
          4.7,
          4.3,
          4.4,
          4.2,
          4.2,
          4.6,
          4.4,
          4.5,
          4.5,
          4.5,
          4.2,
          4.4,
          4.2,
          4.1,
          4.3,
          4.5,
          4.4,
          4.7,
          4.2,
          4.3,
          4.2,
          3.9,
          4.2,
          4,
          4.3,
          4.4,
          3.3,
          3.9,
          4.4,
          4.2,
          4,
          4.5,
          4.6,
          4.6,
          4.2,
          4.2,
          4.4,
          4.6,
          4.3,
          4.2,
          4.7,
          4.6,
          4.1,
          4.6,
          4.5,
          4.2,
          4.2,
          4.5,
          4.2,
          4.4,
          4.1,
          4.5,
          4.7,
          4.1,
          4.4,
          4.4,
          4.3,
          4.3,
          4,
          4.1,
          4.2,
          4.3,
          4.4,
          4.4,
          3.7,
          3.9,
          3.8,
          4.3,
          3.4,
          4.5,
          4.8,
          4.7,
          3.7,
          4.3,
          4.1,
          3.1,
          4.3,
          4.6,
          4.4,
          4.4,
          4.4,
          4,
          4.4,
          4.4,
          4.3,
          4.3,
          4.5,
          4.4,
          4.4,
          4.6,
          4.5,
          4.3,
          4.5,
          4,
          4.2,
          4.4,
          4.4,
          4.2,
          4.1,
          4.1,
          4.3,
          4.2,
          4.1,
          4.6,
          4.5,
          3.2,
          4.3,
          4.6,
          4.5,
          3.6,
          3.6,
          4.1,
          4.2,
          3.5,
          3,
          4.5,
          3.4,
          4.4,
          3.4,
          4.3,
          4.5,
          4.4,
          4.3,
          4.2,
          4.7,
          4.3,
          4.5,
          4.6,
          4.6,
          4.5,
          4.5,
          4.3,
          4.4,
          4.2,
          4.5,
          4.3,
          4.4,
          4.5,
          4.3,
          4.1,
          4.6,
          4.4,
          4.4,
          4.6,
          4.6,
          4.7,
          4,
          4.4,
          4.3,
          4.5,
          4.3,
          4.2,
          4.3,
          4.3,
          4.6,
          4.3,
          4.4,
          4.4,
          4.3,
          4.3,
          4.4,
          4.2,
          4.5,
          4.7,
          4.3,
          4.4,
          4.4,
          4.2,
          4.5,
          4.4,
          4.7,
          4.4,
          4,
          4.4,
          4.5,
          4.2,
          3.9,
          4.2,
          4.3,
          4.2,
          4.4,
          4.6,
          3.1,
          4.1,
          4.5,
          3.9,
          4.5,
          4.3,
          3.7,
          4.5,
          4,
          4.6,
          4.6,
          4.3,
          4.5,
          4.6,
          4.3,
          4.2,
          4.6,
          4.5,
          4.4,
          4.3,
          4.3,
          4.5,
          4.3,
          4.5,
          4.4,
          4.2,
          4.2,
          4.6,
          4.4,
          4,
          4.6,
          4.6,
          4.5,
          4.4,
          4.3,
          4.2,
          4.4,
          4.6,
          4.3,
          4.2,
          4.4,
          4.6,
          4.4,
          4.3,
          4.1,
          3.9,
          4.4,
          4.7,
          4.4,
          4.4,
          4.4,
          4.5,
          4.5,
          3.5,
          4.4,
          3.7,
          4.2,
          3.9,
          4.5,
          4.3,
          4.6,
          4.5,
          3.9,
          4.2,
          4,
          4.3,
          3.9,
          4.8,
          4.4,
          4.4,
          4.3,
          4.3,
          3.7,
          3.6,
          4.5,
          4.2,
          3.8,
          4.4,
          3.1,
          4.1,
          4,
          4.5,
          3.7,
          3.9,
          4.5,
          4.5,
          4.4,
          4.3,
          4.1,
          4.2,
          3.8,
          4.3,
          4.6,
          4.3,
          3.8,
          4,
          4.1,
          4.4,
          3.7,
          4.5,
          3.9,
          4.4,
          4.5,
          3.6,
          4.1,
          3.9,
          4.4,
          4,
          4.3,
          4.1,
          4.2,
          4,
          4,
          4.1,
          4.5,
          4.4,
          4.6,
          4.2,
          4.1,
          4.4,
          4.2,
          4.2,
          4,
          4.2,
          4.1,
          4.3,
          4.4,
          4.2,
          4.2,
          3.7,
          4.4,
          3.7,
          4.4,
          4.2,
          4.2,
          4,
          4.1,
          4.5,
          4.4,
          4.2,
          3.8,
          4.3,
          4.4,
          4.4,
          4.3,
          4.1,
          4.4,
          4.5,
          4.5,
          4.5,
          4.3,
          4.3,
          4.5,
          4.4,
          4.7,
          4.1,
          4.4,
          4.3,
          3.1,
          4.2,
          4.5,
          4.1,
          4.3,
          4.5,
          4.7,
          4.6,
          4.5,
          4.6,
          4.5,
          4.5,
          4.4,
          4.2,
          4.4,
          4.7,
          4.2,
          4.6,
          4.6,
          4.5,
          4.5,
          4,
          4.3,
          4.6,
          4.4,
          4.3,
          4.4,
          4.3,
          4.2,
          4.2,
          4.2,
          4.2,
          4.4,
          4,
          4.6,
          3,
          4.4,
          4,
          4.2,
          4.4,
          4.2,
          4.2,
          4.4,
          4.3,
          3.5,
          4.1,
          4.3,
          4.1,
          4.6,
          4.4,
          4.3,
          4.5,
          4.3,
          4.3,
          4,
          4.5,
          4.6,
          4.5,
          4.4,
          4.4,
          4.3,
          4.6,
          4.4,
          3.4,
          4.5,
          4.4,
          4.4,
          4.6,
          4.6,
          3.5,
          4.4,
          4.6,
          4.3,
          4.4,
          3.7,
          3.3,
          4.1,
          3.8,
          4.5,
          3.6,
          3.7,
          4.2,
          3.2,
          4.4,
          4.3,
          3.9,
          4.4,
          4.5,
          4.3,
          4.6,
          4.2,
          4.6,
          4.6,
          4.3,
          4.3,
          4.5,
          4.5,
          4.6,
          4.5,
          4.4,
          4.6,
          4.4,
          4.5,
          3.8,
          4.5,
          4.3,
          4.2,
          4.2,
          4.4,
          4.4,
          4.2,
          4.5,
          4.5,
          4.4,
          4.1,
          4.6,
          4.4,
          4.6,
          4.3,
          4.8,
          3.5,
          4.4,
          3.7,
          4.3,
          4.6,
          4.6,
          4.2,
          4,
          4.4,
          4.5,
          3.9,
          4.2,
          3.9,
          4.4,
          4.2,
          4.4,
          4.1,
          4.6,
          4.3,
          4.4,
          2.9,
          2.9,
          2.9,
          2.9,
          2.9,
          4,
          4,
          4.4,
          4.4,
          4.6,
          4.6,
          4.1,
          4.5,
          4.3,
          4.7,
          4.7,
          4.2,
          4,
          4.2,
          4.3,
          4.5,
          4.5,
          4.5,
          4.8,
          3.7,
          4.4,
          4.3,
          4.4,
          4.4,
          4.3,
          5,
          4.4,
          4.4,
          4.1,
          3.8,
          4.3,
          4.6,
          4.4,
          4.3,
          3.8,
          4.5,
          4.5,
          4.2,
          4.3,
          3.7,
          4.1,
          4.2,
          4.2,
          4.1,
          4.2,
          4.4,
          4.3,
          4.3,
          4.3,
          4.3,
          4.4,
          4.6,
          4.2,
          4.4,
          4.5,
          3.8,
          4.5,
          4.4,
          4.8,
          4,
          4.3,
          4.3,
          4.1,
          4.1,
          3.8,
          3.8,
          2.7,
          4,
          4.2,
          4.1,
          3,
          4.5,
          4.5,
          4.1,
          4.3,
          4.3,
          4.6,
          3.9,
          4.2,
          3.7,
          4.2,
          2.9,
          4.2,
          4.2,
          3.7,
          4.5,
          4.4,
          4.2,
          4.7,
          3,
          3,
          3.4,
          4.8,
          4.6,
          4.6,
          4.7,
          4.2,
          4.1,
          4.2,
          4.6,
          3.9,
          4.2,
          4.1,
          4.3,
          4.6,
          4.2,
          4.5,
          4.3,
          4.3,
          4.3,
          3.8,
          3.8,
          4.3,
          4.7,
          4.3,
          4.3,
          4.3,
          4.3,
          4.3,
          4.5,
          4.7,
          1.9,
          4.3,
          4.6,
          4.2,
          3.6,
          3.8,
          3.8,
          4.3,
          3.4,
          3.4,
          4.4,
          4.6,
          4.3,
          4.3,
          4.2,
          3.9,
          4.5,
          4.3,
          5,
          4.3,
          4.3,
          4.2,
          3.8,
          4.2,
          4.7,
          4.6,
          4.2,
          4.3,
          4.3,
          4.6,
          4.4,
          4,
          4,
          4,
          4.4,
          4.5,
          4.6,
          4.6,
          3.8,
          3.8,
          3.8,
          4.4,
          4.4,
          3.7,
          4.3,
          3.5,
          4.3,
          4.3,
          4.4,
          3.7,
          3.7,
          4.6,
          4.2,
          4.2,
          4.7,
          4.7,
          4.1,
          4.7,
          4.6,
          4.4,
          4.1,
          4,
          4.3,
          4.2,
          3.6,
          4.4,
          4.5,
          4.4,
          2.5,
          4.6,
          4.6,
          4.3,
          3.7,
          4.8,
          3.4,
          3,
          4,
          4.6,
          4.4,
          3.7,
          3.9,
          4.1,
          4,
          3.3,
          4.4,
          4.5,
          5,
          4.5,
          4.5,
          3.9,
          4.4,
          3.7,
          4.3,
          4,
          3.5,
          4.4,
          4.1,
          4.4,
          4.2,
          4.2,
          4.1,
          4.2,
          4.3,
          4.5,
          4,
          4.6,
          4.3,
          4.5,
          4.2,
          4.5,
          3.9,
          4.3,
          4.7,
          4.7,
          4.4,
          4.3,
          4.2,
          4.4,
          4.7,
          4.2,
          4.4,
          4.3,
          4.6,
          4.5,
          4.3,
          4.2,
          2.6,
          2.6,
          2.6,
          4.5,
          4.3,
          4.1,
          4,
          4.3,
          4.3,
          3.7,
          4.5,
          4,
          4.5,
          3.8,
          3.8,
          3.2,
          3.6,
          4.4,
          4.4,
          4.3,
          4.4,
          4.3,
          4.7,
          2.7,
          2.7,
          4.3,
          4,
          4,
          4,
          4,
          3,
          4.4,
          4,
          4.5,
          4.4,
          4.4,
          4.5,
          4.6,
          4.3,
          4.3,
          3.1,
          4.7,
          4.4,
          4.4,
          4,
          4,
          4.3,
          3,
          3,
          3.9,
          4.3,
          5,
          5,
          3.4,
          4.4,
          4.4,
          4.2,
          4.2,
          4.2,
          4.6,
          3.8,
          4.3,
          4.5,
          4.2,
          4.4,
          4.4,
          4.6,
          4.5,
          4.3,
          4.3,
          4.9,
          4.4,
          4.4,
          4.2,
          4.4,
          5,
          5,
          4.3,
          4.2,
          4.4,
          4.3,
          4.7,
          4.4,
          4.3,
          3.9,
          4.5,
          3.7,
          4.4,
          4.2,
          4.3,
          4.6,
          4.5,
          4.3,
          4,
          4.2,
          4.2,
          4.1,
          4.5,
          4.1,
          4.2,
          4.7,
          3,
          3.5,
          4.3,
          4.3,
          4,
          3.7,
          3.6,
          3.6,
          3.9,
          3.8,
          3.8,
          4.1,
          3.8,
          4,
          4.4,
          3.9,
          4.2,
          4.4,
          3.6,
          4,
          3.2,
          4.2,
          3.9,
          3.7,
          3.8,
          4.2,
          4,
          4.1,
          4,
          4.2,
          4.8,
          4.6,
          4.6,
          4,
          4.4,
          3.9,
          4.2,
          4.2,
          3.6,
          4.1,
          4.4,
          4.4,
          3.9,
          3.9,
          4.6,
          4.5,
          4.4,
          4.4,
          3.6,
          3.4,
          4,
          4.5
         ],
         "xaxis": "x",
         "yaxis": "y"
        },
        {
         "alignmentgroup": "True",
         "bingroup": "x",
         "hovertemplate": "Type=Paid<br>Rating=%{x}<br>count=%{y}<extra></extra>",
         "legendgroup": "Paid",
         "marker": {
          "color": "#EF553B",
          "pattern": {
           "shape": ""
          }
         },
         "name": "Paid",
         "offsetgroup": "Paid",
         "orientation": "v",
         "showlegend": true,
         "type": "histogram",
         "x": [
          4.7,
          4.8,
          2.6,
          3.5,
          3.5,
          3.5,
          4.9,
          4.7,
          4.7,
          4.7,
          4.6,
          4.1,
          4.6,
          4.4,
          4.6,
          4.9,
          4.4,
          4.5,
          4.6,
          4.2,
          4.5,
          4.6,
          4.2,
          4.3,
          4.2,
          3,
          4.7,
          4.4,
          4.3,
          4.5,
          4.8,
          4.4,
          4.8,
          4.2,
          4.2,
          4,
          4.7,
          4.7,
          3.9,
          4.5,
          4.6,
          4.3,
          4.5,
          4.4,
          4.3,
          4.2,
          4.6,
          4.5,
          4.5,
          3.2,
          4.6,
          4.5,
          4.1,
          4.6,
          4.5,
          4.4,
          4.4,
          4.4,
          3.8,
          4.6,
          4,
          5,
          3.4,
          3.4,
          3.4,
          4.4,
          4.4,
          4.2,
          5,
          4.1,
          4.6,
          4.2,
          4.2,
          4.7,
          4.7,
          4.5,
          4.2,
          4.2,
          4.3,
          4.1,
          4.4,
          4.2,
          4.5,
          2.6,
          2.6,
          4.6,
          4.8,
          4.2,
          4.7,
          3,
          3.5,
          4.6,
          4.1,
          4,
          4.8,
          3.7,
          3.7,
          3.7,
          3.7,
          4.4,
          4.3,
          4.1,
          4.2,
          4.3,
          4.3,
          4.8,
          5,
          2.9,
          4.1,
          4.4,
          4.3,
          3.9,
          4.6,
          4.2,
          4.8,
          4.6,
          4.6,
          4.6,
          1,
          3.4,
          4.1,
          4.1,
          4.2,
          1.8,
          3.4,
          4.6,
          4.6,
          4.3,
          4.3,
          4.5,
          4.5,
          3.3,
          4.9,
          4.3,
          4.6,
          4.6,
          4.7,
          4.8,
          4.6,
          4.7,
          4.8,
          3.8,
          3.6,
          4.3,
          4.5,
          4.1,
          4.4,
          3.8,
          4.8,
          4.6,
          4.5,
          4.5,
          4.1,
          3.9,
          4.6,
          4.6,
          4.4,
          3.8,
          3.7,
          4.2,
          4.6,
          5,
          5,
          4,
          4.2,
          4.2,
          4.6,
          4.6,
          4.1,
          3.9,
          4.4,
          4.4,
          4.6,
          3.6,
          5,
          4.8,
          3.7,
          4.7,
          4.7,
          4.8,
          4.5,
          4.1,
          4.3,
          4.5,
          4.8,
          3.8,
          4.7,
          4.5,
          4.8,
          4.7,
          4.4,
          4.4,
          4.2,
          4.1,
          4.2,
          4.2,
          4.1,
          4.5,
          4.3,
          4.2,
          4.7,
          3.8,
          3.2,
          4,
          4.7,
          4.8,
          4.7,
          4.6,
          4.2,
          4.5,
          4.5,
          4.3,
          4.5,
          4,
          4.6,
          4.8,
          4.3,
          3.8,
          4.3,
          4.5,
          3.7,
          4.8,
          3.9,
          4.5,
          4.4,
          4.5,
          4.5,
          4.4,
          4.2,
          4.4,
          5,
          4.2,
          3.5,
          4.3,
          4.5,
          4.5,
          4.1,
          3,
          3,
          3.5,
          4.6,
          4.4,
          5,
          5,
          4.1,
          4.8,
          5,
          5,
          4.5,
          4.4,
          4.9,
          4.7,
          3.8,
          4,
          3.8,
          4.1,
          2.9,
          3.8,
          4.2,
          4.6,
          4.4,
          4.1,
          3.6,
          4,
          4.3,
          3.6,
          4,
          4.6,
          4.7,
          4.7,
          4.7,
          4.7,
          3.6,
          2.9,
          4.5,
          4.2,
          5,
          4.4,
          4.6,
          4.5,
          3.9,
          4.6,
          4.6,
          4.5,
          4.6,
          4.7,
          2.8,
          2.7,
          4.2,
          3.3,
          4.4,
          3.9,
          3.1,
          3.7,
          4.6,
          3.7,
          2.4,
          5,
          4.8,
          4.5,
          3.7,
          4,
          4.4,
          4.4,
          3.6,
          4.4,
          5,
          4.7,
          1,
          1,
          4.8,
          3.4,
          4.3,
          3.5,
          4.6,
          4.6,
          4.5,
          4.5,
          4.5,
          4.4,
          2.4,
          4.1,
          4.3,
          4.6,
          4.4,
          4.6,
          3.8,
          4.3,
          4.4,
          4.8,
          4.5,
          4.3,
          4.4,
          4,
          4.3,
          3.7,
          4.9,
          4.5,
          4.7,
          3.1,
          4.5,
          4.6,
          4.4,
          4.3,
          4.2,
          3.6,
          4.4,
          4.4,
          4.3,
          4.3,
          4.7,
          4,
          3.4,
          4.3,
          4.8,
          4.5,
          4.4,
          4.6,
          4.7,
          4.4,
          2.9,
          4.7,
          4.8,
          3.1,
          4.3,
          4.5,
          4.6,
          1.7,
          4.8,
          3,
          5,
          4,
          4.5,
          4.2,
          4.6,
          4.4,
          4.5,
          4.5,
          4.1,
          5,
          5,
          4.3,
          4.7,
          4.4,
          5,
          4.7,
          4.9,
          4.9,
          4.4,
          4.7,
          4.7,
          4.7,
          4.7,
          4.8,
          4.2,
          5,
          4.6,
          4.4,
          4.6,
          5,
          5,
          5,
          4.7,
          4.2,
          4.2,
          4.5,
          4.1,
          4.6,
          4.5,
          3.4,
          4.4,
          4.1,
          4.3,
          3.9,
          4.5,
          4.5,
          3.5,
          3.5,
          3.8,
          4.6,
          3.8,
          4.1,
          3.3,
          4.6,
          3.5,
          2.6,
          3.3,
          3.4,
          3.4,
          4.8,
          4.8,
          3.6,
          4.4,
          2.3,
          4.8,
          3.7,
          4.3,
          4.6,
          4.8,
          5,
          5,
          4.4,
          4.6,
          3.9,
          3.9,
          4.8,
          4.7,
          4.5,
          3.1,
          3.1,
          3.1,
          5,
          3.8,
          4.3,
          4.3,
          2.9,
          4.4,
          4.4,
          3.8,
          3.1,
          4.4,
          4.1,
          3,
          4.5,
          4.2,
          3.4,
          4.5,
          5,
          4.6,
          4,
          4.5,
          4.5,
          3.7,
          4.2,
          3.6,
          3,
          4.3,
          3.7,
          4.6,
          4.6,
          4.4,
          4.7,
          5,
          3.1,
          2.4,
          4.4,
          4.1,
          4.1,
          4.4,
          4.7,
          4.5,
          4.2,
          4.6,
          4.2,
          4.5,
          4.4,
          3.8,
          4.3,
          4.6,
          4.1,
          4.4,
          4.2,
          4.4,
          4.4,
          4.6,
          3.8,
          4.7,
          4.4,
          4.3,
          4.2,
          4.6,
          3.9,
          3.9,
          4,
          3.5,
          4.6,
          4.3,
          3.8,
          4.7,
          3.4,
          3.7,
          4.3,
          4.7,
          4.4,
          4.2,
          5,
          3.6,
          4.8,
          5,
          4.4,
          4,
          3.5,
          4.2,
          3.9,
          4.3,
          4.7,
          4.1,
          4.5,
          4.3,
          4.4,
          4.4,
          3.4,
          4.4,
          4.8,
          4.6,
          4.3,
          3,
          4.7,
          4.6,
          5,
          4.7,
          4.2,
          4,
          4.2,
          4,
          3.9,
          4.5,
          4.4,
          4.5,
          4,
          4.6,
          4.5,
          4.7,
          4.3,
          4.1,
          4.3,
          4.7,
          4.4,
          4.5,
          4.2,
          4.4,
          4.4,
          4.3,
          4,
          3.7,
          4.3,
          4.7,
          4.9,
          3.4,
          4.3,
          4,
          5,
          3.7,
          3.7,
          4.2,
          4.2,
          4.2,
          4.2,
          4.5,
          4.3,
          4.1,
          2.3,
          4.3,
          4.7,
          4.2,
          4.4,
          4.5,
          4.8,
          4.5,
          4.6,
          4.7,
          3.8,
          4.8,
          4,
          4.6,
          3.8,
          4.4,
          4.3,
          4.2,
          4.2,
          3.8,
          3.8,
          2.9,
          4.1,
          4.1,
          4.4,
          4.3,
          5,
          4.4,
          3.8,
          4.2,
          4.3,
          4.4,
          4.3,
          4.3,
          3.9,
          3.6,
          4.5,
          4.4,
          4.4,
          4.5,
          4.2,
          4.4,
          4.1,
          4.1,
          3.4,
          4.1,
          4.1,
          3.7,
          3.9,
          3.5,
          5,
          4.5,
          4.4,
          4.4,
          4.4,
          4.2,
          4,
          4.2,
          3.7,
          3.5,
          3.9,
          4.3,
          4.5,
          3.9,
          4.1,
          4,
          4.6,
          4.1,
          4.7,
          4.4,
          4.8,
          4.8,
          3.8,
          3.9,
          4.1,
          4.2,
          2.8,
          4.3,
          5,
          3.6,
          3.9,
          4.2,
          3.8,
          2.7,
          2.9,
          3.3,
          2.9,
          3.5,
          2.8,
          3.7,
          4.5,
          3.7,
          3.7,
          4.5,
          4.2,
          5,
          4.3,
          3.8,
          4,
          4.2,
          4.2,
          4.6,
          4.6,
          4.4,
          4.8,
          4.2,
          4.7,
          4.5,
          4.8,
          2.5,
          4.4,
          4.6,
          4.4,
          4.6,
          4.4,
          3.8,
          4.6,
          4.6,
          4.7,
          4.3,
          4.4,
          4.5,
          4.2,
          4.6,
          4.2,
          4.2,
          4.5,
          4.3,
          4.3,
          4.5,
          4.8,
          4.2,
          4.8,
          4.6,
          4.8,
          4.3,
          4.8,
          4.3,
          4.6,
          4.6,
          4.5,
          4.6,
          4.5,
          4.5,
          4.7,
          4.2,
          4.4,
          3.8,
          4.4,
          4.2,
          3.8,
          3.5,
          4.5,
          4.7,
          4.7,
          4.7,
          2,
          4.3,
          4.8,
          3.6,
          4.7,
          4,
          4,
          4,
          4.5,
          4.2,
          4.7,
          4.6,
          4.4,
          4.5,
          3.9,
          4.6
         ],
         "xaxis": "x",
         "yaxis": "y"
        }
       ],
       "layout": {
        "barmode": "relative",
        "legend": {
         "title": {
          "text": "Type"
         },
         "tracegroupgap": 0
        },
        "template": {
         "data": {
          "bar": [
           {
            "error_x": {
             "color": "#2a3f5f"
            },
            "error_y": {
             "color": "#2a3f5f"
            },
            "marker": {
             "line": {
              "color": "#E5ECF6",
              "width": 0.5
             },
             "pattern": {
              "fillmode": "overlay",
              "size": 10,
              "solidity": 0.2
             }
            },
            "type": "bar"
           }
          ],
          "barpolar": [
           {
            "marker": {
             "line": {
              "color": "#E5ECF6",
              "width": 0.5
             },
             "pattern": {
              "fillmode": "overlay",
              "size": 10,
              "solidity": 0.2
             }
            },
            "type": "barpolar"
           }
          ],
          "carpet": [
           {
            "aaxis": {
             "endlinecolor": "#2a3f5f",
             "gridcolor": "white",
             "linecolor": "white",
             "minorgridcolor": "white",
             "startlinecolor": "#2a3f5f"
            },
            "baxis": {
             "endlinecolor": "#2a3f5f",
             "gridcolor": "white",
             "linecolor": "white",
             "minorgridcolor": "white",
             "startlinecolor": "#2a3f5f"
            },
            "type": "carpet"
           }
          ],
          "choropleth": [
           {
            "colorbar": {
             "outlinewidth": 0,
             "ticks": ""
            },
            "type": "choropleth"
           }
          ],
          "contour": [
           {
            "colorbar": {
             "outlinewidth": 0,
             "ticks": ""
            },
            "colorscale": [
             [
              0,
              "#0d0887"
             ],
             [
              0.1111111111111111,
              "#46039f"
             ],
             [
              0.2222222222222222,
              "#7201a8"
             ],
             [
              0.3333333333333333,
              "#9c179e"
             ],
             [
              0.4444444444444444,
              "#bd3786"
             ],
             [
              0.5555555555555556,
              "#d8576b"
             ],
             [
              0.6666666666666666,
              "#ed7953"
             ],
             [
              0.7777777777777778,
              "#fb9f3a"
             ],
             [
              0.8888888888888888,
              "#fdca26"
             ],
             [
              1,
              "#f0f921"
             ]
            ],
            "type": "contour"
           }
          ],
          "contourcarpet": [
           {
            "colorbar": {
             "outlinewidth": 0,
             "ticks": ""
            },
            "type": "contourcarpet"
           }
          ],
          "heatmap": [
           {
            "colorbar": {
             "outlinewidth": 0,
             "ticks": ""
            },
            "colorscale": [
             [
              0,
              "#0d0887"
             ],
             [
              0.1111111111111111,
              "#46039f"
             ],
             [
              0.2222222222222222,
              "#7201a8"
             ],
             [
              0.3333333333333333,
              "#9c179e"
             ],
             [
              0.4444444444444444,
              "#bd3786"
             ],
             [
              0.5555555555555556,
              "#d8576b"
             ],
             [
              0.6666666666666666,
              "#ed7953"
             ],
             [
              0.7777777777777778,
              "#fb9f3a"
             ],
             [
              0.8888888888888888,
              "#fdca26"
             ],
             [
              1,
              "#f0f921"
             ]
            ],
            "type": "heatmap"
           }
          ],
          "heatmapgl": [
           {
            "colorbar": {
             "outlinewidth": 0,
             "ticks": ""
            },
            "colorscale": [
             [
              0,
              "#0d0887"
             ],
             [
              0.1111111111111111,
              "#46039f"
             ],
             [
              0.2222222222222222,
              "#7201a8"
             ],
             [
              0.3333333333333333,
              "#9c179e"
             ],
             [
              0.4444444444444444,
              "#bd3786"
             ],
             [
              0.5555555555555556,
              "#d8576b"
             ],
             [
              0.6666666666666666,
              "#ed7953"
             ],
             [
              0.7777777777777778,
              "#fb9f3a"
             ],
             [
              0.8888888888888888,
              "#fdca26"
             ],
             [
              1,
              "#f0f921"
             ]
            ],
            "type": "heatmapgl"
           }
          ],
          "histogram": [
           {
            "marker": {
             "pattern": {
              "fillmode": "overlay",
              "size": 10,
              "solidity": 0.2
             }
            },
            "type": "histogram"
           }
          ],
          "histogram2d": [
           {
            "colorbar": {
             "outlinewidth": 0,
             "ticks": ""
            },
            "colorscale": [
             [
              0,
              "#0d0887"
             ],
             [
              0.1111111111111111,
              "#46039f"
             ],
             [
              0.2222222222222222,
              "#7201a8"
             ],
             [
              0.3333333333333333,
              "#9c179e"
             ],
             [
              0.4444444444444444,
              "#bd3786"
             ],
             [
              0.5555555555555556,
              "#d8576b"
             ],
             [
              0.6666666666666666,
              "#ed7953"
             ],
             [
              0.7777777777777778,
              "#fb9f3a"
             ],
             [
              0.8888888888888888,
              "#fdca26"
             ],
             [
              1,
              "#f0f921"
             ]
            ],
            "type": "histogram2d"
           }
          ],
          "histogram2dcontour": [
           {
            "colorbar": {
             "outlinewidth": 0,
             "ticks": ""
            },
            "colorscale": [
             [
              0,
              "#0d0887"
             ],
             [
              0.1111111111111111,
              "#46039f"
             ],
             [
              0.2222222222222222,
              "#7201a8"
             ],
             [
              0.3333333333333333,
              "#9c179e"
             ],
             [
              0.4444444444444444,
              "#bd3786"
             ],
             [
              0.5555555555555556,
              "#d8576b"
             ],
             [
              0.6666666666666666,
              "#ed7953"
             ],
             [
              0.7777777777777778,
              "#fb9f3a"
             ],
             [
              0.8888888888888888,
              "#fdca26"
             ],
             [
              1,
              "#f0f921"
             ]
            ],
            "type": "histogram2dcontour"
           }
          ],
          "mesh3d": [
           {
            "colorbar": {
             "outlinewidth": 0,
             "ticks": ""
            },
            "type": "mesh3d"
           }
          ],
          "parcoords": [
           {
            "line": {
             "colorbar": {
              "outlinewidth": 0,
              "ticks": ""
             }
            },
            "type": "parcoords"
           }
          ],
          "pie": [
           {
            "automargin": true,
            "type": "pie"
           }
          ],
          "scatter": [
           {
            "marker": {
             "colorbar": {
              "outlinewidth": 0,
              "ticks": ""
             }
            },
            "type": "scatter"
           }
          ],
          "scatter3d": [
           {
            "line": {
             "colorbar": {
              "outlinewidth": 0,
              "ticks": ""
             }
            },
            "marker": {
             "colorbar": {
              "outlinewidth": 0,
              "ticks": ""
             }
            },
            "type": "scatter3d"
           }
          ],
          "scattercarpet": [
           {
            "marker": {
             "colorbar": {
              "outlinewidth": 0,
              "ticks": ""
             }
            },
            "type": "scattercarpet"
           }
          ],
          "scattergeo": [
           {
            "marker": {
             "colorbar": {
              "outlinewidth": 0,
              "ticks": ""
             }
            },
            "type": "scattergeo"
           }
          ],
          "scattergl": [
           {
            "marker": {
             "colorbar": {
              "outlinewidth": 0,
              "ticks": ""
             }
            },
            "type": "scattergl"
           }
          ],
          "scattermapbox": [
           {
            "marker": {
             "colorbar": {
              "outlinewidth": 0,
              "ticks": ""
             }
            },
            "type": "scattermapbox"
           }
          ],
          "scatterpolar": [
           {
            "marker": {
             "colorbar": {
              "outlinewidth": 0,
              "ticks": ""
             }
            },
            "type": "scatterpolar"
           }
          ],
          "scatterpolargl": [
           {
            "marker": {
             "colorbar": {
              "outlinewidth": 0,
              "ticks": ""
             }
            },
            "type": "scatterpolargl"
           }
          ],
          "scatterternary": [
           {
            "marker": {
             "colorbar": {
              "outlinewidth": 0,
              "ticks": ""
             }
            },
            "type": "scatterternary"
           }
          ],
          "surface": [
           {
            "colorbar": {
             "outlinewidth": 0,
             "ticks": ""
            },
            "colorscale": [
             [
              0,
              "#0d0887"
             ],
             [
              0.1111111111111111,
              "#46039f"
             ],
             [
              0.2222222222222222,
              "#7201a8"
             ],
             [
              0.3333333333333333,
              "#9c179e"
             ],
             [
              0.4444444444444444,
              "#bd3786"
             ],
             [
              0.5555555555555556,
              "#d8576b"
             ],
             [
              0.6666666666666666,
              "#ed7953"
             ],
             [
              0.7777777777777778,
              "#fb9f3a"
             ],
             [
              0.8888888888888888,
              "#fdca26"
             ],
             [
              1,
              "#f0f921"
             ]
            ],
            "type": "surface"
           }
          ],
          "table": [
           {
            "cells": {
             "fill": {
              "color": "#EBF0F8"
             },
             "line": {
              "color": "white"
             }
            },
            "header": {
             "fill": {
              "color": "#C8D4E3"
             },
             "line": {
              "color": "white"
             }
            },
            "type": "table"
           }
          ]
         },
         "layout": {
          "annotationdefaults": {
           "arrowcolor": "#2a3f5f",
           "arrowhead": 0,
           "arrowwidth": 1
          },
          "autotypenumbers": "strict",
          "coloraxis": {
           "colorbar": {
            "outlinewidth": 0,
            "ticks": ""
           }
          },
          "colorscale": {
           "diverging": [
            [
             0,
             "#8e0152"
            ],
            [
             0.1,
             "#c51b7d"
            ],
            [
             0.2,
             "#de77ae"
            ],
            [
             0.3,
             "#f1b6da"
            ],
            [
             0.4,
             "#fde0ef"
            ],
            [
             0.5,
             "#f7f7f7"
            ],
            [
             0.6,
             "#e6f5d0"
            ],
            [
             0.7,
             "#b8e186"
            ],
            [
             0.8,
             "#7fbc41"
            ],
            [
             0.9,
             "#4d9221"
            ],
            [
             1,
             "#276419"
            ]
           ],
           "sequential": [
            [
             0,
             "#0d0887"
            ],
            [
             0.1111111111111111,
             "#46039f"
            ],
            [
             0.2222222222222222,
             "#7201a8"
            ],
            [
             0.3333333333333333,
             "#9c179e"
            ],
            [
             0.4444444444444444,
             "#bd3786"
            ],
            [
             0.5555555555555556,
             "#d8576b"
            ],
            [
             0.6666666666666666,
             "#ed7953"
            ],
            [
             0.7777777777777778,
             "#fb9f3a"
            ],
            [
             0.8888888888888888,
             "#fdca26"
            ],
            [
             1,
             "#f0f921"
            ]
           ],
           "sequentialminus": [
            [
             0,
             "#0d0887"
            ],
            [
             0.1111111111111111,
             "#46039f"
            ],
            [
             0.2222222222222222,
             "#7201a8"
            ],
            [
             0.3333333333333333,
             "#9c179e"
            ],
            [
             0.4444444444444444,
             "#bd3786"
            ],
            [
             0.5555555555555556,
             "#d8576b"
            ],
            [
             0.6666666666666666,
             "#ed7953"
            ],
            [
             0.7777777777777778,
             "#fb9f3a"
            ],
            [
             0.8888888888888888,
             "#fdca26"
            ],
            [
             1,
             "#f0f921"
            ]
           ]
          },
          "colorway": [
           "#636efa",
           "#EF553B",
           "#00cc96",
           "#ab63fa",
           "#FFA15A",
           "#19d3f3",
           "#FF6692",
           "#B6E880",
           "#FF97FF",
           "#FECB52"
          ],
          "font": {
           "color": "#2a3f5f"
          },
          "geo": {
           "bgcolor": "white",
           "lakecolor": "white",
           "landcolor": "#E5ECF6",
           "showlakes": true,
           "showland": true,
           "subunitcolor": "white"
          },
          "hoverlabel": {
           "align": "left"
          },
          "hovermode": "closest",
          "mapbox": {
           "style": "light"
          },
          "paper_bgcolor": "white",
          "plot_bgcolor": "#E5ECF6",
          "polar": {
           "angularaxis": {
            "gridcolor": "white",
            "linecolor": "white",
            "ticks": ""
           },
           "bgcolor": "#E5ECF6",
           "radialaxis": {
            "gridcolor": "white",
            "linecolor": "white",
            "ticks": ""
           }
          },
          "scene": {
           "xaxis": {
            "backgroundcolor": "#E5ECF6",
            "gridcolor": "white",
            "gridwidth": 2,
            "linecolor": "white",
            "showbackground": true,
            "ticks": "",
            "zerolinecolor": "white"
           },
           "yaxis": {
            "backgroundcolor": "#E5ECF6",
            "gridcolor": "white",
            "gridwidth": 2,
            "linecolor": "white",
            "showbackground": true,
            "ticks": "",
            "zerolinecolor": "white"
           },
           "zaxis": {
            "backgroundcolor": "#E5ECF6",
            "gridcolor": "white",
            "gridwidth": 2,
            "linecolor": "white",
            "showbackground": true,
            "ticks": "",
            "zerolinecolor": "white"
           }
          },
          "shapedefaults": {
           "line": {
            "color": "#2a3f5f"
           }
          },
          "ternary": {
           "aaxis": {
            "gridcolor": "white",
            "linecolor": "white",
            "ticks": ""
           },
           "baxis": {
            "gridcolor": "white",
            "linecolor": "white",
            "ticks": ""
           },
           "bgcolor": "#E5ECF6",
           "caxis": {
            "gridcolor": "white",
            "linecolor": "white",
            "ticks": ""
           }
          },
          "title": {
           "x": 0.05
          },
          "xaxis": {
           "automargin": true,
           "gridcolor": "white",
           "linecolor": "white",
           "ticks": "",
           "title": {
            "standoff": 15
           },
           "zerolinecolor": "white",
           "zerolinewidth": 2
          },
          "yaxis": {
           "automargin": true,
           "gridcolor": "white",
           "linecolor": "white",
           "ticks": "",
           "title": {
            "standoff": 15
           },
           "zerolinecolor": "white",
           "zerolinewidth": 2
          }
         }
        },
        "title": {
         "text": "The Distribution of Rating for Free and paid Apps"
        },
        "xaxis": {
         "anchor": "y",
         "domain": [
          0,
          1
         ],
         "title": {
          "text": "Rating"
         }
        },
        "yaxis": {
         "anchor": "x",
         "domain": [
          0,
          1
         ],
         "title": {
          "text": "count"
         }
        }
       }
      }
     },
     "metadata": {},
     "output_type": "display_data"
    }
   ],
   "source": [
    "hist_1= px.histogram(Clean_Data, x= 'Rating',color='Type' , title='The Distribution of Rating for Free and paid Apps')\n",
    "hist_1"
   ]
  },
  {
   "cell_type": "code",
   "execution_count": 52,
   "metadata": {},
   "outputs": [
    {
     "data": {
      "text/html": [
       "<div>\n",
       "<style scoped>\n",
       "    .dataframe tbody tr th:only-of-type {\n",
       "        vertical-align: middle;\n",
       "    }\n",
       "\n",
       "    .dataframe tbody tr th {\n",
       "        vertical-align: top;\n",
       "    }\n",
       "\n",
       "    .dataframe thead th {\n",
       "        text-align: right;\n",
       "    }\n",
       "</style>\n",
       "<table border=\"1\" class=\"dataframe\">\n",
       "  <thead>\n",
       "    <tr style=\"text-align: right;\">\n",
       "      <th></th>\n",
       "      <th>Type</th>\n",
       "      <th>Installs</th>\n",
       "    </tr>\n",
       "  </thead>\n",
       "  <tbody>\n",
       "    <tr>\n",
       "      <th>0</th>\n",
       "      <td>Free</td>\n",
       "      <td>9592</td>\n",
       "    </tr>\n",
       "    <tr>\n",
       "      <th>1</th>\n",
       "      <td>Paid</td>\n",
       "      <td>763</td>\n",
       "    </tr>\n",
       "  </tbody>\n",
       "</table>\n",
       "</div>"
      ],
      "text/plain": [
       "   Type  Installs\n",
       "0  Free      9592\n",
       "1  Paid       763"
      ]
     },
     "execution_count": 52,
     "metadata": {},
     "output_type": "execute_result"
    }
   ],
   "source": [
    "group1=Clean_Data.groupby('Type')['Installs'].count()\n",
    "group1=pd.DataFrame(group1)\n",
    "group1=group1.reset_index()\n",
    "group1"
   ]
  },
  {
   "cell_type": "code",
   "execution_count": 53,
   "metadata": {},
   "outputs": [
    {
     "data": {
      "application/vnd.plotly.v1+json": {
       "config": {
        "plotlyServerURL": "https://plot.ly"
       },
       "data": [
        {
         "domain": {
          "x": [
           0,
           1
          ],
          "y": [
           0,
           1
          ]
         },
         "hovertemplate": "Type=%{label}<br>Installs=%{value}<extra></extra>",
         "labels": [
          "Free",
          "Paid"
         ],
         "legendgroup": "",
         "name": "",
         "showlegend": true,
         "type": "pie",
         "values": [
          9592,
          763
         ]
        }
       ],
       "layout": {
        "legend": {
         "tracegroupgap": 0
        },
        "template": {
         "data": {
          "bar": [
           {
            "error_x": {
             "color": "#2a3f5f"
            },
            "error_y": {
             "color": "#2a3f5f"
            },
            "marker": {
             "line": {
              "color": "#E5ECF6",
              "width": 0.5
             },
             "pattern": {
              "fillmode": "overlay",
              "size": 10,
              "solidity": 0.2
             }
            },
            "type": "bar"
           }
          ],
          "barpolar": [
           {
            "marker": {
             "line": {
              "color": "#E5ECF6",
              "width": 0.5
             },
             "pattern": {
              "fillmode": "overlay",
              "size": 10,
              "solidity": 0.2
             }
            },
            "type": "barpolar"
           }
          ],
          "carpet": [
           {
            "aaxis": {
             "endlinecolor": "#2a3f5f",
             "gridcolor": "white",
             "linecolor": "white",
             "minorgridcolor": "white",
             "startlinecolor": "#2a3f5f"
            },
            "baxis": {
             "endlinecolor": "#2a3f5f",
             "gridcolor": "white",
             "linecolor": "white",
             "minorgridcolor": "white",
             "startlinecolor": "#2a3f5f"
            },
            "type": "carpet"
           }
          ],
          "choropleth": [
           {
            "colorbar": {
             "outlinewidth": 0,
             "ticks": ""
            },
            "type": "choropleth"
           }
          ],
          "contour": [
           {
            "colorbar": {
             "outlinewidth": 0,
             "ticks": ""
            },
            "colorscale": [
             [
              0,
              "#0d0887"
             ],
             [
              0.1111111111111111,
              "#46039f"
             ],
             [
              0.2222222222222222,
              "#7201a8"
             ],
             [
              0.3333333333333333,
              "#9c179e"
             ],
             [
              0.4444444444444444,
              "#bd3786"
             ],
             [
              0.5555555555555556,
              "#d8576b"
             ],
             [
              0.6666666666666666,
              "#ed7953"
             ],
             [
              0.7777777777777778,
              "#fb9f3a"
             ],
             [
              0.8888888888888888,
              "#fdca26"
             ],
             [
              1,
              "#f0f921"
             ]
            ],
            "type": "contour"
           }
          ],
          "contourcarpet": [
           {
            "colorbar": {
             "outlinewidth": 0,
             "ticks": ""
            },
            "type": "contourcarpet"
           }
          ],
          "heatmap": [
           {
            "colorbar": {
             "outlinewidth": 0,
             "ticks": ""
            },
            "colorscale": [
             [
              0,
              "#0d0887"
             ],
             [
              0.1111111111111111,
              "#46039f"
             ],
             [
              0.2222222222222222,
              "#7201a8"
             ],
             [
              0.3333333333333333,
              "#9c179e"
             ],
             [
              0.4444444444444444,
              "#bd3786"
             ],
             [
              0.5555555555555556,
              "#d8576b"
             ],
             [
              0.6666666666666666,
              "#ed7953"
             ],
             [
              0.7777777777777778,
              "#fb9f3a"
             ],
             [
              0.8888888888888888,
              "#fdca26"
             ],
             [
              1,
              "#f0f921"
             ]
            ],
            "type": "heatmap"
           }
          ],
          "heatmapgl": [
           {
            "colorbar": {
             "outlinewidth": 0,
             "ticks": ""
            },
            "colorscale": [
             [
              0,
              "#0d0887"
             ],
             [
              0.1111111111111111,
              "#46039f"
             ],
             [
              0.2222222222222222,
              "#7201a8"
             ],
             [
              0.3333333333333333,
              "#9c179e"
             ],
             [
              0.4444444444444444,
              "#bd3786"
             ],
             [
              0.5555555555555556,
              "#d8576b"
             ],
             [
              0.6666666666666666,
              "#ed7953"
             ],
             [
              0.7777777777777778,
              "#fb9f3a"
             ],
             [
              0.8888888888888888,
              "#fdca26"
             ],
             [
              1,
              "#f0f921"
             ]
            ],
            "type": "heatmapgl"
           }
          ],
          "histogram": [
           {
            "marker": {
             "pattern": {
              "fillmode": "overlay",
              "size": 10,
              "solidity": 0.2
             }
            },
            "type": "histogram"
           }
          ],
          "histogram2d": [
           {
            "colorbar": {
             "outlinewidth": 0,
             "ticks": ""
            },
            "colorscale": [
             [
              0,
              "#0d0887"
             ],
             [
              0.1111111111111111,
              "#46039f"
             ],
             [
              0.2222222222222222,
              "#7201a8"
             ],
             [
              0.3333333333333333,
              "#9c179e"
             ],
             [
              0.4444444444444444,
              "#bd3786"
             ],
             [
              0.5555555555555556,
              "#d8576b"
             ],
             [
              0.6666666666666666,
              "#ed7953"
             ],
             [
              0.7777777777777778,
              "#fb9f3a"
             ],
             [
              0.8888888888888888,
              "#fdca26"
             ],
             [
              1,
              "#f0f921"
             ]
            ],
            "type": "histogram2d"
           }
          ],
          "histogram2dcontour": [
           {
            "colorbar": {
             "outlinewidth": 0,
             "ticks": ""
            },
            "colorscale": [
             [
              0,
              "#0d0887"
             ],
             [
              0.1111111111111111,
              "#46039f"
             ],
             [
              0.2222222222222222,
              "#7201a8"
             ],
             [
              0.3333333333333333,
              "#9c179e"
             ],
             [
              0.4444444444444444,
              "#bd3786"
             ],
             [
              0.5555555555555556,
              "#d8576b"
             ],
             [
              0.6666666666666666,
              "#ed7953"
             ],
             [
              0.7777777777777778,
              "#fb9f3a"
             ],
             [
              0.8888888888888888,
              "#fdca26"
             ],
             [
              1,
              "#f0f921"
             ]
            ],
            "type": "histogram2dcontour"
           }
          ],
          "mesh3d": [
           {
            "colorbar": {
             "outlinewidth": 0,
             "ticks": ""
            },
            "type": "mesh3d"
           }
          ],
          "parcoords": [
           {
            "line": {
             "colorbar": {
              "outlinewidth": 0,
              "ticks": ""
             }
            },
            "type": "parcoords"
           }
          ],
          "pie": [
           {
            "automargin": true,
            "type": "pie"
           }
          ],
          "scatter": [
           {
            "marker": {
             "colorbar": {
              "outlinewidth": 0,
              "ticks": ""
             }
            },
            "type": "scatter"
           }
          ],
          "scatter3d": [
           {
            "line": {
             "colorbar": {
              "outlinewidth": 0,
              "ticks": ""
             }
            },
            "marker": {
             "colorbar": {
              "outlinewidth": 0,
              "ticks": ""
             }
            },
            "type": "scatter3d"
           }
          ],
          "scattercarpet": [
           {
            "marker": {
             "colorbar": {
              "outlinewidth": 0,
              "ticks": ""
             }
            },
            "type": "scattercarpet"
           }
          ],
          "scattergeo": [
           {
            "marker": {
             "colorbar": {
              "outlinewidth": 0,
              "ticks": ""
             }
            },
            "type": "scattergeo"
           }
          ],
          "scattergl": [
           {
            "marker": {
             "colorbar": {
              "outlinewidth": 0,
              "ticks": ""
             }
            },
            "type": "scattergl"
           }
          ],
          "scattermapbox": [
           {
            "marker": {
             "colorbar": {
              "outlinewidth": 0,
              "ticks": ""
             }
            },
            "type": "scattermapbox"
           }
          ],
          "scatterpolar": [
           {
            "marker": {
             "colorbar": {
              "outlinewidth": 0,
              "ticks": ""
             }
            },
            "type": "scatterpolar"
           }
          ],
          "scatterpolargl": [
           {
            "marker": {
             "colorbar": {
              "outlinewidth": 0,
              "ticks": ""
             }
            },
            "type": "scatterpolargl"
           }
          ],
          "scatterternary": [
           {
            "marker": {
             "colorbar": {
              "outlinewidth": 0,
              "ticks": ""
             }
            },
            "type": "scatterternary"
           }
          ],
          "surface": [
           {
            "colorbar": {
             "outlinewidth": 0,
             "ticks": ""
            },
            "colorscale": [
             [
              0,
              "#0d0887"
             ],
             [
              0.1111111111111111,
              "#46039f"
             ],
             [
              0.2222222222222222,
              "#7201a8"
             ],
             [
              0.3333333333333333,
              "#9c179e"
             ],
             [
              0.4444444444444444,
              "#bd3786"
             ],
             [
              0.5555555555555556,
              "#d8576b"
             ],
             [
              0.6666666666666666,
              "#ed7953"
             ],
             [
              0.7777777777777778,
              "#fb9f3a"
             ],
             [
              0.8888888888888888,
              "#fdca26"
             ],
             [
              1,
              "#f0f921"
             ]
            ],
            "type": "surface"
           }
          ],
          "table": [
           {
            "cells": {
             "fill": {
              "color": "#EBF0F8"
             },
             "line": {
              "color": "white"
             }
            },
            "header": {
             "fill": {
              "color": "#C8D4E3"
             },
             "line": {
              "color": "white"
             }
            },
            "type": "table"
           }
          ]
         },
         "layout": {
          "annotationdefaults": {
           "arrowcolor": "#2a3f5f",
           "arrowhead": 0,
           "arrowwidth": 1
          },
          "autotypenumbers": "strict",
          "coloraxis": {
           "colorbar": {
            "outlinewidth": 0,
            "ticks": ""
           }
          },
          "colorscale": {
           "diverging": [
            [
             0,
             "#8e0152"
            ],
            [
             0.1,
             "#c51b7d"
            ],
            [
             0.2,
             "#de77ae"
            ],
            [
             0.3,
             "#f1b6da"
            ],
            [
             0.4,
             "#fde0ef"
            ],
            [
             0.5,
             "#f7f7f7"
            ],
            [
             0.6,
             "#e6f5d0"
            ],
            [
             0.7,
             "#b8e186"
            ],
            [
             0.8,
             "#7fbc41"
            ],
            [
             0.9,
             "#4d9221"
            ],
            [
             1,
             "#276419"
            ]
           ],
           "sequential": [
            [
             0,
             "#0d0887"
            ],
            [
             0.1111111111111111,
             "#46039f"
            ],
            [
             0.2222222222222222,
             "#7201a8"
            ],
            [
             0.3333333333333333,
             "#9c179e"
            ],
            [
             0.4444444444444444,
             "#bd3786"
            ],
            [
             0.5555555555555556,
             "#d8576b"
            ],
            [
             0.6666666666666666,
             "#ed7953"
            ],
            [
             0.7777777777777778,
             "#fb9f3a"
            ],
            [
             0.8888888888888888,
             "#fdca26"
            ],
            [
             1,
             "#f0f921"
            ]
           ],
           "sequentialminus": [
            [
             0,
             "#0d0887"
            ],
            [
             0.1111111111111111,
             "#46039f"
            ],
            [
             0.2222222222222222,
             "#7201a8"
            ],
            [
             0.3333333333333333,
             "#9c179e"
            ],
            [
             0.4444444444444444,
             "#bd3786"
            ],
            [
             0.5555555555555556,
             "#d8576b"
            ],
            [
             0.6666666666666666,
             "#ed7953"
            ],
            [
             0.7777777777777778,
             "#fb9f3a"
            ],
            [
             0.8888888888888888,
             "#fdca26"
            ],
            [
             1,
             "#f0f921"
            ]
           ]
          },
          "colorway": [
           "#636efa",
           "#EF553B",
           "#00cc96",
           "#ab63fa",
           "#FFA15A",
           "#19d3f3",
           "#FF6692",
           "#B6E880",
           "#FF97FF",
           "#FECB52"
          ],
          "font": {
           "color": "#2a3f5f"
          },
          "geo": {
           "bgcolor": "white",
           "lakecolor": "white",
           "landcolor": "#E5ECF6",
           "showlakes": true,
           "showland": true,
           "subunitcolor": "white"
          },
          "hoverlabel": {
           "align": "left"
          },
          "hovermode": "closest",
          "mapbox": {
           "style": "light"
          },
          "paper_bgcolor": "white",
          "plot_bgcolor": "#E5ECF6",
          "polar": {
           "angularaxis": {
            "gridcolor": "white",
            "linecolor": "white",
            "ticks": ""
           },
           "bgcolor": "#E5ECF6",
           "radialaxis": {
            "gridcolor": "white",
            "linecolor": "white",
            "ticks": ""
           }
          },
          "scene": {
           "xaxis": {
            "backgroundcolor": "#E5ECF6",
            "gridcolor": "white",
            "gridwidth": 2,
            "linecolor": "white",
            "showbackground": true,
            "ticks": "",
            "zerolinecolor": "white"
           },
           "yaxis": {
            "backgroundcolor": "#E5ECF6",
            "gridcolor": "white",
            "gridwidth": 2,
            "linecolor": "white",
            "showbackground": true,
            "ticks": "",
            "zerolinecolor": "white"
           },
           "zaxis": {
            "backgroundcolor": "#E5ECF6",
            "gridcolor": "white",
            "gridwidth": 2,
            "linecolor": "white",
            "showbackground": true,
            "ticks": "",
            "zerolinecolor": "white"
           }
          },
          "shapedefaults": {
           "line": {
            "color": "#2a3f5f"
           }
          },
          "ternary": {
           "aaxis": {
            "gridcolor": "white",
            "linecolor": "white",
            "ticks": ""
           },
           "baxis": {
            "gridcolor": "white",
            "linecolor": "white",
            "ticks": ""
           },
           "bgcolor": "#E5ECF6",
           "caxis": {
            "gridcolor": "white",
            "linecolor": "white",
            "ticks": ""
           }
          },
          "title": {
           "x": 0.05
          },
          "xaxis": {
           "automargin": true,
           "gridcolor": "white",
           "linecolor": "white",
           "ticks": "",
           "title": {
            "standoff": 15
           },
           "zerolinecolor": "white",
           "zerolinewidth": 2
          },
          "yaxis": {
           "automargin": true,
           "gridcolor": "white",
           "linecolor": "white",
           "ticks": "",
           "title": {
            "standoff": 15
           },
           "zerolinecolor": "white",
           "zerolinewidth": 2
          }
         }
        },
        "title": {
         "text": "Here you will se the precentange of free and paid installs "
        }
       }
      }
     },
     "metadata": {},
     "output_type": "display_data"
    }
   ],
   "source": [
    "px.pie(group1, values= 'Installs', names='Type', title='Here you will se the precentange of free and paid installs ')"
   ]
  },
  {
   "cell_type": "code",
   "execution_count": 54,
   "metadata": {},
   "outputs": [
    {
     "data": {
      "text/html": [
       "<div>\n",
       "<style scoped>\n",
       "    .dataframe tbody tr th:only-of-type {\n",
       "        vertical-align: middle;\n",
       "    }\n",
       "\n",
       "    .dataframe tbody tr th {\n",
       "        vertical-align: top;\n",
       "    }\n",
       "\n",
       "    .dataframe thead th {\n",
       "        text-align: right;\n",
       "    }\n",
       "</style>\n",
       "<table border=\"1\" class=\"dataframe\">\n",
       "  <thead>\n",
       "    <tr style=\"text-align: right;\">\n",
       "      <th></th>\n",
       "      <th>App</th>\n",
       "      <th>Category</th>\n",
       "      <th>Rating</th>\n",
       "      <th>Reviews</th>\n",
       "      <th>Size_in_MB</th>\n",
       "      <th>Installs</th>\n",
       "      <th>Type</th>\n",
       "      <th>Price</th>\n",
       "      <th>Content Rating</th>\n",
       "      <th>Genres</th>\n",
       "      <th>Last Updated</th>\n",
       "      <th>Current Ver</th>\n",
       "      <th>Android Ver</th>\n",
       "    </tr>\n",
       "  </thead>\n",
       "  <tbody>\n",
       "    <tr>\n",
       "      <th>4367</th>\n",
       "      <td>I'm Rich - Trump Edition</td>\n",
       "      <td>LIFESTYLE</td>\n",
       "      <td>3.6</td>\n",
       "      <td>275.0</td>\n",
       "      <td>7.300</td>\n",
       "      <td>10000</td>\n",
       "      <td>Paid</td>\n",
       "      <td>400.00</td>\n",
       "      <td>Everyone</td>\n",
       "      <td>Lifestyle</td>\n",
       "      <td>2018-05-03</td>\n",
       "      <td>1.0.1</td>\n",
       "      <td>4.1 and up</td>\n",
       "    </tr>\n",
       "    <tr>\n",
       "      <th>4362</th>\n",
       "      <td>💎 I'm rich</td>\n",
       "      <td>LIFESTYLE</td>\n",
       "      <td>3.8</td>\n",
       "      <td>718.0</td>\n",
       "      <td>26.000</td>\n",
       "      <td>10000</td>\n",
       "      <td>Paid</td>\n",
       "      <td>399.99</td>\n",
       "      <td>Everyone</td>\n",
       "      <td>Lifestyle</td>\n",
       "      <td>2018-03-11</td>\n",
       "      <td>1.0.0</td>\n",
       "      <td>4.4 and up</td>\n",
       "    </tr>\n",
       "    <tr>\n",
       "      <th>5359</th>\n",
       "      <td>I am rich(premium)</td>\n",
       "      <td>FINANCE</td>\n",
       "      <td>3.5</td>\n",
       "      <td>472.0</td>\n",
       "      <td>0.965</td>\n",
       "      <td>5000</td>\n",
       "      <td>Paid</td>\n",
       "      <td>399.99</td>\n",
       "      <td>Everyone</td>\n",
       "      <td>Finance</td>\n",
       "      <td>2017-05-01</td>\n",
       "      <td>3.4</td>\n",
       "      <td>4.4 and up</td>\n",
       "    </tr>\n",
       "    <tr>\n",
       "      <th>5364</th>\n",
       "      <td>I am rich (Most expensive app)</td>\n",
       "      <td>FINANCE</td>\n",
       "      <td>4.1</td>\n",
       "      <td>129.0</td>\n",
       "      <td>2.700</td>\n",
       "      <td>1000</td>\n",
       "      <td>Paid</td>\n",
       "      <td>399.99</td>\n",
       "      <td>Teen</td>\n",
       "      <td>Finance</td>\n",
       "      <td>2017-12-06</td>\n",
       "      <td>2</td>\n",
       "      <td>4.0.3 and up</td>\n",
       "    </tr>\n",
       "    <tr>\n",
       "      <th>9934</th>\n",
       "      <td>I'm Rich/Eu sou Rico/أنا غني/我很有錢</td>\n",
       "      <td>LIFESTYLE</td>\n",
       "      <td>4.2</td>\n",
       "      <td>0.0</td>\n",
       "      <td>40.000</td>\n",
       "      <td>0</td>\n",
       "      <td>Paid</td>\n",
       "      <td>399.99</td>\n",
       "      <td>Everyone</td>\n",
       "      <td>Lifestyle</td>\n",
       "      <td>2017-12-01</td>\n",
       "      <td>MONEY</td>\n",
       "      <td>4.1 and up</td>\n",
       "    </tr>\n",
       "  </tbody>\n",
       "</table>\n",
       "</div>"
      ],
      "text/plain": [
       "                                    App   Category  Rating  Reviews  \\\n",
       "4367           I'm Rich - Trump Edition  LIFESTYLE     3.6    275.0   \n",
       "4362                         💎 I'm rich  LIFESTYLE     3.8    718.0   \n",
       "5359                 I am rich(premium)    FINANCE     3.5    472.0   \n",
       "5364     I am rich (Most expensive app)    FINANCE     4.1    129.0   \n",
       "9934  I'm Rich/Eu sou Rico/أنا غني/我很有錢  LIFESTYLE     4.2      0.0   \n",
       "\n",
       "      Size_in_MB  Installs  Type   Price Content Rating     Genres  \\\n",
       "4367       7.300     10000  Paid  400.00       Everyone  Lifestyle   \n",
       "4362      26.000     10000  Paid  399.99       Everyone  Lifestyle   \n",
       "5359       0.965      5000  Paid  399.99       Everyone    Finance   \n",
       "5364       2.700      1000  Paid  399.99           Teen    Finance   \n",
       "9934      40.000         0  Paid  399.99       Everyone  Lifestyle   \n",
       "\n",
       "     Last Updated Current Ver   Android Ver  \n",
       "4367   2018-05-03       1.0.1    4.1 and up  \n",
       "4362   2018-03-11       1.0.0    4.4 and up  \n",
       "5359   2017-05-01         3.4    4.4 and up  \n",
       "5364   2017-12-06           2  4.0.3 and up  \n",
       "9934   2017-12-01       MONEY    4.1 and up  "
      ]
     },
     "execution_count": 54,
     "metadata": {},
     "output_type": "execute_result"
    }
   ],
   "source": [
    "fig2= Clean_Data.sort_values(by = 'Price',ascending=False).head()\n",
    "fig2"
   ]
  },
  {
   "cell_type": "code",
   "execution_count": 65,
   "metadata": {},
   "outputs": [
    {
     "data": {
      "application/vnd.plotly.v1+json": {
       "config": {
        "plotlyServerURL": "https://plot.ly"
       },
       "data": [
        {
         "alignmentgroup": "True",
         "hovertemplate": "App=%{x}<br>Price=%{marker.color}<extra></extra>",
         "legendgroup": "",
         "marker": {
          "color": [
           400,
           399.99,
           399.99,
           399.99,
           399.99
          ],
          "coloraxis": "coloraxis",
          "pattern": {
           "shape": ""
          }
         },
         "name": "",
         "offsetgroup": "",
         "orientation": "v",
         "showlegend": false,
         "textposition": "auto",
         "type": "bar",
         "x": [
          "I'm Rich - Trump Edition",
          "💎 I'm rich",
          "I am rich(premium)",
          "I am rich (Most expensive app)",
          "I'm Rich/Eu sou Rico/أنا غني/我很有錢"
         ],
         "xaxis": "x",
         "y": [
          400,
          399.99,
          399.99,
          399.99,
          399.99
         ],
         "yaxis": "y"
        }
       ],
       "layout": {
        "barmode": "relative",
        "coloraxis": {
         "colorbar": {
          "title": {
           "text": "Price"
          }
         },
         "colorscale": [
          [
           0,
           "#0d0887"
          ],
          [
           0.1111111111111111,
           "#46039f"
          ],
          [
           0.2222222222222222,
           "#7201a8"
          ],
          [
           0.3333333333333333,
           "#9c179e"
          ],
          [
           0.4444444444444444,
           "#bd3786"
          ],
          [
           0.5555555555555556,
           "#d8576b"
          ],
          [
           0.6666666666666666,
           "#ed7953"
          ],
          [
           0.7777777777777778,
           "#fb9f3a"
          ],
          [
           0.8888888888888888,
           "#fdca26"
          ],
          [
           1,
           "#f0f921"
          ]
         ]
        },
        "legend": {
         "tracegroupgap": 0
        },
        "template": {
         "data": {
          "bar": [
           {
            "error_x": {
             "color": "#2a3f5f"
            },
            "error_y": {
             "color": "#2a3f5f"
            },
            "marker": {
             "line": {
              "color": "#E5ECF6",
              "width": 0.5
             },
             "pattern": {
              "fillmode": "overlay",
              "size": 10,
              "solidity": 0.2
             }
            },
            "type": "bar"
           }
          ],
          "barpolar": [
           {
            "marker": {
             "line": {
              "color": "#E5ECF6",
              "width": 0.5
             },
             "pattern": {
              "fillmode": "overlay",
              "size": 10,
              "solidity": 0.2
             }
            },
            "type": "barpolar"
           }
          ],
          "carpet": [
           {
            "aaxis": {
             "endlinecolor": "#2a3f5f",
             "gridcolor": "white",
             "linecolor": "white",
             "minorgridcolor": "white",
             "startlinecolor": "#2a3f5f"
            },
            "baxis": {
             "endlinecolor": "#2a3f5f",
             "gridcolor": "white",
             "linecolor": "white",
             "minorgridcolor": "white",
             "startlinecolor": "#2a3f5f"
            },
            "type": "carpet"
           }
          ],
          "choropleth": [
           {
            "colorbar": {
             "outlinewidth": 0,
             "ticks": ""
            },
            "type": "choropleth"
           }
          ],
          "contour": [
           {
            "colorbar": {
             "outlinewidth": 0,
             "ticks": ""
            },
            "colorscale": [
             [
              0,
              "#0d0887"
             ],
             [
              0.1111111111111111,
              "#46039f"
             ],
             [
              0.2222222222222222,
              "#7201a8"
             ],
             [
              0.3333333333333333,
              "#9c179e"
             ],
             [
              0.4444444444444444,
              "#bd3786"
             ],
             [
              0.5555555555555556,
              "#d8576b"
             ],
             [
              0.6666666666666666,
              "#ed7953"
             ],
             [
              0.7777777777777778,
              "#fb9f3a"
             ],
             [
              0.8888888888888888,
              "#fdca26"
             ],
             [
              1,
              "#f0f921"
             ]
            ],
            "type": "contour"
           }
          ],
          "contourcarpet": [
           {
            "colorbar": {
             "outlinewidth": 0,
             "ticks": ""
            },
            "type": "contourcarpet"
           }
          ],
          "heatmap": [
           {
            "colorbar": {
             "outlinewidth": 0,
             "ticks": ""
            },
            "colorscale": [
             [
              0,
              "#0d0887"
             ],
             [
              0.1111111111111111,
              "#46039f"
             ],
             [
              0.2222222222222222,
              "#7201a8"
             ],
             [
              0.3333333333333333,
              "#9c179e"
             ],
             [
              0.4444444444444444,
              "#bd3786"
             ],
             [
              0.5555555555555556,
              "#d8576b"
             ],
             [
              0.6666666666666666,
              "#ed7953"
             ],
             [
              0.7777777777777778,
              "#fb9f3a"
             ],
             [
              0.8888888888888888,
              "#fdca26"
             ],
             [
              1,
              "#f0f921"
             ]
            ],
            "type": "heatmap"
           }
          ],
          "heatmapgl": [
           {
            "colorbar": {
             "outlinewidth": 0,
             "ticks": ""
            },
            "colorscale": [
             [
              0,
              "#0d0887"
             ],
             [
              0.1111111111111111,
              "#46039f"
             ],
             [
              0.2222222222222222,
              "#7201a8"
             ],
             [
              0.3333333333333333,
              "#9c179e"
             ],
             [
              0.4444444444444444,
              "#bd3786"
             ],
             [
              0.5555555555555556,
              "#d8576b"
             ],
             [
              0.6666666666666666,
              "#ed7953"
             ],
             [
              0.7777777777777778,
              "#fb9f3a"
             ],
             [
              0.8888888888888888,
              "#fdca26"
             ],
             [
              1,
              "#f0f921"
             ]
            ],
            "type": "heatmapgl"
           }
          ],
          "histogram": [
           {
            "marker": {
             "pattern": {
              "fillmode": "overlay",
              "size": 10,
              "solidity": 0.2
             }
            },
            "type": "histogram"
           }
          ],
          "histogram2d": [
           {
            "colorbar": {
             "outlinewidth": 0,
             "ticks": ""
            },
            "colorscale": [
             [
              0,
              "#0d0887"
             ],
             [
              0.1111111111111111,
              "#46039f"
             ],
             [
              0.2222222222222222,
              "#7201a8"
             ],
             [
              0.3333333333333333,
              "#9c179e"
             ],
             [
              0.4444444444444444,
              "#bd3786"
             ],
             [
              0.5555555555555556,
              "#d8576b"
             ],
             [
              0.6666666666666666,
              "#ed7953"
             ],
             [
              0.7777777777777778,
              "#fb9f3a"
             ],
             [
              0.8888888888888888,
              "#fdca26"
             ],
             [
              1,
              "#f0f921"
             ]
            ],
            "type": "histogram2d"
           }
          ],
          "histogram2dcontour": [
           {
            "colorbar": {
             "outlinewidth": 0,
             "ticks": ""
            },
            "colorscale": [
             [
              0,
              "#0d0887"
             ],
             [
              0.1111111111111111,
              "#46039f"
             ],
             [
              0.2222222222222222,
              "#7201a8"
             ],
             [
              0.3333333333333333,
              "#9c179e"
             ],
             [
              0.4444444444444444,
              "#bd3786"
             ],
             [
              0.5555555555555556,
              "#d8576b"
             ],
             [
              0.6666666666666666,
              "#ed7953"
             ],
             [
              0.7777777777777778,
              "#fb9f3a"
             ],
             [
              0.8888888888888888,
              "#fdca26"
             ],
             [
              1,
              "#f0f921"
             ]
            ],
            "type": "histogram2dcontour"
           }
          ],
          "mesh3d": [
           {
            "colorbar": {
             "outlinewidth": 0,
             "ticks": ""
            },
            "type": "mesh3d"
           }
          ],
          "parcoords": [
           {
            "line": {
             "colorbar": {
              "outlinewidth": 0,
              "ticks": ""
             }
            },
            "type": "parcoords"
           }
          ],
          "pie": [
           {
            "automargin": true,
            "type": "pie"
           }
          ],
          "scatter": [
           {
            "marker": {
             "colorbar": {
              "outlinewidth": 0,
              "ticks": ""
             }
            },
            "type": "scatter"
           }
          ],
          "scatter3d": [
           {
            "line": {
             "colorbar": {
              "outlinewidth": 0,
              "ticks": ""
             }
            },
            "marker": {
             "colorbar": {
              "outlinewidth": 0,
              "ticks": ""
             }
            },
            "type": "scatter3d"
           }
          ],
          "scattercarpet": [
           {
            "marker": {
             "colorbar": {
              "outlinewidth": 0,
              "ticks": ""
             }
            },
            "type": "scattercarpet"
           }
          ],
          "scattergeo": [
           {
            "marker": {
             "colorbar": {
              "outlinewidth": 0,
              "ticks": ""
             }
            },
            "type": "scattergeo"
           }
          ],
          "scattergl": [
           {
            "marker": {
             "colorbar": {
              "outlinewidth": 0,
              "ticks": ""
             }
            },
            "type": "scattergl"
           }
          ],
          "scattermapbox": [
           {
            "marker": {
             "colorbar": {
              "outlinewidth": 0,
              "ticks": ""
             }
            },
            "type": "scattermapbox"
           }
          ],
          "scatterpolar": [
           {
            "marker": {
             "colorbar": {
              "outlinewidth": 0,
              "ticks": ""
             }
            },
            "type": "scatterpolar"
           }
          ],
          "scatterpolargl": [
           {
            "marker": {
             "colorbar": {
              "outlinewidth": 0,
              "ticks": ""
             }
            },
            "type": "scatterpolargl"
           }
          ],
          "scatterternary": [
           {
            "marker": {
             "colorbar": {
              "outlinewidth": 0,
              "ticks": ""
             }
            },
            "type": "scatterternary"
           }
          ],
          "surface": [
           {
            "colorbar": {
             "outlinewidth": 0,
             "ticks": ""
            },
            "colorscale": [
             [
              0,
              "#0d0887"
             ],
             [
              0.1111111111111111,
              "#46039f"
             ],
             [
              0.2222222222222222,
              "#7201a8"
             ],
             [
              0.3333333333333333,
              "#9c179e"
             ],
             [
              0.4444444444444444,
              "#bd3786"
             ],
             [
              0.5555555555555556,
              "#d8576b"
             ],
             [
              0.6666666666666666,
              "#ed7953"
             ],
             [
              0.7777777777777778,
              "#fb9f3a"
             ],
             [
              0.8888888888888888,
              "#fdca26"
             ],
             [
              1,
              "#f0f921"
             ]
            ],
            "type": "surface"
           }
          ],
          "table": [
           {
            "cells": {
             "fill": {
              "color": "#EBF0F8"
             },
             "line": {
              "color": "white"
             }
            },
            "header": {
             "fill": {
              "color": "#C8D4E3"
             },
             "line": {
              "color": "white"
             }
            },
            "type": "table"
           }
          ]
         },
         "layout": {
          "annotationdefaults": {
           "arrowcolor": "#2a3f5f",
           "arrowhead": 0,
           "arrowwidth": 1
          },
          "autotypenumbers": "strict",
          "coloraxis": {
           "colorbar": {
            "outlinewidth": 0,
            "ticks": ""
           }
          },
          "colorscale": {
           "diverging": [
            [
             0,
             "#8e0152"
            ],
            [
             0.1,
             "#c51b7d"
            ],
            [
             0.2,
             "#de77ae"
            ],
            [
             0.3,
             "#f1b6da"
            ],
            [
             0.4,
             "#fde0ef"
            ],
            [
             0.5,
             "#f7f7f7"
            ],
            [
             0.6,
             "#e6f5d0"
            ],
            [
             0.7,
             "#b8e186"
            ],
            [
             0.8,
             "#7fbc41"
            ],
            [
             0.9,
             "#4d9221"
            ],
            [
             1,
             "#276419"
            ]
           ],
           "sequential": [
            [
             0,
             "#0d0887"
            ],
            [
             0.1111111111111111,
             "#46039f"
            ],
            [
             0.2222222222222222,
             "#7201a8"
            ],
            [
             0.3333333333333333,
             "#9c179e"
            ],
            [
             0.4444444444444444,
             "#bd3786"
            ],
            [
             0.5555555555555556,
             "#d8576b"
            ],
            [
             0.6666666666666666,
             "#ed7953"
            ],
            [
             0.7777777777777778,
             "#fb9f3a"
            ],
            [
             0.8888888888888888,
             "#fdca26"
            ],
            [
             1,
             "#f0f921"
            ]
           ],
           "sequentialminus": [
            [
             0,
             "#0d0887"
            ],
            [
             0.1111111111111111,
             "#46039f"
            ],
            [
             0.2222222222222222,
             "#7201a8"
            ],
            [
             0.3333333333333333,
             "#9c179e"
            ],
            [
             0.4444444444444444,
             "#bd3786"
            ],
            [
             0.5555555555555556,
             "#d8576b"
            ],
            [
             0.6666666666666666,
             "#ed7953"
            ],
            [
             0.7777777777777778,
             "#fb9f3a"
            ],
            [
             0.8888888888888888,
             "#fdca26"
            ],
            [
             1,
             "#f0f921"
            ]
           ]
          },
          "colorway": [
           "#636efa",
           "#EF553B",
           "#00cc96",
           "#ab63fa",
           "#FFA15A",
           "#19d3f3",
           "#FF6692",
           "#B6E880",
           "#FF97FF",
           "#FECB52"
          ],
          "font": {
           "color": "#2a3f5f"
          },
          "geo": {
           "bgcolor": "white",
           "lakecolor": "white",
           "landcolor": "#E5ECF6",
           "showlakes": true,
           "showland": true,
           "subunitcolor": "white"
          },
          "hoverlabel": {
           "align": "left"
          },
          "hovermode": "closest",
          "mapbox": {
           "style": "light"
          },
          "paper_bgcolor": "white",
          "plot_bgcolor": "#E5ECF6",
          "polar": {
           "angularaxis": {
            "gridcolor": "white",
            "linecolor": "white",
            "ticks": ""
           },
           "bgcolor": "#E5ECF6",
           "radialaxis": {
            "gridcolor": "white",
            "linecolor": "white",
            "ticks": ""
           }
          },
          "scene": {
           "xaxis": {
            "backgroundcolor": "#E5ECF6",
            "gridcolor": "white",
            "gridwidth": 2,
            "linecolor": "white",
            "showbackground": true,
            "ticks": "",
            "zerolinecolor": "white"
           },
           "yaxis": {
            "backgroundcolor": "#E5ECF6",
            "gridcolor": "white",
            "gridwidth": 2,
            "linecolor": "white",
            "showbackground": true,
            "ticks": "",
            "zerolinecolor": "white"
           },
           "zaxis": {
            "backgroundcolor": "#E5ECF6",
            "gridcolor": "white",
            "gridwidth": 2,
            "linecolor": "white",
            "showbackground": true,
            "ticks": "",
            "zerolinecolor": "white"
           }
          },
          "shapedefaults": {
           "line": {
            "color": "#2a3f5f"
           }
          },
          "ternary": {
           "aaxis": {
            "gridcolor": "white",
            "linecolor": "white",
            "ticks": ""
           },
           "baxis": {
            "gridcolor": "white",
            "linecolor": "white",
            "ticks": ""
           },
           "bgcolor": "#E5ECF6",
           "caxis": {
            "gridcolor": "white",
            "linecolor": "white",
            "ticks": ""
           }
          },
          "title": {
           "x": 0.05
          },
          "xaxis": {
           "automargin": true,
           "gridcolor": "white",
           "linecolor": "white",
           "ticks": "",
           "title": {
            "standoff": 15
           },
           "zerolinecolor": "white",
           "zerolinewidth": 2
          },
          "yaxis": {
           "automargin": true,
           "gridcolor": "white",
           "linecolor": "white",
           "ticks": "",
           "title": {
            "standoff": 15
           },
           "zerolinecolor": "white",
           "zerolinewidth": 2
          }
         }
        },
        "title": {
         "text": "Most Expensive 5 Apps",
         "x": 0.5
        },
        "xaxis": {
         "anchor": "y",
         "domain": [
          0,
          1
         ],
         "title": {
          "text": "App"
         }
        },
        "yaxis": {
         "anchor": "x",
         "domain": [
          0,
          1
         ],
         "title": {
          "text": "Price"
         }
        }
       }
      }
     },
     "metadata": {},
     "output_type": "display_data"
    }
   ],
   "source": [
    "draw = px.bar(\n",
    "    fig2,\n",
    "    y='Price',\n",
    "    x='App',\n",
    "    orientation='v', \n",
    "    color='Price',\n",
    "    title= 'Most Expensive 5 Apps'\n",
    ")\n",
    "draw.update_layout(title_text='Most Expensive 5 Apps', title_x=0.5)"
   ]
  },
  {
   "cell_type": "code",
   "execution_count": 56,
   "metadata": {},
   "outputs": [
    {
     "data": {
      "text/html": [
       "<div>\n",
       "<style scoped>\n",
       "    .dataframe tbody tr th:only-of-type {\n",
       "        vertical-align: middle;\n",
       "    }\n",
       "\n",
       "    .dataframe tbody tr th {\n",
       "        vertical-align: top;\n",
       "    }\n",
       "\n",
       "    .dataframe thead th {\n",
       "        text-align: right;\n",
       "    }\n",
       "</style>\n",
       "<table border=\"1\" class=\"dataframe\">\n",
       "  <thead>\n",
       "    <tr style=\"text-align: right;\">\n",
       "      <th></th>\n",
       "      <th>App</th>\n",
       "      <th>Category</th>\n",
       "      <th>Rating</th>\n",
       "      <th>Reviews</th>\n",
       "      <th>Size_in_MB</th>\n",
       "      <th>Installs</th>\n",
       "      <th>Type</th>\n",
       "      <th>Price</th>\n",
       "      <th>Content Rating</th>\n",
       "      <th>Genres</th>\n",
       "      <th>Last Updated</th>\n",
       "      <th>Current Ver</th>\n",
       "      <th>Android Ver</th>\n",
       "    </tr>\n",
       "  </thead>\n",
       "  <tbody>\n",
       "    <tr>\n",
       "      <th>2544</th>\n",
       "      <td>Facebook</td>\n",
       "      <td>SOCIAL</td>\n",
       "      <td>4.1</td>\n",
       "      <td>78158306.0</td>\n",
       "      <td>0.0</td>\n",
       "      <td>1000000000</td>\n",
       "      <td>Free</td>\n",
       "      <td>0.0</td>\n",
       "      <td>Teen</td>\n",
       "      <td>Social</td>\n",
       "      <td>2018-08-03</td>\n",
       "      <td>0</td>\n",
       "      <td>0</td>\n",
       "    </tr>\n",
       "    <tr>\n",
       "      <th>3943</th>\n",
       "      <td>Facebook</td>\n",
       "      <td>SOCIAL</td>\n",
       "      <td>4.1</td>\n",
       "      <td>78128208.0</td>\n",
       "      <td>0.0</td>\n",
       "      <td>1000000000</td>\n",
       "      <td>Free</td>\n",
       "      <td>0.0</td>\n",
       "      <td>Teen</td>\n",
       "      <td>Social</td>\n",
       "      <td>2018-08-03</td>\n",
       "      <td>0</td>\n",
       "      <td>0</td>\n",
       "    </tr>\n",
       "    <tr>\n",
       "      <th>336</th>\n",
       "      <td>WhatsApp Messenger</td>\n",
       "      <td>COMMUNICATION</td>\n",
       "      <td>4.4</td>\n",
       "      <td>69119316.0</td>\n",
       "      <td>0.0</td>\n",
       "      <td>1000000000</td>\n",
       "      <td>Free</td>\n",
       "      <td>0.0</td>\n",
       "      <td>Everyone</td>\n",
       "      <td>Communication</td>\n",
       "      <td>2018-08-03</td>\n",
       "      <td>0</td>\n",
       "      <td>0</td>\n",
       "    </tr>\n",
       "    <tr>\n",
       "      <th>3904</th>\n",
       "      <td>WhatsApp Messenger</td>\n",
       "      <td>COMMUNICATION</td>\n",
       "      <td>4.4</td>\n",
       "      <td>69109672.0</td>\n",
       "      <td>0.0</td>\n",
       "      <td>1000000000</td>\n",
       "      <td>Free</td>\n",
       "      <td>0.0</td>\n",
       "      <td>Everyone</td>\n",
       "      <td>Communication</td>\n",
       "      <td>2018-08-03</td>\n",
       "      <td>0</td>\n",
       "      <td>0</td>\n",
       "    </tr>\n",
       "    <tr>\n",
       "      <th>2604</th>\n",
       "      <td>Instagram</td>\n",
       "      <td>SOCIAL</td>\n",
       "      <td>4.5</td>\n",
       "      <td>66577446.0</td>\n",
       "      <td>0.0</td>\n",
       "      <td>1000000000</td>\n",
       "      <td>Free</td>\n",
       "      <td>0.0</td>\n",
       "      <td>Teen</td>\n",
       "      <td>Social</td>\n",
       "      <td>2018-07-31</td>\n",
       "      <td>0</td>\n",
       "      <td>0</td>\n",
       "    </tr>\n",
       "  </tbody>\n",
       "</table>\n",
       "</div>"
      ],
      "text/plain": [
       "                     App       Category  Rating     Reviews  Size_in_MB  \\\n",
       "2544            Facebook         SOCIAL     4.1  78158306.0         0.0   \n",
       "3943            Facebook         SOCIAL     4.1  78128208.0         0.0   \n",
       "336   WhatsApp Messenger  COMMUNICATION     4.4  69119316.0         0.0   \n",
       "3904  WhatsApp Messenger  COMMUNICATION     4.4  69109672.0         0.0   \n",
       "2604           Instagram         SOCIAL     4.5  66577446.0         0.0   \n",
       "\n",
       "        Installs  Type  Price Content Rating         Genres Last Updated  \\\n",
       "2544  1000000000  Free    0.0           Teen         Social   2018-08-03   \n",
       "3943  1000000000  Free    0.0           Teen         Social   2018-08-03   \n",
       "336   1000000000  Free    0.0       Everyone  Communication   2018-08-03   \n",
       "3904  1000000000  Free    0.0       Everyone  Communication   2018-08-03   \n",
       "2604  1000000000  Free    0.0           Teen         Social   2018-07-31   \n",
       "\n",
       "     Current Ver Android Ver  \n",
       "2544           0           0  \n",
       "3943           0           0  \n",
       "336            0           0  \n",
       "3904           0           0  \n",
       "2604           0           0  "
      ]
     },
     "execution_count": 56,
     "metadata": {},
     "output_type": "execute_result"
    }
   ],
   "source": [
    "fig3= Clean_Data.sort_values(by = 'Reviews',ascending=False).head()\n",
    "fig3"
   ]
  },
  {
   "cell_type": "code",
   "execution_count": 69,
   "metadata": {},
   "outputs": [
    {
     "data": {
      "application/vnd.plotly.v1+json": {
       "config": {
        "plotlyServerURL": "https://plot.ly"
       },
       "data": [
        {
         "alignmentgroup": "True",
         "hovertemplate": "App=%{x}<br>Reviews=%{marker.color}<extra></extra>",
         "legendgroup": "",
         "marker": {
          "color": [
           78158306,
           78128208,
           69119316,
           69109672,
           66577446
          ],
          "coloraxis": "coloraxis",
          "pattern": {
           "shape": ""
          }
         },
         "name": "",
         "offsetgroup": "",
         "orientation": "v",
         "showlegend": false,
         "textposition": "auto",
         "type": "bar",
         "x": [
          "Facebook",
          "Facebook",
          "WhatsApp Messenger",
          "WhatsApp Messenger",
          "Instagram"
         ],
         "xaxis": "x",
         "y": [
          78158306,
          78128208,
          69119316,
          69109672,
          66577446
         ],
         "yaxis": "y"
        }
       ],
       "layout": {
        "barmode": "relative",
        "coloraxis": {
         "colorbar": {
          "title": {
           "text": "Reviews"
          }
         },
         "colorscale": [
          [
           0,
           "#0d0887"
          ],
          [
           0.1111111111111111,
           "#46039f"
          ],
          [
           0.2222222222222222,
           "#7201a8"
          ],
          [
           0.3333333333333333,
           "#9c179e"
          ],
          [
           0.4444444444444444,
           "#bd3786"
          ],
          [
           0.5555555555555556,
           "#d8576b"
          ],
          [
           0.6666666666666666,
           "#ed7953"
          ],
          [
           0.7777777777777778,
           "#fb9f3a"
          ],
          [
           0.8888888888888888,
           "#fdca26"
          ],
          [
           1,
           "#f0f921"
          ]
         ]
        },
        "legend": {
         "tracegroupgap": 0
        },
        "template": {
         "data": {
          "bar": [
           {
            "error_x": {
             "color": "#2a3f5f"
            },
            "error_y": {
             "color": "#2a3f5f"
            },
            "marker": {
             "line": {
              "color": "#E5ECF6",
              "width": 0.5
             },
             "pattern": {
              "fillmode": "overlay",
              "size": 10,
              "solidity": 0.2
             }
            },
            "type": "bar"
           }
          ],
          "barpolar": [
           {
            "marker": {
             "line": {
              "color": "#E5ECF6",
              "width": 0.5
             },
             "pattern": {
              "fillmode": "overlay",
              "size": 10,
              "solidity": 0.2
             }
            },
            "type": "barpolar"
           }
          ],
          "carpet": [
           {
            "aaxis": {
             "endlinecolor": "#2a3f5f",
             "gridcolor": "white",
             "linecolor": "white",
             "minorgridcolor": "white",
             "startlinecolor": "#2a3f5f"
            },
            "baxis": {
             "endlinecolor": "#2a3f5f",
             "gridcolor": "white",
             "linecolor": "white",
             "minorgridcolor": "white",
             "startlinecolor": "#2a3f5f"
            },
            "type": "carpet"
           }
          ],
          "choropleth": [
           {
            "colorbar": {
             "outlinewidth": 0,
             "ticks": ""
            },
            "type": "choropleth"
           }
          ],
          "contour": [
           {
            "colorbar": {
             "outlinewidth": 0,
             "ticks": ""
            },
            "colorscale": [
             [
              0,
              "#0d0887"
             ],
             [
              0.1111111111111111,
              "#46039f"
             ],
             [
              0.2222222222222222,
              "#7201a8"
             ],
             [
              0.3333333333333333,
              "#9c179e"
             ],
             [
              0.4444444444444444,
              "#bd3786"
             ],
             [
              0.5555555555555556,
              "#d8576b"
             ],
             [
              0.6666666666666666,
              "#ed7953"
             ],
             [
              0.7777777777777778,
              "#fb9f3a"
             ],
             [
              0.8888888888888888,
              "#fdca26"
             ],
             [
              1,
              "#f0f921"
             ]
            ],
            "type": "contour"
           }
          ],
          "contourcarpet": [
           {
            "colorbar": {
             "outlinewidth": 0,
             "ticks": ""
            },
            "type": "contourcarpet"
           }
          ],
          "heatmap": [
           {
            "colorbar": {
             "outlinewidth": 0,
             "ticks": ""
            },
            "colorscale": [
             [
              0,
              "#0d0887"
             ],
             [
              0.1111111111111111,
              "#46039f"
             ],
             [
              0.2222222222222222,
              "#7201a8"
             ],
             [
              0.3333333333333333,
              "#9c179e"
             ],
             [
              0.4444444444444444,
              "#bd3786"
             ],
             [
              0.5555555555555556,
              "#d8576b"
             ],
             [
              0.6666666666666666,
              "#ed7953"
             ],
             [
              0.7777777777777778,
              "#fb9f3a"
             ],
             [
              0.8888888888888888,
              "#fdca26"
             ],
             [
              1,
              "#f0f921"
             ]
            ],
            "type": "heatmap"
           }
          ],
          "heatmapgl": [
           {
            "colorbar": {
             "outlinewidth": 0,
             "ticks": ""
            },
            "colorscale": [
             [
              0,
              "#0d0887"
             ],
             [
              0.1111111111111111,
              "#46039f"
             ],
             [
              0.2222222222222222,
              "#7201a8"
             ],
             [
              0.3333333333333333,
              "#9c179e"
             ],
             [
              0.4444444444444444,
              "#bd3786"
             ],
             [
              0.5555555555555556,
              "#d8576b"
             ],
             [
              0.6666666666666666,
              "#ed7953"
             ],
             [
              0.7777777777777778,
              "#fb9f3a"
             ],
             [
              0.8888888888888888,
              "#fdca26"
             ],
             [
              1,
              "#f0f921"
             ]
            ],
            "type": "heatmapgl"
           }
          ],
          "histogram": [
           {
            "marker": {
             "pattern": {
              "fillmode": "overlay",
              "size": 10,
              "solidity": 0.2
             }
            },
            "type": "histogram"
           }
          ],
          "histogram2d": [
           {
            "colorbar": {
             "outlinewidth": 0,
             "ticks": ""
            },
            "colorscale": [
             [
              0,
              "#0d0887"
             ],
             [
              0.1111111111111111,
              "#46039f"
             ],
             [
              0.2222222222222222,
              "#7201a8"
             ],
             [
              0.3333333333333333,
              "#9c179e"
             ],
             [
              0.4444444444444444,
              "#bd3786"
             ],
             [
              0.5555555555555556,
              "#d8576b"
             ],
             [
              0.6666666666666666,
              "#ed7953"
             ],
             [
              0.7777777777777778,
              "#fb9f3a"
             ],
             [
              0.8888888888888888,
              "#fdca26"
             ],
             [
              1,
              "#f0f921"
             ]
            ],
            "type": "histogram2d"
           }
          ],
          "histogram2dcontour": [
           {
            "colorbar": {
             "outlinewidth": 0,
             "ticks": ""
            },
            "colorscale": [
             [
              0,
              "#0d0887"
             ],
             [
              0.1111111111111111,
              "#46039f"
             ],
             [
              0.2222222222222222,
              "#7201a8"
             ],
             [
              0.3333333333333333,
              "#9c179e"
             ],
             [
              0.4444444444444444,
              "#bd3786"
             ],
             [
              0.5555555555555556,
              "#d8576b"
             ],
             [
              0.6666666666666666,
              "#ed7953"
             ],
             [
              0.7777777777777778,
              "#fb9f3a"
             ],
             [
              0.8888888888888888,
              "#fdca26"
             ],
             [
              1,
              "#f0f921"
             ]
            ],
            "type": "histogram2dcontour"
           }
          ],
          "mesh3d": [
           {
            "colorbar": {
             "outlinewidth": 0,
             "ticks": ""
            },
            "type": "mesh3d"
           }
          ],
          "parcoords": [
           {
            "line": {
             "colorbar": {
              "outlinewidth": 0,
              "ticks": ""
             }
            },
            "type": "parcoords"
           }
          ],
          "pie": [
           {
            "automargin": true,
            "type": "pie"
           }
          ],
          "scatter": [
           {
            "marker": {
             "colorbar": {
              "outlinewidth": 0,
              "ticks": ""
             }
            },
            "type": "scatter"
           }
          ],
          "scatter3d": [
           {
            "line": {
             "colorbar": {
              "outlinewidth": 0,
              "ticks": ""
             }
            },
            "marker": {
             "colorbar": {
              "outlinewidth": 0,
              "ticks": ""
             }
            },
            "type": "scatter3d"
           }
          ],
          "scattercarpet": [
           {
            "marker": {
             "colorbar": {
              "outlinewidth": 0,
              "ticks": ""
             }
            },
            "type": "scattercarpet"
           }
          ],
          "scattergeo": [
           {
            "marker": {
             "colorbar": {
              "outlinewidth": 0,
              "ticks": ""
             }
            },
            "type": "scattergeo"
           }
          ],
          "scattergl": [
           {
            "marker": {
             "colorbar": {
              "outlinewidth": 0,
              "ticks": ""
             }
            },
            "type": "scattergl"
           }
          ],
          "scattermapbox": [
           {
            "marker": {
             "colorbar": {
              "outlinewidth": 0,
              "ticks": ""
             }
            },
            "type": "scattermapbox"
           }
          ],
          "scatterpolar": [
           {
            "marker": {
             "colorbar": {
              "outlinewidth": 0,
              "ticks": ""
             }
            },
            "type": "scatterpolar"
           }
          ],
          "scatterpolargl": [
           {
            "marker": {
             "colorbar": {
              "outlinewidth": 0,
              "ticks": ""
             }
            },
            "type": "scatterpolargl"
           }
          ],
          "scatterternary": [
           {
            "marker": {
             "colorbar": {
              "outlinewidth": 0,
              "ticks": ""
             }
            },
            "type": "scatterternary"
           }
          ],
          "surface": [
           {
            "colorbar": {
             "outlinewidth": 0,
             "ticks": ""
            },
            "colorscale": [
             [
              0,
              "#0d0887"
             ],
             [
              0.1111111111111111,
              "#46039f"
             ],
             [
              0.2222222222222222,
              "#7201a8"
             ],
             [
              0.3333333333333333,
              "#9c179e"
             ],
             [
              0.4444444444444444,
              "#bd3786"
             ],
             [
              0.5555555555555556,
              "#d8576b"
             ],
             [
              0.6666666666666666,
              "#ed7953"
             ],
             [
              0.7777777777777778,
              "#fb9f3a"
             ],
             [
              0.8888888888888888,
              "#fdca26"
             ],
             [
              1,
              "#f0f921"
             ]
            ],
            "type": "surface"
           }
          ],
          "table": [
           {
            "cells": {
             "fill": {
              "color": "#EBF0F8"
             },
             "line": {
              "color": "white"
             }
            },
            "header": {
             "fill": {
              "color": "#C8D4E3"
             },
             "line": {
              "color": "white"
             }
            },
            "type": "table"
           }
          ]
         },
         "layout": {
          "annotationdefaults": {
           "arrowcolor": "#2a3f5f",
           "arrowhead": 0,
           "arrowwidth": 1
          },
          "autotypenumbers": "strict",
          "coloraxis": {
           "colorbar": {
            "outlinewidth": 0,
            "ticks": ""
           }
          },
          "colorscale": {
           "diverging": [
            [
             0,
             "#8e0152"
            ],
            [
             0.1,
             "#c51b7d"
            ],
            [
             0.2,
             "#de77ae"
            ],
            [
             0.3,
             "#f1b6da"
            ],
            [
             0.4,
             "#fde0ef"
            ],
            [
             0.5,
             "#f7f7f7"
            ],
            [
             0.6,
             "#e6f5d0"
            ],
            [
             0.7,
             "#b8e186"
            ],
            [
             0.8,
             "#7fbc41"
            ],
            [
             0.9,
             "#4d9221"
            ],
            [
             1,
             "#276419"
            ]
           ],
           "sequential": [
            [
             0,
             "#0d0887"
            ],
            [
             0.1111111111111111,
             "#46039f"
            ],
            [
             0.2222222222222222,
             "#7201a8"
            ],
            [
             0.3333333333333333,
             "#9c179e"
            ],
            [
             0.4444444444444444,
             "#bd3786"
            ],
            [
             0.5555555555555556,
             "#d8576b"
            ],
            [
             0.6666666666666666,
             "#ed7953"
            ],
            [
             0.7777777777777778,
             "#fb9f3a"
            ],
            [
             0.8888888888888888,
             "#fdca26"
            ],
            [
             1,
             "#f0f921"
            ]
           ],
           "sequentialminus": [
            [
             0,
             "#0d0887"
            ],
            [
             0.1111111111111111,
             "#46039f"
            ],
            [
             0.2222222222222222,
             "#7201a8"
            ],
            [
             0.3333333333333333,
             "#9c179e"
            ],
            [
             0.4444444444444444,
             "#bd3786"
            ],
            [
             0.5555555555555556,
             "#d8576b"
            ],
            [
             0.6666666666666666,
             "#ed7953"
            ],
            [
             0.7777777777777778,
             "#fb9f3a"
            ],
            [
             0.8888888888888888,
             "#fdca26"
            ],
            [
             1,
             "#f0f921"
            ]
           ]
          },
          "colorway": [
           "#636efa",
           "#EF553B",
           "#00cc96",
           "#ab63fa",
           "#FFA15A",
           "#19d3f3",
           "#FF6692",
           "#B6E880",
           "#FF97FF",
           "#FECB52"
          ],
          "font": {
           "color": "#2a3f5f"
          },
          "geo": {
           "bgcolor": "white",
           "lakecolor": "white",
           "landcolor": "#E5ECF6",
           "showlakes": true,
           "showland": true,
           "subunitcolor": "white"
          },
          "hoverlabel": {
           "align": "left"
          },
          "hovermode": "closest",
          "mapbox": {
           "style": "light"
          },
          "paper_bgcolor": "white",
          "plot_bgcolor": "#E5ECF6",
          "polar": {
           "angularaxis": {
            "gridcolor": "white",
            "linecolor": "white",
            "ticks": ""
           },
           "bgcolor": "#E5ECF6",
           "radialaxis": {
            "gridcolor": "white",
            "linecolor": "white",
            "ticks": ""
           }
          },
          "scene": {
           "xaxis": {
            "backgroundcolor": "#E5ECF6",
            "gridcolor": "white",
            "gridwidth": 2,
            "linecolor": "white",
            "showbackground": true,
            "ticks": "",
            "zerolinecolor": "white"
           },
           "yaxis": {
            "backgroundcolor": "#E5ECF6",
            "gridcolor": "white",
            "gridwidth": 2,
            "linecolor": "white",
            "showbackground": true,
            "ticks": "",
            "zerolinecolor": "white"
           },
           "zaxis": {
            "backgroundcolor": "#E5ECF6",
            "gridcolor": "white",
            "gridwidth": 2,
            "linecolor": "white",
            "showbackground": true,
            "ticks": "",
            "zerolinecolor": "white"
           }
          },
          "shapedefaults": {
           "line": {
            "color": "#2a3f5f"
           }
          },
          "ternary": {
           "aaxis": {
            "gridcolor": "white",
            "linecolor": "white",
            "ticks": ""
           },
           "baxis": {
            "gridcolor": "white",
            "linecolor": "white",
            "ticks": ""
           },
           "bgcolor": "#E5ECF6",
           "caxis": {
            "gridcolor": "white",
            "linecolor": "white",
            "ticks": ""
           }
          },
          "title": {
           "x": 0.05
          },
          "xaxis": {
           "automargin": true,
           "gridcolor": "white",
           "linecolor": "white",
           "ticks": "",
           "title": {
            "standoff": 15
           },
           "zerolinecolor": "white",
           "zerolinewidth": 2
          },
          "yaxis": {
           "automargin": true,
           "gridcolor": "white",
           "linecolor": "white",
           "ticks": "",
           "title": {
            "standoff": 15
           },
           "zerolinecolor": "white",
           "zerolinewidth": 2
          }
         }
        },
        "title": {
         "text": "Apps with Most Reviews",
         "x": 0.5
        },
        "xaxis": {
         "anchor": "y",
         "domain": [
          0,
          1
         ],
         "title": {
          "text": "App"
         }
        },
        "yaxis": {
         "anchor": "x",
         "domain": [
          0,
          1
         ],
         "title": {
          "text": "Reviews"
         }
        }
       }
      }
     },
     "metadata": {},
     "output_type": "display_data"
    }
   ],
   "source": [
    "fig_3 = px.bar(\n",
    "    fig3,\n",
    "    y='Reviews',\n",
    "    x='App',\n",
    "    orientation='v', \n",
    "    color='Reviews',\n",
    "    title= 'Apps with Most Reviews'\n",
    ")\n",
    "fig_3.update_layout(title_text='Apps with Most Reviews', title_x=.5)"
   ]
  },
  {
   "cell_type": "code",
   "execution_count": 58,
   "metadata": {},
   "outputs": [
    {
     "data": {
      "text/html": [
       "<div>\n",
       "<style scoped>\n",
       "    .dataframe tbody tr th:only-of-type {\n",
       "        vertical-align: middle;\n",
       "    }\n",
       "\n",
       "    .dataframe tbody tr th {\n",
       "        vertical-align: top;\n",
       "    }\n",
       "\n",
       "    .dataframe thead th {\n",
       "        text-align: right;\n",
       "    }\n",
       "</style>\n",
       "<table border=\"1\" class=\"dataframe\">\n",
       "  <thead>\n",
       "    <tr style=\"text-align: right;\">\n",
       "      <th></th>\n",
       "      <th>Content Rating</th>\n",
       "      <th>Installs</th>\n",
       "    </tr>\n",
       "  </thead>\n",
       "  <tbody>\n",
       "    <tr>\n",
       "      <th>0</th>\n",
       "      <td>Adults only 18+</td>\n",
       "      <td>3</td>\n",
       "    </tr>\n",
       "    <tr>\n",
       "      <th>1</th>\n",
       "      <td>Everyone</td>\n",
       "      <td>8378</td>\n",
       "    </tr>\n",
       "    <tr>\n",
       "      <th>2</th>\n",
       "      <td>Everyone 10+</td>\n",
       "      <td>377</td>\n",
       "    </tr>\n",
       "    <tr>\n",
       "      <th>3</th>\n",
       "      <td>Mature 17+</td>\n",
       "      <td>449</td>\n",
       "    </tr>\n",
       "    <tr>\n",
       "      <th>4</th>\n",
       "      <td>Teen</td>\n",
       "      <td>1146</td>\n",
       "    </tr>\n",
       "    <tr>\n",
       "      <th>5</th>\n",
       "      <td>Unrated</td>\n",
       "      <td>2</td>\n",
       "    </tr>\n",
       "  </tbody>\n",
       "</table>\n",
       "</div>"
      ],
      "text/plain": [
       "    Content Rating  Installs\n",
       "0  Adults only 18+         3\n",
       "1         Everyone      8378\n",
       "2     Everyone 10+       377\n",
       "3       Mature 17+       449\n",
       "4             Teen      1146\n",
       "5          Unrated         2"
      ]
     },
     "execution_count": 58,
     "metadata": {},
     "output_type": "execute_result"
    }
   ],
   "source": [
    "checking =Clean_Data.groupby('Content Rating')['Installs'].count()\n",
    "checking =pd.DataFrame(checking)\n",
    "checking=checking.reset_index()\n",
    "checking"
   ]
  },
  {
   "cell_type": "code",
   "execution_count": 59,
   "metadata": {},
   "outputs": [
    {
     "data": {
      "application/vnd.plotly.v1+json": {
       "config": {
        "plotlyServerURL": "https://plot.ly"
       },
       "data": [
        {
         "alignmentgroup": "True",
         "hovertemplate": "Content Rating=%{x}<br>Installs=%{marker.color}<extra></extra>",
         "legendgroup": "",
         "marker": {
          "color": [
           3,
           8378,
           377,
           449,
           1146,
           2
          ],
          "coloraxis": "coloraxis",
          "pattern": {
           "shape": ""
          }
         },
         "name": "",
         "offsetgroup": "",
         "orientation": "v",
         "showlegend": false,
         "textposition": "auto",
         "type": "bar",
         "x": [
          "Adults only 18+",
          "Everyone",
          "Everyone 10+",
          "Mature 17+",
          "Teen",
          "Unrated"
         ],
         "xaxis": "x",
         "y": [
          3,
          8378,
          377,
          449,
          1146,
          2
         ],
         "yaxis": "y"
        }
       ],
       "layout": {
        "barmode": "relative",
        "coloraxis": {
         "colorbar": {
          "title": {
           "text": "Installs"
          }
         },
         "colorscale": [
          [
           0,
           "#0d0887"
          ],
          [
           0.1111111111111111,
           "#46039f"
          ],
          [
           0.2222222222222222,
           "#7201a8"
          ],
          [
           0.3333333333333333,
           "#9c179e"
          ],
          [
           0.4444444444444444,
           "#bd3786"
          ],
          [
           0.5555555555555556,
           "#d8576b"
          ],
          [
           0.6666666666666666,
           "#ed7953"
          ],
          [
           0.7777777777777778,
           "#fb9f3a"
          ],
          [
           0.8888888888888888,
           "#fdca26"
          ],
          [
           1,
           "#f0f921"
          ]
         ]
        },
        "legend": {
         "tracegroupgap": 0
        },
        "template": {
         "data": {
          "bar": [
           {
            "error_x": {
             "color": "#2a3f5f"
            },
            "error_y": {
             "color": "#2a3f5f"
            },
            "marker": {
             "line": {
              "color": "#E5ECF6",
              "width": 0.5
             },
             "pattern": {
              "fillmode": "overlay",
              "size": 10,
              "solidity": 0.2
             }
            },
            "type": "bar"
           }
          ],
          "barpolar": [
           {
            "marker": {
             "line": {
              "color": "#E5ECF6",
              "width": 0.5
             },
             "pattern": {
              "fillmode": "overlay",
              "size": 10,
              "solidity": 0.2
             }
            },
            "type": "barpolar"
           }
          ],
          "carpet": [
           {
            "aaxis": {
             "endlinecolor": "#2a3f5f",
             "gridcolor": "white",
             "linecolor": "white",
             "minorgridcolor": "white",
             "startlinecolor": "#2a3f5f"
            },
            "baxis": {
             "endlinecolor": "#2a3f5f",
             "gridcolor": "white",
             "linecolor": "white",
             "minorgridcolor": "white",
             "startlinecolor": "#2a3f5f"
            },
            "type": "carpet"
           }
          ],
          "choropleth": [
           {
            "colorbar": {
             "outlinewidth": 0,
             "ticks": ""
            },
            "type": "choropleth"
           }
          ],
          "contour": [
           {
            "colorbar": {
             "outlinewidth": 0,
             "ticks": ""
            },
            "colorscale": [
             [
              0,
              "#0d0887"
             ],
             [
              0.1111111111111111,
              "#46039f"
             ],
             [
              0.2222222222222222,
              "#7201a8"
             ],
             [
              0.3333333333333333,
              "#9c179e"
             ],
             [
              0.4444444444444444,
              "#bd3786"
             ],
             [
              0.5555555555555556,
              "#d8576b"
             ],
             [
              0.6666666666666666,
              "#ed7953"
             ],
             [
              0.7777777777777778,
              "#fb9f3a"
             ],
             [
              0.8888888888888888,
              "#fdca26"
             ],
             [
              1,
              "#f0f921"
             ]
            ],
            "type": "contour"
           }
          ],
          "contourcarpet": [
           {
            "colorbar": {
             "outlinewidth": 0,
             "ticks": ""
            },
            "type": "contourcarpet"
           }
          ],
          "heatmap": [
           {
            "colorbar": {
             "outlinewidth": 0,
             "ticks": ""
            },
            "colorscale": [
             [
              0,
              "#0d0887"
             ],
             [
              0.1111111111111111,
              "#46039f"
             ],
             [
              0.2222222222222222,
              "#7201a8"
             ],
             [
              0.3333333333333333,
              "#9c179e"
             ],
             [
              0.4444444444444444,
              "#bd3786"
             ],
             [
              0.5555555555555556,
              "#d8576b"
             ],
             [
              0.6666666666666666,
              "#ed7953"
             ],
             [
              0.7777777777777778,
              "#fb9f3a"
             ],
             [
              0.8888888888888888,
              "#fdca26"
             ],
             [
              1,
              "#f0f921"
             ]
            ],
            "type": "heatmap"
           }
          ],
          "heatmapgl": [
           {
            "colorbar": {
             "outlinewidth": 0,
             "ticks": ""
            },
            "colorscale": [
             [
              0,
              "#0d0887"
             ],
             [
              0.1111111111111111,
              "#46039f"
             ],
             [
              0.2222222222222222,
              "#7201a8"
             ],
             [
              0.3333333333333333,
              "#9c179e"
             ],
             [
              0.4444444444444444,
              "#bd3786"
             ],
             [
              0.5555555555555556,
              "#d8576b"
             ],
             [
              0.6666666666666666,
              "#ed7953"
             ],
             [
              0.7777777777777778,
              "#fb9f3a"
             ],
             [
              0.8888888888888888,
              "#fdca26"
             ],
             [
              1,
              "#f0f921"
             ]
            ],
            "type": "heatmapgl"
           }
          ],
          "histogram": [
           {
            "marker": {
             "pattern": {
              "fillmode": "overlay",
              "size": 10,
              "solidity": 0.2
             }
            },
            "type": "histogram"
           }
          ],
          "histogram2d": [
           {
            "colorbar": {
             "outlinewidth": 0,
             "ticks": ""
            },
            "colorscale": [
             [
              0,
              "#0d0887"
             ],
             [
              0.1111111111111111,
              "#46039f"
             ],
             [
              0.2222222222222222,
              "#7201a8"
             ],
             [
              0.3333333333333333,
              "#9c179e"
             ],
             [
              0.4444444444444444,
              "#bd3786"
             ],
             [
              0.5555555555555556,
              "#d8576b"
             ],
             [
              0.6666666666666666,
              "#ed7953"
             ],
             [
              0.7777777777777778,
              "#fb9f3a"
             ],
             [
              0.8888888888888888,
              "#fdca26"
             ],
             [
              1,
              "#f0f921"
             ]
            ],
            "type": "histogram2d"
           }
          ],
          "histogram2dcontour": [
           {
            "colorbar": {
             "outlinewidth": 0,
             "ticks": ""
            },
            "colorscale": [
             [
              0,
              "#0d0887"
             ],
             [
              0.1111111111111111,
              "#46039f"
             ],
             [
              0.2222222222222222,
              "#7201a8"
             ],
             [
              0.3333333333333333,
              "#9c179e"
             ],
             [
              0.4444444444444444,
              "#bd3786"
             ],
             [
              0.5555555555555556,
              "#d8576b"
             ],
             [
              0.6666666666666666,
              "#ed7953"
             ],
             [
              0.7777777777777778,
              "#fb9f3a"
             ],
             [
              0.8888888888888888,
              "#fdca26"
             ],
             [
              1,
              "#f0f921"
             ]
            ],
            "type": "histogram2dcontour"
           }
          ],
          "mesh3d": [
           {
            "colorbar": {
             "outlinewidth": 0,
             "ticks": ""
            },
            "type": "mesh3d"
           }
          ],
          "parcoords": [
           {
            "line": {
             "colorbar": {
              "outlinewidth": 0,
              "ticks": ""
             }
            },
            "type": "parcoords"
           }
          ],
          "pie": [
           {
            "automargin": true,
            "type": "pie"
           }
          ],
          "scatter": [
           {
            "marker": {
             "colorbar": {
              "outlinewidth": 0,
              "ticks": ""
             }
            },
            "type": "scatter"
           }
          ],
          "scatter3d": [
           {
            "line": {
             "colorbar": {
              "outlinewidth": 0,
              "ticks": ""
             }
            },
            "marker": {
             "colorbar": {
              "outlinewidth": 0,
              "ticks": ""
             }
            },
            "type": "scatter3d"
           }
          ],
          "scattercarpet": [
           {
            "marker": {
             "colorbar": {
              "outlinewidth": 0,
              "ticks": ""
             }
            },
            "type": "scattercarpet"
           }
          ],
          "scattergeo": [
           {
            "marker": {
             "colorbar": {
              "outlinewidth": 0,
              "ticks": ""
             }
            },
            "type": "scattergeo"
           }
          ],
          "scattergl": [
           {
            "marker": {
             "colorbar": {
              "outlinewidth": 0,
              "ticks": ""
             }
            },
            "type": "scattergl"
           }
          ],
          "scattermapbox": [
           {
            "marker": {
             "colorbar": {
              "outlinewidth": 0,
              "ticks": ""
             }
            },
            "type": "scattermapbox"
           }
          ],
          "scatterpolar": [
           {
            "marker": {
             "colorbar": {
              "outlinewidth": 0,
              "ticks": ""
             }
            },
            "type": "scatterpolar"
           }
          ],
          "scatterpolargl": [
           {
            "marker": {
             "colorbar": {
              "outlinewidth": 0,
              "ticks": ""
             }
            },
            "type": "scatterpolargl"
           }
          ],
          "scatterternary": [
           {
            "marker": {
             "colorbar": {
              "outlinewidth": 0,
              "ticks": ""
             }
            },
            "type": "scatterternary"
           }
          ],
          "surface": [
           {
            "colorbar": {
             "outlinewidth": 0,
             "ticks": ""
            },
            "colorscale": [
             [
              0,
              "#0d0887"
             ],
             [
              0.1111111111111111,
              "#46039f"
             ],
             [
              0.2222222222222222,
              "#7201a8"
             ],
             [
              0.3333333333333333,
              "#9c179e"
             ],
             [
              0.4444444444444444,
              "#bd3786"
             ],
             [
              0.5555555555555556,
              "#d8576b"
             ],
             [
              0.6666666666666666,
              "#ed7953"
             ],
             [
              0.7777777777777778,
              "#fb9f3a"
             ],
             [
              0.8888888888888888,
              "#fdca26"
             ],
             [
              1,
              "#f0f921"
             ]
            ],
            "type": "surface"
           }
          ],
          "table": [
           {
            "cells": {
             "fill": {
              "color": "#EBF0F8"
             },
             "line": {
              "color": "white"
             }
            },
            "header": {
             "fill": {
              "color": "#C8D4E3"
             },
             "line": {
              "color": "white"
             }
            },
            "type": "table"
           }
          ]
         },
         "layout": {
          "annotationdefaults": {
           "arrowcolor": "#2a3f5f",
           "arrowhead": 0,
           "arrowwidth": 1
          },
          "autotypenumbers": "strict",
          "coloraxis": {
           "colorbar": {
            "outlinewidth": 0,
            "ticks": ""
           }
          },
          "colorscale": {
           "diverging": [
            [
             0,
             "#8e0152"
            ],
            [
             0.1,
             "#c51b7d"
            ],
            [
             0.2,
             "#de77ae"
            ],
            [
             0.3,
             "#f1b6da"
            ],
            [
             0.4,
             "#fde0ef"
            ],
            [
             0.5,
             "#f7f7f7"
            ],
            [
             0.6,
             "#e6f5d0"
            ],
            [
             0.7,
             "#b8e186"
            ],
            [
             0.8,
             "#7fbc41"
            ],
            [
             0.9,
             "#4d9221"
            ],
            [
             1,
             "#276419"
            ]
           ],
           "sequential": [
            [
             0,
             "#0d0887"
            ],
            [
             0.1111111111111111,
             "#46039f"
            ],
            [
             0.2222222222222222,
             "#7201a8"
            ],
            [
             0.3333333333333333,
             "#9c179e"
            ],
            [
             0.4444444444444444,
             "#bd3786"
            ],
            [
             0.5555555555555556,
             "#d8576b"
            ],
            [
             0.6666666666666666,
             "#ed7953"
            ],
            [
             0.7777777777777778,
             "#fb9f3a"
            ],
            [
             0.8888888888888888,
             "#fdca26"
            ],
            [
             1,
             "#f0f921"
            ]
           ],
           "sequentialminus": [
            [
             0,
             "#0d0887"
            ],
            [
             0.1111111111111111,
             "#46039f"
            ],
            [
             0.2222222222222222,
             "#7201a8"
            ],
            [
             0.3333333333333333,
             "#9c179e"
            ],
            [
             0.4444444444444444,
             "#bd3786"
            ],
            [
             0.5555555555555556,
             "#d8576b"
            ],
            [
             0.6666666666666666,
             "#ed7953"
            ],
            [
             0.7777777777777778,
             "#fb9f3a"
            ],
            [
             0.8888888888888888,
             "#fdca26"
            ],
            [
             1,
             "#f0f921"
            ]
           ]
          },
          "colorway": [
           "#636efa",
           "#EF553B",
           "#00cc96",
           "#ab63fa",
           "#FFA15A",
           "#19d3f3",
           "#FF6692",
           "#B6E880",
           "#FF97FF",
           "#FECB52"
          ],
          "font": {
           "color": "#2a3f5f"
          },
          "geo": {
           "bgcolor": "white",
           "lakecolor": "white",
           "landcolor": "#E5ECF6",
           "showlakes": true,
           "showland": true,
           "subunitcolor": "white"
          },
          "hoverlabel": {
           "align": "left"
          },
          "hovermode": "closest",
          "mapbox": {
           "style": "light"
          },
          "paper_bgcolor": "white",
          "plot_bgcolor": "#E5ECF6",
          "polar": {
           "angularaxis": {
            "gridcolor": "white",
            "linecolor": "white",
            "ticks": ""
           },
           "bgcolor": "#E5ECF6",
           "radialaxis": {
            "gridcolor": "white",
            "linecolor": "white",
            "ticks": ""
           }
          },
          "scene": {
           "xaxis": {
            "backgroundcolor": "#E5ECF6",
            "gridcolor": "white",
            "gridwidth": 2,
            "linecolor": "white",
            "showbackground": true,
            "ticks": "",
            "zerolinecolor": "white"
           },
           "yaxis": {
            "backgroundcolor": "#E5ECF6",
            "gridcolor": "white",
            "gridwidth": 2,
            "linecolor": "white",
            "showbackground": true,
            "ticks": "",
            "zerolinecolor": "white"
           },
           "zaxis": {
            "backgroundcolor": "#E5ECF6",
            "gridcolor": "white",
            "gridwidth": 2,
            "linecolor": "white",
            "showbackground": true,
            "ticks": "",
            "zerolinecolor": "white"
           }
          },
          "shapedefaults": {
           "line": {
            "color": "#2a3f5f"
           }
          },
          "ternary": {
           "aaxis": {
            "gridcolor": "white",
            "linecolor": "white",
            "ticks": ""
           },
           "baxis": {
            "gridcolor": "white",
            "linecolor": "white",
            "ticks": ""
           },
           "bgcolor": "#E5ECF6",
           "caxis": {
            "gridcolor": "white",
            "linecolor": "white",
            "ticks": ""
           }
          },
          "title": {
           "x": 0.05
          },
          "xaxis": {
           "automargin": true,
           "gridcolor": "white",
           "linecolor": "white",
           "ticks": "",
           "title": {
            "standoff": 15
           },
           "zerolinecolor": "white",
           "zerolinewidth": 2
          },
          "yaxis": {
           "automargin": true,
           "gridcolor": "white",
           "linecolor": "white",
           "ticks": "",
           "title": {
            "standoff": 15
           },
           "zerolinecolor": "white",
           "zerolinewidth": 2
          }
         }
        },
        "title": {
         "text": "Number of installs of eavry content Rating ",
         "x": 0.5
        },
        "xaxis": {
         "anchor": "y",
         "domain": [
          0,
          1
         ],
         "title": {
          "text": "Content Rating"
         }
        },
        "yaxis": {
         "anchor": "x",
         "domain": [
          0,
          1
         ],
         "title": {
          "text": "Installs"
         }
        }
       }
      }
     },
     "metadata": {},
     "output_type": "display_data"
    }
   ],
   "source": [
    "checking_fig= px.bar(\n",
    "    checking,\n",
    "    x='Content Rating',\n",
    "    y='Installs',\n",
    "    color='Installs',\n",
    "    labels={'App':'Apps_Count'}, title ='Rating for Genres'\n",
    ")\n",
    "checking_fig.update_layout(title_text='Number of installs of eavry content Rating ', title_x=0.5)"
   ]
  },
  {
   "cell_type": "code",
   "execution_count": 60,
   "metadata": {},
   "outputs": [
    {
     "data": {
      "text/html": [
       "<div>\n",
       "<style scoped>\n",
       "    .dataframe tbody tr th:only-of-type {\n",
       "        vertical-align: middle;\n",
       "    }\n",
       "\n",
       "    .dataframe tbody tr th {\n",
       "        vertical-align: top;\n",
       "    }\n",
       "\n",
       "    .dataframe thead th {\n",
       "        text-align: right;\n",
       "    }\n",
       "</style>\n",
       "<table border=\"1\" class=\"dataframe\">\n",
       "  <thead>\n",
       "    <tr style=\"text-align: right;\">\n",
       "      <th></th>\n",
       "      <th>Genres</th>\n",
       "      <th>Rating</th>\n",
       "    </tr>\n",
       "  </thead>\n",
       "  <tbody>\n",
       "    <tr>\n",
       "      <th>0</th>\n",
       "      <td>Action</td>\n",
       "      <td>356</td>\n",
       "    </tr>\n",
       "    <tr>\n",
       "      <th>1</th>\n",
       "      <td>Action;Action &amp; Adventure</td>\n",
       "      <td>15</td>\n",
       "    </tr>\n",
       "    <tr>\n",
       "      <th>2</th>\n",
       "      <td>Adventure</td>\n",
       "      <td>75</td>\n",
       "    </tr>\n",
       "    <tr>\n",
       "      <th>3</th>\n",
       "      <td>Adventure;Action &amp; Adventure</td>\n",
       "      <td>13</td>\n",
       "    </tr>\n",
       "    <tr>\n",
       "      <th>4</th>\n",
       "      <td>Adventure;Brain Games</td>\n",
       "      <td>1</td>\n",
       "    </tr>\n",
       "    <tr>\n",
       "      <th>...</th>\n",
       "      <td>...</td>\n",
       "      <td>...</td>\n",
       "    </tr>\n",
       "    <tr>\n",
       "      <th>114</th>\n",
       "      <td>Video Players &amp; Editors</td>\n",
       "      <td>173</td>\n",
       "    </tr>\n",
       "    <tr>\n",
       "      <th>115</th>\n",
       "      <td>Video Players &amp; Editors;Creativity</td>\n",
       "      <td>2</td>\n",
       "    </tr>\n",
       "    <tr>\n",
       "      <th>116</th>\n",
       "      <td>Video Players &amp; Editors;Music &amp; Video</td>\n",
       "      <td>3</td>\n",
       "    </tr>\n",
       "    <tr>\n",
       "      <th>117</th>\n",
       "      <td>Weather</td>\n",
       "      <td>82</td>\n",
       "    </tr>\n",
       "    <tr>\n",
       "      <th>118</th>\n",
       "      <td>Word</td>\n",
       "      <td>28</td>\n",
       "    </tr>\n",
       "  </tbody>\n",
       "</table>\n",
       "<p>119 rows × 2 columns</p>\n",
       "</div>"
      ],
      "text/plain": [
       "                                    Genres  Rating\n",
       "0                                   Action     356\n",
       "1                Action;Action & Adventure      15\n",
       "2                                Adventure      75\n",
       "3             Adventure;Action & Adventure      13\n",
       "4                    Adventure;Brain Games       1\n",
       "..                                     ...     ...\n",
       "114                Video Players & Editors     173\n",
       "115     Video Players & Editors;Creativity       2\n",
       "116  Video Players & Editors;Music & Video       3\n",
       "117                                Weather      82\n",
       "118                                   Word      28\n",
       "\n",
       "[119 rows x 2 columns]"
      ]
     },
     "execution_count": 60,
     "metadata": {},
     "output_type": "execute_result"
    }
   ],
   "source": [
    "testing =Clean_Data.groupby('Genres')['Rating'].count()\n",
    "testing =pd.DataFrame(testing)\n",
    "testing=testing.reset_index()\n",
    "testing"
   ]
  },
  {
   "cell_type": "code",
   "execution_count": 61,
   "metadata": {},
   "outputs": [
    {
     "data": {
      "application/vnd.plotly.v1+json": {
       "config": {
        "plotlyServerURL": "https://plot.ly"
       },
       "data": [
        {
         "alignmentgroup": "True",
         "hovertemplate": "Genres=%{x}<br>Rating=%{marker.color}<extra></extra>",
         "legendgroup": "",
         "marker": {
          "color": [
           356,
           15,
           75,
           13,
           1,
           2,
           218,
           15,
           1,
           57,
           2,
           7,
           2,
           85,
           53,
           44,
           3,
           15,
           1,
           229,
           1,
           2,
           427,
           48,
           2,
           1,
           39,
           191,
           18,
           13,
           7,
           3,
           1,
           30,
           59,
           1,
           366,
           1,
           198,
           526,
           5,
           5,
           7,
           44,
           4,
           18,
           37,
           4,
           6,
           5,
           38,
           16,
           587,
           3,
           8,
           3,
           1,
           23,
           2,
           64,
           360,
           124,
           306,
           1,
           1,
           80,
           84,
           372,
           1,
           1,
           137,
           414,
           21,
           1,
           3,
           264,
           46,
           1,
           7,
           6,
           386,
           322,
           407,
           135,
           5,
           18,
           2,
           1,
           98,
           20,
           1,
           109,
           5,
           1,
           1,
           4,
           224,
           199,
           10,
           3,
           4,
           280,
           364,
           4,
           105,
           2,
           1,
           1,
           840,
           1,
           236,
           1,
           38,
           1,
           173,
           2,
           3,
           82,
           28
          ],
          "coloraxis": "coloraxis",
          "pattern": {
           "shape": ""
          }
         },
         "name": "",
         "offsetgroup": "",
         "orientation": "v",
         "showlegend": false,
         "textposition": "auto",
         "type": "bar",
         "x": [
          "Action",
          "Action;Action & Adventure",
          "Adventure",
          "Adventure;Action & Adventure",
          "Adventure;Brain Games",
          "Adventure;Education",
          "Arcade",
          "Arcade;Action & Adventure",
          "Arcade;Pretend Play",
          "Art & Design",
          "Art & Design;Action & Adventure",
          "Art & Design;Creativity",
          "Art & Design;Pretend Play",
          "Auto & Vehicles",
          "Beauty",
          "Board",
          "Board;Action & Adventure",
          "Board;Brain Games",
          "Board;Pretend Play",
          "Books & Reference",
          "Books & Reference;Creativity",
          "Books & Reference;Education",
          "Business",
          "Card",
          "Card;Action & Adventure",
          "Card;Brain Games",
          "Casino",
          "Casual",
          "Casual;Action & Adventure",
          "Casual;Brain Games",
          "Casual;Creativity",
          "Casual;Education",
          "Casual;Music & Video",
          "Casual;Pretend Play",
          "Comics",
          "Comics;Creativity",
          "Communication",
          "Communication;Creativity",
          "Dating",
          "Education",
          "Education;Action & Adventure",
          "Education;Brain Games",
          "Education;Creativity",
          "Education;Education",
          "Education;Music & Video",
          "Education;Pretend Play",
          "Educational",
          "Educational;Action & Adventure",
          "Educational;Brain Games",
          "Educational;Creativity",
          "Educational;Education",
          "Educational;Pretend Play",
          "Entertainment",
          "Entertainment;Action & Adventure",
          "Entertainment;Brain Games",
          "Entertainment;Creativity",
          "Entertainment;Education",
          "Entertainment;Music & Video",
          "Entertainment;Pretend Play",
          "Events",
          "Finance",
          "Food & Drink",
          "Health & Fitness",
          "Health & Fitness;Action & Adventure",
          "Health & Fitness;Education",
          "House & Home",
          "Libraries & Demo",
          "Lifestyle",
          "Lifestyle;Education",
          "Lifestyle;Pretend Play",
          "Maps & Navigation",
          "Medical",
          "Music",
          "Music & Audio;Music & Video",
          "Music;Music & Video",
          "News & Magazines",
          "Parenting",
          "Parenting;Brain Games",
          "Parenting;Education",
          "Parenting;Music & Video",
          "Personalization",
          "Photography",
          "Productivity",
          "Puzzle",
          "Puzzle;Action & Adventure",
          "Puzzle;Brain Games",
          "Puzzle;Creativity",
          "Puzzle;Education",
          "Racing",
          "Racing;Action & Adventure",
          "Racing;Pretend Play",
          "Role Playing",
          "Role Playing;Action & Adventure",
          "Role Playing;Brain Games",
          "Role Playing;Education",
          "Role Playing;Pretend Play",
          "Shopping",
          "Simulation",
          "Simulation;Action & Adventure",
          "Simulation;Education",
          "Simulation;Pretend Play",
          "Social",
          "Sports",
          "Sports;Action & Adventure",
          "Strategy",
          "Strategy;Action & Adventure",
          "Strategy;Creativity",
          "Strategy;Education",
          "Tools",
          "Tools;Education",
          "Travel & Local",
          "Travel & Local;Action & Adventure",
          "Trivia",
          "Trivia;Education",
          "Video Players & Editors",
          "Video Players & Editors;Creativity",
          "Video Players & Editors;Music & Video",
          "Weather",
          "Word"
         ],
         "xaxis": "x",
         "y": [
          356,
          15,
          75,
          13,
          1,
          2,
          218,
          15,
          1,
          57,
          2,
          7,
          2,
          85,
          53,
          44,
          3,
          15,
          1,
          229,
          1,
          2,
          427,
          48,
          2,
          1,
          39,
          191,
          18,
          13,
          7,
          3,
          1,
          30,
          59,
          1,
          366,
          1,
          198,
          526,
          5,
          5,
          7,
          44,
          4,
          18,
          37,
          4,
          6,
          5,
          38,
          16,
          587,
          3,
          8,
          3,
          1,
          23,
          2,
          64,
          360,
          124,
          306,
          1,
          1,
          80,
          84,
          372,
          1,
          1,
          137,
          414,
          21,
          1,
          3,
          264,
          46,
          1,
          7,
          6,
          386,
          322,
          407,
          135,
          5,
          18,
          2,
          1,
          98,
          20,
          1,
          109,
          5,
          1,
          1,
          4,
          224,
          199,
          10,
          3,
          4,
          280,
          364,
          4,
          105,
          2,
          1,
          1,
          840,
          1,
          236,
          1,
          38,
          1,
          173,
          2,
          3,
          82,
          28
         ],
         "yaxis": "y"
        }
       ],
       "layout": {
        "barmode": "relative",
        "coloraxis": {
         "colorbar": {
          "title": {
           "text": "Rating"
          }
         },
         "colorscale": [
          [
           0,
           "#0d0887"
          ],
          [
           0.1111111111111111,
           "#46039f"
          ],
          [
           0.2222222222222222,
           "#7201a8"
          ],
          [
           0.3333333333333333,
           "#9c179e"
          ],
          [
           0.4444444444444444,
           "#bd3786"
          ],
          [
           0.5555555555555556,
           "#d8576b"
          ],
          [
           0.6666666666666666,
           "#ed7953"
          ],
          [
           0.7777777777777778,
           "#fb9f3a"
          ],
          [
           0.8888888888888888,
           "#fdca26"
          ],
          [
           1,
           "#f0f921"
          ]
         ]
        },
        "legend": {
         "tracegroupgap": 0
        },
        "template": {
         "data": {
          "bar": [
           {
            "error_x": {
             "color": "#2a3f5f"
            },
            "error_y": {
             "color": "#2a3f5f"
            },
            "marker": {
             "line": {
              "color": "#E5ECF6",
              "width": 0.5
             },
             "pattern": {
              "fillmode": "overlay",
              "size": 10,
              "solidity": 0.2
             }
            },
            "type": "bar"
           }
          ],
          "barpolar": [
           {
            "marker": {
             "line": {
              "color": "#E5ECF6",
              "width": 0.5
             },
             "pattern": {
              "fillmode": "overlay",
              "size": 10,
              "solidity": 0.2
             }
            },
            "type": "barpolar"
           }
          ],
          "carpet": [
           {
            "aaxis": {
             "endlinecolor": "#2a3f5f",
             "gridcolor": "white",
             "linecolor": "white",
             "minorgridcolor": "white",
             "startlinecolor": "#2a3f5f"
            },
            "baxis": {
             "endlinecolor": "#2a3f5f",
             "gridcolor": "white",
             "linecolor": "white",
             "minorgridcolor": "white",
             "startlinecolor": "#2a3f5f"
            },
            "type": "carpet"
           }
          ],
          "choropleth": [
           {
            "colorbar": {
             "outlinewidth": 0,
             "ticks": ""
            },
            "type": "choropleth"
           }
          ],
          "contour": [
           {
            "colorbar": {
             "outlinewidth": 0,
             "ticks": ""
            },
            "colorscale": [
             [
              0,
              "#0d0887"
             ],
             [
              0.1111111111111111,
              "#46039f"
             ],
             [
              0.2222222222222222,
              "#7201a8"
             ],
             [
              0.3333333333333333,
              "#9c179e"
             ],
             [
              0.4444444444444444,
              "#bd3786"
             ],
             [
              0.5555555555555556,
              "#d8576b"
             ],
             [
              0.6666666666666666,
              "#ed7953"
             ],
             [
              0.7777777777777778,
              "#fb9f3a"
             ],
             [
              0.8888888888888888,
              "#fdca26"
             ],
             [
              1,
              "#f0f921"
             ]
            ],
            "type": "contour"
           }
          ],
          "contourcarpet": [
           {
            "colorbar": {
             "outlinewidth": 0,
             "ticks": ""
            },
            "type": "contourcarpet"
           }
          ],
          "heatmap": [
           {
            "colorbar": {
             "outlinewidth": 0,
             "ticks": ""
            },
            "colorscale": [
             [
              0,
              "#0d0887"
             ],
             [
              0.1111111111111111,
              "#46039f"
             ],
             [
              0.2222222222222222,
              "#7201a8"
             ],
             [
              0.3333333333333333,
              "#9c179e"
             ],
             [
              0.4444444444444444,
              "#bd3786"
             ],
             [
              0.5555555555555556,
              "#d8576b"
             ],
             [
              0.6666666666666666,
              "#ed7953"
             ],
             [
              0.7777777777777778,
              "#fb9f3a"
             ],
             [
              0.8888888888888888,
              "#fdca26"
             ],
             [
              1,
              "#f0f921"
             ]
            ],
            "type": "heatmap"
           }
          ],
          "heatmapgl": [
           {
            "colorbar": {
             "outlinewidth": 0,
             "ticks": ""
            },
            "colorscale": [
             [
              0,
              "#0d0887"
             ],
             [
              0.1111111111111111,
              "#46039f"
             ],
             [
              0.2222222222222222,
              "#7201a8"
             ],
             [
              0.3333333333333333,
              "#9c179e"
             ],
             [
              0.4444444444444444,
              "#bd3786"
             ],
             [
              0.5555555555555556,
              "#d8576b"
             ],
             [
              0.6666666666666666,
              "#ed7953"
             ],
             [
              0.7777777777777778,
              "#fb9f3a"
             ],
             [
              0.8888888888888888,
              "#fdca26"
             ],
             [
              1,
              "#f0f921"
             ]
            ],
            "type": "heatmapgl"
           }
          ],
          "histogram": [
           {
            "marker": {
             "pattern": {
              "fillmode": "overlay",
              "size": 10,
              "solidity": 0.2
             }
            },
            "type": "histogram"
           }
          ],
          "histogram2d": [
           {
            "colorbar": {
             "outlinewidth": 0,
             "ticks": ""
            },
            "colorscale": [
             [
              0,
              "#0d0887"
             ],
             [
              0.1111111111111111,
              "#46039f"
             ],
             [
              0.2222222222222222,
              "#7201a8"
             ],
             [
              0.3333333333333333,
              "#9c179e"
             ],
             [
              0.4444444444444444,
              "#bd3786"
             ],
             [
              0.5555555555555556,
              "#d8576b"
             ],
             [
              0.6666666666666666,
              "#ed7953"
             ],
             [
              0.7777777777777778,
              "#fb9f3a"
             ],
             [
              0.8888888888888888,
              "#fdca26"
             ],
             [
              1,
              "#f0f921"
             ]
            ],
            "type": "histogram2d"
           }
          ],
          "histogram2dcontour": [
           {
            "colorbar": {
             "outlinewidth": 0,
             "ticks": ""
            },
            "colorscale": [
             [
              0,
              "#0d0887"
             ],
             [
              0.1111111111111111,
              "#46039f"
             ],
             [
              0.2222222222222222,
              "#7201a8"
             ],
             [
              0.3333333333333333,
              "#9c179e"
             ],
             [
              0.4444444444444444,
              "#bd3786"
             ],
             [
              0.5555555555555556,
              "#d8576b"
             ],
             [
              0.6666666666666666,
              "#ed7953"
             ],
             [
              0.7777777777777778,
              "#fb9f3a"
             ],
             [
              0.8888888888888888,
              "#fdca26"
             ],
             [
              1,
              "#f0f921"
             ]
            ],
            "type": "histogram2dcontour"
           }
          ],
          "mesh3d": [
           {
            "colorbar": {
             "outlinewidth": 0,
             "ticks": ""
            },
            "type": "mesh3d"
           }
          ],
          "parcoords": [
           {
            "line": {
             "colorbar": {
              "outlinewidth": 0,
              "ticks": ""
             }
            },
            "type": "parcoords"
           }
          ],
          "pie": [
           {
            "automargin": true,
            "type": "pie"
           }
          ],
          "scatter": [
           {
            "marker": {
             "colorbar": {
              "outlinewidth": 0,
              "ticks": ""
             }
            },
            "type": "scatter"
           }
          ],
          "scatter3d": [
           {
            "line": {
             "colorbar": {
              "outlinewidth": 0,
              "ticks": ""
             }
            },
            "marker": {
             "colorbar": {
              "outlinewidth": 0,
              "ticks": ""
             }
            },
            "type": "scatter3d"
           }
          ],
          "scattercarpet": [
           {
            "marker": {
             "colorbar": {
              "outlinewidth": 0,
              "ticks": ""
             }
            },
            "type": "scattercarpet"
           }
          ],
          "scattergeo": [
           {
            "marker": {
             "colorbar": {
              "outlinewidth": 0,
              "ticks": ""
             }
            },
            "type": "scattergeo"
           }
          ],
          "scattergl": [
           {
            "marker": {
             "colorbar": {
              "outlinewidth": 0,
              "ticks": ""
             }
            },
            "type": "scattergl"
           }
          ],
          "scattermapbox": [
           {
            "marker": {
             "colorbar": {
              "outlinewidth": 0,
              "ticks": ""
             }
            },
            "type": "scattermapbox"
           }
          ],
          "scatterpolar": [
           {
            "marker": {
             "colorbar": {
              "outlinewidth": 0,
              "ticks": ""
             }
            },
            "type": "scatterpolar"
           }
          ],
          "scatterpolargl": [
           {
            "marker": {
             "colorbar": {
              "outlinewidth": 0,
              "ticks": ""
             }
            },
            "type": "scatterpolargl"
           }
          ],
          "scatterternary": [
           {
            "marker": {
             "colorbar": {
              "outlinewidth": 0,
              "ticks": ""
             }
            },
            "type": "scatterternary"
           }
          ],
          "surface": [
           {
            "colorbar": {
             "outlinewidth": 0,
             "ticks": ""
            },
            "colorscale": [
             [
              0,
              "#0d0887"
             ],
             [
              0.1111111111111111,
              "#46039f"
             ],
             [
              0.2222222222222222,
              "#7201a8"
             ],
             [
              0.3333333333333333,
              "#9c179e"
             ],
             [
              0.4444444444444444,
              "#bd3786"
             ],
             [
              0.5555555555555556,
              "#d8576b"
             ],
             [
              0.6666666666666666,
              "#ed7953"
             ],
             [
              0.7777777777777778,
              "#fb9f3a"
             ],
             [
              0.8888888888888888,
              "#fdca26"
             ],
             [
              1,
              "#f0f921"
             ]
            ],
            "type": "surface"
           }
          ],
          "table": [
           {
            "cells": {
             "fill": {
              "color": "#EBF0F8"
             },
             "line": {
              "color": "white"
             }
            },
            "header": {
             "fill": {
              "color": "#C8D4E3"
             },
             "line": {
              "color": "white"
             }
            },
            "type": "table"
           }
          ]
         },
         "layout": {
          "annotationdefaults": {
           "arrowcolor": "#2a3f5f",
           "arrowhead": 0,
           "arrowwidth": 1
          },
          "autotypenumbers": "strict",
          "coloraxis": {
           "colorbar": {
            "outlinewidth": 0,
            "ticks": ""
           }
          },
          "colorscale": {
           "diverging": [
            [
             0,
             "#8e0152"
            ],
            [
             0.1,
             "#c51b7d"
            ],
            [
             0.2,
             "#de77ae"
            ],
            [
             0.3,
             "#f1b6da"
            ],
            [
             0.4,
             "#fde0ef"
            ],
            [
             0.5,
             "#f7f7f7"
            ],
            [
             0.6,
             "#e6f5d0"
            ],
            [
             0.7,
             "#b8e186"
            ],
            [
             0.8,
             "#7fbc41"
            ],
            [
             0.9,
             "#4d9221"
            ],
            [
             1,
             "#276419"
            ]
           ],
           "sequential": [
            [
             0,
             "#0d0887"
            ],
            [
             0.1111111111111111,
             "#46039f"
            ],
            [
             0.2222222222222222,
             "#7201a8"
            ],
            [
             0.3333333333333333,
             "#9c179e"
            ],
            [
             0.4444444444444444,
             "#bd3786"
            ],
            [
             0.5555555555555556,
             "#d8576b"
            ],
            [
             0.6666666666666666,
             "#ed7953"
            ],
            [
             0.7777777777777778,
             "#fb9f3a"
            ],
            [
             0.8888888888888888,
             "#fdca26"
            ],
            [
             1,
             "#f0f921"
            ]
           ],
           "sequentialminus": [
            [
             0,
             "#0d0887"
            ],
            [
             0.1111111111111111,
             "#46039f"
            ],
            [
             0.2222222222222222,
             "#7201a8"
            ],
            [
             0.3333333333333333,
             "#9c179e"
            ],
            [
             0.4444444444444444,
             "#bd3786"
            ],
            [
             0.5555555555555556,
             "#d8576b"
            ],
            [
             0.6666666666666666,
             "#ed7953"
            ],
            [
             0.7777777777777778,
             "#fb9f3a"
            ],
            [
             0.8888888888888888,
             "#fdca26"
            ],
            [
             1,
             "#f0f921"
            ]
           ]
          },
          "colorway": [
           "#636efa",
           "#EF553B",
           "#00cc96",
           "#ab63fa",
           "#FFA15A",
           "#19d3f3",
           "#FF6692",
           "#B6E880",
           "#FF97FF",
           "#FECB52"
          ],
          "font": {
           "color": "#2a3f5f"
          },
          "geo": {
           "bgcolor": "white",
           "lakecolor": "white",
           "landcolor": "#E5ECF6",
           "showlakes": true,
           "showland": true,
           "subunitcolor": "white"
          },
          "hoverlabel": {
           "align": "left"
          },
          "hovermode": "closest",
          "mapbox": {
           "style": "light"
          },
          "paper_bgcolor": "white",
          "plot_bgcolor": "#E5ECF6",
          "polar": {
           "angularaxis": {
            "gridcolor": "white",
            "linecolor": "white",
            "ticks": ""
           },
           "bgcolor": "#E5ECF6",
           "radialaxis": {
            "gridcolor": "white",
            "linecolor": "white",
            "ticks": ""
           }
          },
          "scene": {
           "xaxis": {
            "backgroundcolor": "#E5ECF6",
            "gridcolor": "white",
            "gridwidth": 2,
            "linecolor": "white",
            "showbackground": true,
            "ticks": "",
            "zerolinecolor": "white"
           },
           "yaxis": {
            "backgroundcolor": "#E5ECF6",
            "gridcolor": "white",
            "gridwidth": 2,
            "linecolor": "white",
            "showbackground": true,
            "ticks": "",
            "zerolinecolor": "white"
           },
           "zaxis": {
            "backgroundcolor": "#E5ECF6",
            "gridcolor": "white",
            "gridwidth": 2,
            "linecolor": "white",
            "showbackground": true,
            "ticks": "",
            "zerolinecolor": "white"
           }
          },
          "shapedefaults": {
           "line": {
            "color": "#2a3f5f"
           }
          },
          "ternary": {
           "aaxis": {
            "gridcolor": "white",
            "linecolor": "white",
            "ticks": ""
           },
           "baxis": {
            "gridcolor": "white",
            "linecolor": "white",
            "ticks": ""
           },
           "bgcolor": "#E5ECF6",
           "caxis": {
            "gridcolor": "white",
            "linecolor": "white",
            "ticks": ""
           }
          },
          "title": {
           "x": 0.05
          },
          "xaxis": {
           "automargin": true,
           "gridcolor": "white",
           "linecolor": "white",
           "ticks": "",
           "title": {
            "standoff": 15
           },
           "zerolinecolor": "white",
           "zerolinewidth": 2
          },
          "yaxis": {
           "automargin": true,
           "gridcolor": "white",
           "linecolor": "white",
           "ticks": "",
           "title": {
            "standoff": 15
           },
           "zerolinecolor": "white",
           "zerolinewidth": 2
          }
         }
        },
        "title": {
         "text": "Rating for Genres",
         "x": 0.5
        },
        "xaxis": {
         "anchor": "y",
         "domain": [
          0,
          1
         ],
         "title": {
          "text": "Genres"
         }
        },
        "yaxis": {
         "anchor": "x",
         "domain": [
          0,
          1
         ],
         "title": {
          "text": "Rating"
         }
        }
       }
      }
     },
     "metadata": {},
     "output_type": "display_data"
    }
   ],
   "source": [
    "testing_fig=px.bar(\n",
    "    testing,\n",
    "    x='Genres',\n",
    "    y='Rating',\n",
    "    color='Rating',\n",
    "    labels={'App':'Apps_Count'}, title ='Rating for Genres'\n",
    ")\n",
    "testing_fig.update_layout(title_text='Rating for Genres', title_x=0.5)"
   ]
  },
  {
   "cell_type": "code",
   "execution_count": 62,
   "metadata": {},
   "outputs": [
    {
     "data": {
      "text/html": [
       "<div>\n",
       "<style scoped>\n",
       "    .dataframe tbody tr th:only-of-type {\n",
       "        vertical-align: middle;\n",
       "    }\n",
       "\n",
       "    .dataframe tbody tr th {\n",
       "        vertical-align: top;\n",
       "    }\n",
       "\n",
       "    .dataframe thead th {\n",
       "        text-align: right;\n",
       "    }\n",
       "</style>\n",
       "<table border=\"1\" class=\"dataframe\">\n",
       "  <thead>\n",
       "    <tr style=\"text-align: right;\">\n",
       "      <th></th>\n",
       "      <th>Category</th>\n",
       "      <th>App</th>\n",
       "    </tr>\n",
       "  </thead>\n",
       "  <tbody>\n",
       "    <tr>\n",
       "      <th>0</th>\n",
       "      <td>ART_AND_DESIGN</td>\n",
       "      <td>64</td>\n",
       "    </tr>\n",
       "    <tr>\n",
       "      <th>1</th>\n",
       "      <td>AUTO_AND_VEHICLES</td>\n",
       "      <td>85</td>\n",
       "    </tr>\n",
       "    <tr>\n",
       "      <th>2</th>\n",
       "      <td>BEAUTY</td>\n",
       "      <td>53</td>\n",
       "    </tr>\n",
       "    <tr>\n",
       "      <th>3</th>\n",
       "      <td>BOOKS_AND_REFERENCE</td>\n",
       "      <td>229</td>\n",
       "    </tr>\n",
       "    <tr>\n",
       "      <th>4</th>\n",
       "      <td>BUSINESS</td>\n",
       "      <td>427</td>\n",
       "    </tr>\n",
       "    <tr>\n",
       "      <th>5</th>\n",
       "      <td>COMICS</td>\n",
       "      <td>60</td>\n",
       "    </tr>\n",
       "    <tr>\n",
       "      <th>6</th>\n",
       "      <td>COMMUNICATION</td>\n",
       "      <td>366</td>\n",
       "    </tr>\n",
       "    <tr>\n",
       "      <th>7</th>\n",
       "      <td>DATING</td>\n",
       "      <td>198</td>\n",
       "    </tr>\n",
       "    <tr>\n",
       "      <th>8</th>\n",
       "      <td>EDUCATION</td>\n",
       "      <td>130</td>\n",
       "    </tr>\n",
       "    <tr>\n",
       "      <th>9</th>\n",
       "      <td>ENTERTAINMENT</td>\n",
       "      <td>111</td>\n",
       "    </tr>\n",
       "    <tr>\n",
       "      <th>10</th>\n",
       "      <td>EVENTS</td>\n",
       "      <td>64</td>\n",
       "    </tr>\n",
       "    <tr>\n",
       "      <th>11</th>\n",
       "      <td>FAMILY</td>\n",
       "      <td>1940</td>\n",
       "    </tr>\n",
       "    <tr>\n",
       "      <th>12</th>\n",
       "      <td>FINANCE</td>\n",
       "      <td>360</td>\n",
       "    </tr>\n",
       "    <tr>\n",
       "      <th>13</th>\n",
       "      <td>FOOD_AND_DRINK</td>\n",
       "      <td>124</td>\n",
       "    </tr>\n",
       "    <tr>\n",
       "      <th>14</th>\n",
       "      <td>GAME</td>\n",
       "      <td>1121</td>\n",
       "    </tr>\n",
       "    <tr>\n",
       "      <th>15</th>\n",
       "      <td>HEALTH_AND_FITNESS</td>\n",
       "      <td>306</td>\n",
       "    </tr>\n",
       "    <tr>\n",
       "      <th>16</th>\n",
       "      <td>HOUSE_AND_HOME</td>\n",
       "      <td>80</td>\n",
       "    </tr>\n",
       "    <tr>\n",
       "      <th>17</th>\n",
       "      <td>LIBRARIES_AND_DEMO</td>\n",
       "      <td>84</td>\n",
       "    </tr>\n",
       "    <tr>\n",
       "      <th>18</th>\n",
       "      <td>LIFESTYLE</td>\n",
       "      <td>373</td>\n",
       "    </tr>\n",
       "    <tr>\n",
       "      <th>19</th>\n",
       "      <td>MAPS_AND_NAVIGATION</td>\n",
       "      <td>137</td>\n",
       "    </tr>\n",
       "    <tr>\n",
       "      <th>20</th>\n",
       "      <td>MEDICAL</td>\n",
       "      <td>414</td>\n",
       "    </tr>\n",
       "    <tr>\n",
       "      <th>21</th>\n",
       "      <td>NEWS_AND_MAGAZINES</td>\n",
       "      <td>264</td>\n",
       "    </tr>\n",
       "    <tr>\n",
       "      <th>22</th>\n",
       "      <td>PARENTING</td>\n",
       "      <td>60</td>\n",
       "    </tr>\n",
       "    <tr>\n",
       "      <th>23</th>\n",
       "      <td>PERSONALIZATION</td>\n",
       "      <td>386</td>\n",
       "    </tr>\n",
       "    <tr>\n",
       "      <th>24</th>\n",
       "      <td>PHOTOGRAPHY</td>\n",
       "      <td>322</td>\n",
       "    </tr>\n",
       "    <tr>\n",
       "      <th>25</th>\n",
       "      <td>PRODUCTIVITY</td>\n",
       "      <td>407</td>\n",
       "    </tr>\n",
       "    <tr>\n",
       "      <th>26</th>\n",
       "      <td>SHOPPING</td>\n",
       "      <td>224</td>\n",
       "    </tr>\n",
       "    <tr>\n",
       "      <th>27</th>\n",
       "      <td>SOCIAL</td>\n",
       "      <td>280</td>\n",
       "    </tr>\n",
       "    <tr>\n",
       "      <th>28</th>\n",
       "      <td>SPORTS</td>\n",
       "      <td>351</td>\n",
       "    </tr>\n",
       "    <tr>\n",
       "      <th>29</th>\n",
       "      <td>TOOLS</td>\n",
       "      <td>841</td>\n",
       "    </tr>\n",
       "    <tr>\n",
       "      <th>30</th>\n",
       "      <td>TRAVEL_AND_LOCAL</td>\n",
       "      <td>237</td>\n",
       "    </tr>\n",
       "    <tr>\n",
       "      <th>31</th>\n",
       "      <td>VIDEO_PLAYERS</td>\n",
       "      <td>175</td>\n",
       "    </tr>\n",
       "    <tr>\n",
       "      <th>32</th>\n",
       "      <td>WEATHER</td>\n",
       "      <td>82</td>\n",
       "    </tr>\n",
       "  </tbody>\n",
       "</table>\n",
       "</div>"
      ],
      "text/plain": [
       "               Category   App\n",
       "0        ART_AND_DESIGN    64\n",
       "1     AUTO_AND_VEHICLES    85\n",
       "2                BEAUTY    53\n",
       "3   BOOKS_AND_REFERENCE   229\n",
       "4              BUSINESS   427\n",
       "5                COMICS    60\n",
       "6         COMMUNICATION   366\n",
       "7                DATING   198\n",
       "8             EDUCATION   130\n",
       "9         ENTERTAINMENT   111\n",
       "10               EVENTS    64\n",
       "11               FAMILY  1940\n",
       "12              FINANCE   360\n",
       "13       FOOD_AND_DRINK   124\n",
       "14                 GAME  1121\n",
       "15   HEALTH_AND_FITNESS   306\n",
       "16       HOUSE_AND_HOME    80\n",
       "17   LIBRARIES_AND_DEMO    84\n",
       "18            LIFESTYLE   373\n",
       "19  MAPS_AND_NAVIGATION   137\n",
       "20              MEDICAL   414\n",
       "21   NEWS_AND_MAGAZINES   264\n",
       "22            PARENTING    60\n",
       "23      PERSONALIZATION   386\n",
       "24          PHOTOGRAPHY   322\n",
       "25         PRODUCTIVITY   407\n",
       "26             SHOPPING   224\n",
       "27               SOCIAL   280\n",
       "28               SPORTS   351\n",
       "29                TOOLS   841\n",
       "30     TRAVEL_AND_LOCAL   237\n",
       "31        VIDEO_PLAYERS   175\n",
       "32              WEATHER    82"
      ]
     },
     "execution_count": 62,
     "metadata": {},
     "output_type": "execute_result"
    }
   ],
   "source": [
    "ali =Clean_Data.groupby('Category')['App'].count()\n",
    "ali =pd.DataFrame(ali)\n",
    "ali=ali.reset_index()\n",
    "ali"
   ]
  },
  {
   "cell_type": "code",
   "execution_count": 63,
   "metadata": {},
   "outputs": [
    {
     "data": {
      "application/vnd.plotly.v1+json": {
       "config": {
        "plotlyServerURL": "https://plot.ly"
       },
       "data": [
        {
         "alignmentgroup": "True",
         "hovertemplate": "Category=%{x}<br>Apps_Count=%{y}<extra></extra>",
         "legendgroup": "ART_AND_DESIGN",
         "marker": {
          "color": "#636efa",
          "pattern": {
           "shape": ""
          }
         },
         "name": "ART_AND_DESIGN",
         "offsetgroup": "ART_AND_DESIGN",
         "orientation": "v",
         "showlegend": true,
         "textposition": "auto",
         "type": "bar",
         "x": [
          "ART_AND_DESIGN"
         ],
         "xaxis": "x",
         "y": [
          64
         ],
         "yaxis": "y"
        },
        {
         "alignmentgroup": "True",
         "hovertemplate": "Category=%{x}<br>Apps_Count=%{y}<extra></extra>",
         "legendgroup": "AUTO_AND_VEHICLES",
         "marker": {
          "color": "#EF553B",
          "pattern": {
           "shape": ""
          }
         },
         "name": "AUTO_AND_VEHICLES",
         "offsetgroup": "AUTO_AND_VEHICLES",
         "orientation": "v",
         "showlegend": true,
         "textposition": "auto",
         "type": "bar",
         "x": [
          "AUTO_AND_VEHICLES"
         ],
         "xaxis": "x",
         "y": [
          85
         ],
         "yaxis": "y"
        },
        {
         "alignmentgroup": "True",
         "hovertemplate": "Category=%{x}<br>Apps_Count=%{y}<extra></extra>",
         "legendgroup": "BEAUTY",
         "marker": {
          "color": "#00cc96",
          "pattern": {
           "shape": ""
          }
         },
         "name": "BEAUTY",
         "offsetgroup": "BEAUTY",
         "orientation": "v",
         "showlegend": true,
         "textposition": "auto",
         "type": "bar",
         "x": [
          "BEAUTY"
         ],
         "xaxis": "x",
         "y": [
          53
         ],
         "yaxis": "y"
        },
        {
         "alignmentgroup": "True",
         "hovertemplate": "Category=%{x}<br>Apps_Count=%{y}<extra></extra>",
         "legendgroup": "BOOKS_AND_REFERENCE",
         "marker": {
          "color": "#ab63fa",
          "pattern": {
           "shape": ""
          }
         },
         "name": "BOOKS_AND_REFERENCE",
         "offsetgroup": "BOOKS_AND_REFERENCE",
         "orientation": "v",
         "showlegend": true,
         "textposition": "auto",
         "type": "bar",
         "x": [
          "BOOKS_AND_REFERENCE"
         ],
         "xaxis": "x",
         "y": [
          229
         ],
         "yaxis": "y"
        },
        {
         "alignmentgroup": "True",
         "hovertemplate": "Category=%{x}<br>Apps_Count=%{y}<extra></extra>",
         "legendgroup": "BUSINESS",
         "marker": {
          "color": "#FFA15A",
          "pattern": {
           "shape": ""
          }
         },
         "name": "BUSINESS",
         "offsetgroup": "BUSINESS",
         "orientation": "v",
         "showlegend": true,
         "textposition": "auto",
         "type": "bar",
         "x": [
          "BUSINESS"
         ],
         "xaxis": "x",
         "y": [
          427
         ],
         "yaxis": "y"
        },
        {
         "alignmentgroup": "True",
         "hovertemplate": "Category=%{x}<br>Apps_Count=%{y}<extra></extra>",
         "legendgroup": "COMICS",
         "marker": {
          "color": "#19d3f3",
          "pattern": {
           "shape": ""
          }
         },
         "name": "COMICS",
         "offsetgroup": "COMICS",
         "orientation": "v",
         "showlegend": true,
         "textposition": "auto",
         "type": "bar",
         "x": [
          "COMICS"
         ],
         "xaxis": "x",
         "y": [
          60
         ],
         "yaxis": "y"
        },
        {
         "alignmentgroup": "True",
         "hovertemplate": "Category=%{x}<br>Apps_Count=%{y}<extra></extra>",
         "legendgroup": "COMMUNICATION",
         "marker": {
          "color": "#FF6692",
          "pattern": {
           "shape": ""
          }
         },
         "name": "COMMUNICATION",
         "offsetgroup": "COMMUNICATION",
         "orientation": "v",
         "showlegend": true,
         "textposition": "auto",
         "type": "bar",
         "x": [
          "COMMUNICATION"
         ],
         "xaxis": "x",
         "y": [
          366
         ],
         "yaxis": "y"
        },
        {
         "alignmentgroup": "True",
         "hovertemplate": "Category=%{x}<br>Apps_Count=%{y}<extra></extra>",
         "legendgroup": "DATING",
         "marker": {
          "color": "#B6E880",
          "pattern": {
           "shape": ""
          }
         },
         "name": "DATING",
         "offsetgroup": "DATING",
         "orientation": "v",
         "showlegend": true,
         "textposition": "auto",
         "type": "bar",
         "x": [
          "DATING"
         ],
         "xaxis": "x",
         "y": [
          198
         ],
         "yaxis": "y"
        },
        {
         "alignmentgroup": "True",
         "hovertemplate": "Category=%{x}<br>Apps_Count=%{y}<extra></extra>",
         "legendgroup": "EDUCATION",
         "marker": {
          "color": "#FF97FF",
          "pattern": {
           "shape": ""
          }
         },
         "name": "EDUCATION",
         "offsetgroup": "EDUCATION",
         "orientation": "v",
         "showlegend": true,
         "textposition": "auto",
         "type": "bar",
         "x": [
          "EDUCATION"
         ],
         "xaxis": "x",
         "y": [
          130
         ],
         "yaxis": "y"
        },
        {
         "alignmentgroup": "True",
         "hovertemplate": "Category=%{x}<br>Apps_Count=%{y}<extra></extra>",
         "legendgroup": "ENTERTAINMENT",
         "marker": {
          "color": "#FECB52",
          "pattern": {
           "shape": ""
          }
         },
         "name": "ENTERTAINMENT",
         "offsetgroup": "ENTERTAINMENT",
         "orientation": "v",
         "showlegend": true,
         "textposition": "auto",
         "type": "bar",
         "x": [
          "ENTERTAINMENT"
         ],
         "xaxis": "x",
         "y": [
          111
         ],
         "yaxis": "y"
        },
        {
         "alignmentgroup": "True",
         "hovertemplate": "Category=%{x}<br>Apps_Count=%{y}<extra></extra>",
         "legendgroup": "EVENTS",
         "marker": {
          "color": "#636efa",
          "pattern": {
           "shape": ""
          }
         },
         "name": "EVENTS",
         "offsetgroup": "EVENTS",
         "orientation": "v",
         "showlegend": true,
         "textposition": "auto",
         "type": "bar",
         "x": [
          "EVENTS"
         ],
         "xaxis": "x",
         "y": [
          64
         ],
         "yaxis": "y"
        },
        {
         "alignmentgroup": "True",
         "hovertemplate": "Category=%{x}<br>Apps_Count=%{y}<extra></extra>",
         "legendgroup": "FAMILY",
         "marker": {
          "color": "#EF553B",
          "pattern": {
           "shape": ""
          }
         },
         "name": "FAMILY",
         "offsetgroup": "FAMILY",
         "orientation": "v",
         "showlegend": true,
         "textposition": "auto",
         "type": "bar",
         "x": [
          "FAMILY"
         ],
         "xaxis": "x",
         "y": [
          1940
         ],
         "yaxis": "y"
        },
        {
         "alignmentgroup": "True",
         "hovertemplate": "Category=%{x}<br>Apps_Count=%{y}<extra></extra>",
         "legendgroup": "FINANCE",
         "marker": {
          "color": "#00cc96",
          "pattern": {
           "shape": ""
          }
         },
         "name": "FINANCE",
         "offsetgroup": "FINANCE",
         "orientation": "v",
         "showlegend": true,
         "textposition": "auto",
         "type": "bar",
         "x": [
          "FINANCE"
         ],
         "xaxis": "x",
         "y": [
          360
         ],
         "yaxis": "y"
        },
        {
         "alignmentgroup": "True",
         "hovertemplate": "Category=%{x}<br>Apps_Count=%{y}<extra></extra>",
         "legendgroup": "FOOD_AND_DRINK",
         "marker": {
          "color": "#ab63fa",
          "pattern": {
           "shape": ""
          }
         },
         "name": "FOOD_AND_DRINK",
         "offsetgroup": "FOOD_AND_DRINK",
         "orientation": "v",
         "showlegend": true,
         "textposition": "auto",
         "type": "bar",
         "x": [
          "FOOD_AND_DRINK"
         ],
         "xaxis": "x",
         "y": [
          124
         ],
         "yaxis": "y"
        },
        {
         "alignmentgroup": "True",
         "hovertemplate": "Category=%{x}<br>Apps_Count=%{y}<extra></extra>",
         "legendgroup": "GAME",
         "marker": {
          "color": "#FFA15A",
          "pattern": {
           "shape": ""
          }
         },
         "name": "GAME",
         "offsetgroup": "GAME",
         "orientation": "v",
         "showlegend": true,
         "textposition": "auto",
         "type": "bar",
         "x": [
          "GAME"
         ],
         "xaxis": "x",
         "y": [
          1121
         ],
         "yaxis": "y"
        },
        {
         "alignmentgroup": "True",
         "hovertemplate": "Category=%{x}<br>Apps_Count=%{y}<extra></extra>",
         "legendgroup": "HEALTH_AND_FITNESS",
         "marker": {
          "color": "#19d3f3",
          "pattern": {
           "shape": ""
          }
         },
         "name": "HEALTH_AND_FITNESS",
         "offsetgroup": "HEALTH_AND_FITNESS",
         "orientation": "v",
         "showlegend": true,
         "textposition": "auto",
         "type": "bar",
         "x": [
          "HEALTH_AND_FITNESS"
         ],
         "xaxis": "x",
         "y": [
          306
         ],
         "yaxis": "y"
        },
        {
         "alignmentgroup": "True",
         "hovertemplate": "Category=%{x}<br>Apps_Count=%{y}<extra></extra>",
         "legendgroup": "HOUSE_AND_HOME",
         "marker": {
          "color": "#FF6692",
          "pattern": {
           "shape": ""
          }
         },
         "name": "HOUSE_AND_HOME",
         "offsetgroup": "HOUSE_AND_HOME",
         "orientation": "v",
         "showlegend": true,
         "textposition": "auto",
         "type": "bar",
         "x": [
          "HOUSE_AND_HOME"
         ],
         "xaxis": "x",
         "y": [
          80
         ],
         "yaxis": "y"
        },
        {
         "alignmentgroup": "True",
         "hovertemplate": "Category=%{x}<br>Apps_Count=%{y}<extra></extra>",
         "legendgroup": "LIBRARIES_AND_DEMO",
         "marker": {
          "color": "#B6E880",
          "pattern": {
           "shape": ""
          }
         },
         "name": "LIBRARIES_AND_DEMO",
         "offsetgroup": "LIBRARIES_AND_DEMO",
         "orientation": "v",
         "showlegend": true,
         "textposition": "auto",
         "type": "bar",
         "x": [
          "LIBRARIES_AND_DEMO"
         ],
         "xaxis": "x",
         "y": [
          84
         ],
         "yaxis": "y"
        },
        {
         "alignmentgroup": "True",
         "hovertemplate": "Category=%{x}<br>Apps_Count=%{y}<extra></extra>",
         "legendgroup": "LIFESTYLE",
         "marker": {
          "color": "#FF97FF",
          "pattern": {
           "shape": ""
          }
         },
         "name": "LIFESTYLE",
         "offsetgroup": "LIFESTYLE",
         "orientation": "v",
         "showlegend": true,
         "textposition": "auto",
         "type": "bar",
         "x": [
          "LIFESTYLE"
         ],
         "xaxis": "x",
         "y": [
          373
         ],
         "yaxis": "y"
        },
        {
         "alignmentgroup": "True",
         "hovertemplate": "Category=%{x}<br>Apps_Count=%{y}<extra></extra>",
         "legendgroup": "MAPS_AND_NAVIGATION",
         "marker": {
          "color": "#FECB52",
          "pattern": {
           "shape": ""
          }
         },
         "name": "MAPS_AND_NAVIGATION",
         "offsetgroup": "MAPS_AND_NAVIGATION",
         "orientation": "v",
         "showlegend": true,
         "textposition": "auto",
         "type": "bar",
         "x": [
          "MAPS_AND_NAVIGATION"
         ],
         "xaxis": "x",
         "y": [
          137
         ],
         "yaxis": "y"
        },
        {
         "alignmentgroup": "True",
         "hovertemplate": "Category=%{x}<br>Apps_Count=%{y}<extra></extra>",
         "legendgroup": "MEDICAL",
         "marker": {
          "color": "#636efa",
          "pattern": {
           "shape": ""
          }
         },
         "name": "MEDICAL",
         "offsetgroup": "MEDICAL",
         "orientation": "v",
         "showlegend": true,
         "textposition": "auto",
         "type": "bar",
         "x": [
          "MEDICAL"
         ],
         "xaxis": "x",
         "y": [
          414
         ],
         "yaxis": "y"
        },
        {
         "alignmentgroup": "True",
         "hovertemplate": "Category=%{x}<br>Apps_Count=%{y}<extra></extra>",
         "legendgroup": "NEWS_AND_MAGAZINES",
         "marker": {
          "color": "#EF553B",
          "pattern": {
           "shape": ""
          }
         },
         "name": "NEWS_AND_MAGAZINES",
         "offsetgroup": "NEWS_AND_MAGAZINES",
         "orientation": "v",
         "showlegend": true,
         "textposition": "auto",
         "type": "bar",
         "x": [
          "NEWS_AND_MAGAZINES"
         ],
         "xaxis": "x",
         "y": [
          264
         ],
         "yaxis": "y"
        },
        {
         "alignmentgroup": "True",
         "hovertemplate": "Category=%{x}<br>Apps_Count=%{y}<extra></extra>",
         "legendgroup": "PARENTING",
         "marker": {
          "color": "#00cc96",
          "pattern": {
           "shape": ""
          }
         },
         "name": "PARENTING",
         "offsetgroup": "PARENTING",
         "orientation": "v",
         "showlegend": true,
         "textposition": "auto",
         "type": "bar",
         "x": [
          "PARENTING"
         ],
         "xaxis": "x",
         "y": [
          60
         ],
         "yaxis": "y"
        },
        {
         "alignmentgroup": "True",
         "hovertemplate": "Category=%{x}<br>Apps_Count=%{y}<extra></extra>",
         "legendgroup": "PERSONALIZATION",
         "marker": {
          "color": "#ab63fa",
          "pattern": {
           "shape": ""
          }
         },
         "name": "PERSONALIZATION",
         "offsetgroup": "PERSONALIZATION",
         "orientation": "v",
         "showlegend": true,
         "textposition": "auto",
         "type": "bar",
         "x": [
          "PERSONALIZATION"
         ],
         "xaxis": "x",
         "y": [
          386
         ],
         "yaxis": "y"
        },
        {
         "alignmentgroup": "True",
         "hovertemplate": "Category=%{x}<br>Apps_Count=%{y}<extra></extra>",
         "legendgroup": "PHOTOGRAPHY",
         "marker": {
          "color": "#FFA15A",
          "pattern": {
           "shape": ""
          }
         },
         "name": "PHOTOGRAPHY",
         "offsetgroup": "PHOTOGRAPHY",
         "orientation": "v",
         "showlegend": true,
         "textposition": "auto",
         "type": "bar",
         "x": [
          "PHOTOGRAPHY"
         ],
         "xaxis": "x",
         "y": [
          322
         ],
         "yaxis": "y"
        },
        {
         "alignmentgroup": "True",
         "hovertemplate": "Category=%{x}<br>Apps_Count=%{y}<extra></extra>",
         "legendgroup": "PRODUCTIVITY",
         "marker": {
          "color": "#19d3f3",
          "pattern": {
           "shape": ""
          }
         },
         "name": "PRODUCTIVITY",
         "offsetgroup": "PRODUCTIVITY",
         "orientation": "v",
         "showlegend": true,
         "textposition": "auto",
         "type": "bar",
         "x": [
          "PRODUCTIVITY"
         ],
         "xaxis": "x",
         "y": [
          407
         ],
         "yaxis": "y"
        },
        {
         "alignmentgroup": "True",
         "hovertemplate": "Category=%{x}<br>Apps_Count=%{y}<extra></extra>",
         "legendgroup": "SHOPPING",
         "marker": {
          "color": "#FF6692",
          "pattern": {
           "shape": ""
          }
         },
         "name": "SHOPPING",
         "offsetgroup": "SHOPPING",
         "orientation": "v",
         "showlegend": true,
         "textposition": "auto",
         "type": "bar",
         "x": [
          "SHOPPING"
         ],
         "xaxis": "x",
         "y": [
          224
         ],
         "yaxis": "y"
        },
        {
         "alignmentgroup": "True",
         "hovertemplate": "Category=%{x}<br>Apps_Count=%{y}<extra></extra>",
         "legendgroup": "SOCIAL",
         "marker": {
          "color": "#B6E880",
          "pattern": {
           "shape": ""
          }
         },
         "name": "SOCIAL",
         "offsetgroup": "SOCIAL",
         "orientation": "v",
         "showlegend": true,
         "textposition": "auto",
         "type": "bar",
         "x": [
          "SOCIAL"
         ],
         "xaxis": "x",
         "y": [
          280
         ],
         "yaxis": "y"
        },
        {
         "alignmentgroup": "True",
         "hovertemplate": "Category=%{x}<br>Apps_Count=%{y}<extra></extra>",
         "legendgroup": "SPORTS",
         "marker": {
          "color": "#FF97FF",
          "pattern": {
           "shape": ""
          }
         },
         "name": "SPORTS",
         "offsetgroup": "SPORTS",
         "orientation": "v",
         "showlegend": true,
         "textposition": "auto",
         "type": "bar",
         "x": [
          "SPORTS"
         ],
         "xaxis": "x",
         "y": [
          351
         ],
         "yaxis": "y"
        },
        {
         "alignmentgroup": "True",
         "hovertemplate": "Category=%{x}<br>Apps_Count=%{y}<extra></extra>",
         "legendgroup": "TOOLS",
         "marker": {
          "color": "#FECB52",
          "pattern": {
           "shape": ""
          }
         },
         "name": "TOOLS",
         "offsetgroup": "TOOLS",
         "orientation": "v",
         "showlegend": true,
         "textposition": "auto",
         "type": "bar",
         "x": [
          "TOOLS"
         ],
         "xaxis": "x",
         "y": [
          841
         ],
         "yaxis": "y"
        },
        {
         "alignmentgroup": "True",
         "hovertemplate": "Category=%{x}<br>Apps_Count=%{y}<extra></extra>",
         "legendgroup": "TRAVEL_AND_LOCAL",
         "marker": {
          "color": "#636efa",
          "pattern": {
           "shape": ""
          }
         },
         "name": "TRAVEL_AND_LOCAL",
         "offsetgroup": "TRAVEL_AND_LOCAL",
         "orientation": "v",
         "showlegend": true,
         "textposition": "auto",
         "type": "bar",
         "x": [
          "TRAVEL_AND_LOCAL"
         ],
         "xaxis": "x",
         "y": [
          237
         ],
         "yaxis": "y"
        },
        {
         "alignmentgroup": "True",
         "hovertemplate": "Category=%{x}<br>Apps_Count=%{y}<extra></extra>",
         "legendgroup": "VIDEO_PLAYERS",
         "marker": {
          "color": "#EF553B",
          "pattern": {
           "shape": ""
          }
         },
         "name": "VIDEO_PLAYERS",
         "offsetgroup": "VIDEO_PLAYERS",
         "orientation": "v",
         "showlegend": true,
         "textposition": "auto",
         "type": "bar",
         "x": [
          "VIDEO_PLAYERS"
         ],
         "xaxis": "x",
         "y": [
          175
         ],
         "yaxis": "y"
        },
        {
         "alignmentgroup": "True",
         "hovertemplate": "Category=%{x}<br>Apps_Count=%{y}<extra></extra>",
         "legendgroup": "WEATHER",
         "marker": {
          "color": "#00cc96",
          "pattern": {
           "shape": ""
          }
         },
         "name": "WEATHER",
         "offsetgroup": "WEATHER",
         "orientation": "v",
         "showlegend": true,
         "textposition": "auto",
         "type": "bar",
         "x": [
          "WEATHER"
         ],
         "xaxis": "x",
         "y": [
          82
         ],
         "yaxis": "y"
        }
       ],
       "layout": {
        "barmode": "relative",
        "legend": {
         "title": {
          "text": "Category"
         },
         "tracegroupgap": 0
        },
        "margin": {
         "t": 60
        },
        "template": {
         "data": {
          "bar": [
           {
            "error_x": {
             "color": "#2a3f5f"
            },
            "error_y": {
             "color": "#2a3f5f"
            },
            "marker": {
             "line": {
              "color": "#E5ECF6",
              "width": 0.5
             },
             "pattern": {
              "fillmode": "overlay",
              "size": 10,
              "solidity": 0.2
             }
            },
            "type": "bar"
           }
          ],
          "barpolar": [
           {
            "marker": {
             "line": {
              "color": "#E5ECF6",
              "width": 0.5
             },
             "pattern": {
              "fillmode": "overlay",
              "size": 10,
              "solidity": 0.2
             }
            },
            "type": "barpolar"
           }
          ],
          "carpet": [
           {
            "aaxis": {
             "endlinecolor": "#2a3f5f",
             "gridcolor": "white",
             "linecolor": "white",
             "minorgridcolor": "white",
             "startlinecolor": "#2a3f5f"
            },
            "baxis": {
             "endlinecolor": "#2a3f5f",
             "gridcolor": "white",
             "linecolor": "white",
             "minorgridcolor": "white",
             "startlinecolor": "#2a3f5f"
            },
            "type": "carpet"
           }
          ],
          "choropleth": [
           {
            "colorbar": {
             "outlinewidth": 0,
             "ticks": ""
            },
            "type": "choropleth"
           }
          ],
          "contour": [
           {
            "colorbar": {
             "outlinewidth": 0,
             "ticks": ""
            },
            "colorscale": [
             [
              0,
              "#0d0887"
             ],
             [
              0.1111111111111111,
              "#46039f"
             ],
             [
              0.2222222222222222,
              "#7201a8"
             ],
             [
              0.3333333333333333,
              "#9c179e"
             ],
             [
              0.4444444444444444,
              "#bd3786"
             ],
             [
              0.5555555555555556,
              "#d8576b"
             ],
             [
              0.6666666666666666,
              "#ed7953"
             ],
             [
              0.7777777777777778,
              "#fb9f3a"
             ],
             [
              0.8888888888888888,
              "#fdca26"
             ],
             [
              1,
              "#f0f921"
             ]
            ],
            "type": "contour"
           }
          ],
          "contourcarpet": [
           {
            "colorbar": {
             "outlinewidth": 0,
             "ticks": ""
            },
            "type": "contourcarpet"
           }
          ],
          "heatmap": [
           {
            "colorbar": {
             "outlinewidth": 0,
             "ticks": ""
            },
            "colorscale": [
             [
              0,
              "#0d0887"
             ],
             [
              0.1111111111111111,
              "#46039f"
             ],
             [
              0.2222222222222222,
              "#7201a8"
             ],
             [
              0.3333333333333333,
              "#9c179e"
             ],
             [
              0.4444444444444444,
              "#bd3786"
             ],
             [
              0.5555555555555556,
              "#d8576b"
             ],
             [
              0.6666666666666666,
              "#ed7953"
             ],
             [
              0.7777777777777778,
              "#fb9f3a"
             ],
             [
              0.8888888888888888,
              "#fdca26"
             ],
             [
              1,
              "#f0f921"
             ]
            ],
            "type": "heatmap"
           }
          ],
          "heatmapgl": [
           {
            "colorbar": {
             "outlinewidth": 0,
             "ticks": ""
            },
            "colorscale": [
             [
              0,
              "#0d0887"
             ],
             [
              0.1111111111111111,
              "#46039f"
             ],
             [
              0.2222222222222222,
              "#7201a8"
             ],
             [
              0.3333333333333333,
              "#9c179e"
             ],
             [
              0.4444444444444444,
              "#bd3786"
             ],
             [
              0.5555555555555556,
              "#d8576b"
             ],
             [
              0.6666666666666666,
              "#ed7953"
             ],
             [
              0.7777777777777778,
              "#fb9f3a"
             ],
             [
              0.8888888888888888,
              "#fdca26"
             ],
             [
              1,
              "#f0f921"
             ]
            ],
            "type": "heatmapgl"
           }
          ],
          "histogram": [
           {
            "marker": {
             "pattern": {
              "fillmode": "overlay",
              "size": 10,
              "solidity": 0.2
             }
            },
            "type": "histogram"
           }
          ],
          "histogram2d": [
           {
            "colorbar": {
             "outlinewidth": 0,
             "ticks": ""
            },
            "colorscale": [
             [
              0,
              "#0d0887"
             ],
             [
              0.1111111111111111,
              "#46039f"
             ],
             [
              0.2222222222222222,
              "#7201a8"
             ],
             [
              0.3333333333333333,
              "#9c179e"
             ],
             [
              0.4444444444444444,
              "#bd3786"
             ],
             [
              0.5555555555555556,
              "#d8576b"
             ],
             [
              0.6666666666666666,
              "#ed7953"
             ],
             [
              0.7777777777777778,
              "#fb9f3a"
             ],
             [
              0.8888888888888888,
              "#fdca26"
             ],
             [
              1,
              "#f0f921"
             ]
            ],
            "type": "histogram2d"
           }
          ],
          "histogram2dcontour": [
           {
            "colorbar": {
             "outlinewidth": 0,
             "ticks": ""
            },
            "colorscale": [
             [
              0,
              "#0d0887"
             ],
             [
              0.1111111111111111,
              "#46039f"
             ],
             [
              0.2222222222222222,
              "#7201a8"
             ],
             [
              0.3333333333333333,
              "#9c179e"
             ],
             [
              0.4444444444444444,
              "#bd3786"
             ],
             [
              0.5555555555555556,
              "#d8576b"
             ],
             [
              0.6666666666666666,
              "#ed7953"
             ],
             [
              0.7777777777777778,
              "#fb9f3a"
             ],
             [
              0.8888888888888888,
              "#fdca26"
             ],
             [
              1,
              "#f0f921"
             ]
            ],
            "type": "histogram2dcontour"
           }
          ],
          "mesh3d": [
           {
            "colorbar": {
             "outlinewidth": 0,
             "ticks": ""
            },
            "type": "mesh3d"
           }
          ],
          "parcoords": [
           {
            "line": {
             "colorbar": {
              "outlinewidth": 0,
              "ticks": ""
             }
            },
            "type": "parcoords"
           }
          ],
          "pie": [
           {
            "automargin": true,
            "type": "pie"
           }
          ],
          "scatter": [
           {
            "marker": {
             "colorbar": {
              "outlinewidth": 0,
              "ticks": ""
             }
            },
            "type": "scatter"
           }
          ],
          "scatter3d": [
           {
            "line": {
             "colorbar": {
              "outlinewidth": 0,
              "ticks": ""
             }
            },
            "marker": {
             "colorbar": {
              "outlinewidth": 0,
              "ticks": ""
             }
            },
            "type": "scatter3d"
           }
          ],
          "scattercarpet": [
           {
            "marker": {
             "colorbar": {
              "outlinewidth": 0,
              "ticks": ""
             }
            },
            "type": "scattercarpet"
           }
          ],
          "scattergeo": [
           {
            "marker": {
             "colorbar": {
              "outlinewidth": 0,
              "ticks": ""
             }
            },
            "type": "scattergeo"
           }
          ],
          "scattergl": [
           {
            "marker": {
             "colorbar": {
              "outlinewidth": 0,
              "ticks": ""
             }
            },
            "type": "scattergl"
           }
          ],
          "scattermapbox": [
           {
            "marker": {
             "colorbar": {
              "outlinewidth": 0,
              "ticks": ""
             }
            },
            "type": "scattermapbox"
           }
          ],
          "scatterpolar": [
           {
            "marker": {
             "colorbar": {
              "outlinewidth": 0,
              "ticks": ""
             }
            },
            "type": "scatterpolar"
           }
          ],
          "scatterpolargl": [
           {
            "marker": {
             "colorbar": {
              "outlinewidth": 0,
              "ticks": ""
             }
            },
            "type": "scatterpolargl"
           }
          ],
          "scatterternary": [
           {
            "marker": {
             "colorbar": {
              "outlinewidth": 0,
              "ticks": ""
             }
            },
            "type": "scatterternary"
           }
          ],
          "surface": [
           {
            "colorbar": {
             "outlinewidth": 0,
             "ticks": ""
            },
            "colorscale": [
             [
              0,
              "#0d0887"
             ],
             [
              0.1111111111111111,
              "#46039f"
             ],
             [
              0.2222222222222222,
              "#7201a8"
             ],
             [
              0.3333333333333333,
              "#9c179e"
             ],
             [
              0.4444444444444444,
              "#bd3786"
             ],
             [
              0.5555555555555556,
              "#d8576b"
             ],
             [
              0.6666666666666666,
              "#ed7953"
             ],
             [
              0.7777777777777778,
              "#fb9f3a"
             ],
             [
              0.8888888888888888,
              "#fdca26"
             ],
             [
              1,
              "#f0f921"
             ]
            ],
            "type": "surface"
           }
          ],
          "table": [
           {
            "cells": {
             "fill": {
              "color": "#EBF0F8"
             },
             "line": {
              "color": "white"
             }
            },
            "header": {
             "fill": {
              "color": "#C8D4E3"
             },
             "line": {
              "color": "white"
             }
            },
            "type": "table"
           }
          ]
         },
         "layout": {
          "annotationdefaults": {
           "arrowcolor": "#2a3f5f",
           "arrowhead": 0,
           "arrowwidth": 1
          },
          "autotypenumbers": "strict",
          "coloraxis": {
           "colorbar": {
            "outlinewidth": 0,
            "ticks": ""
           }
          },
          "colorscale": {
           "diverging": [
            [
             0,
             "#8e0152"
            ],
            [
             0.1,
             "#c51b7d"
            ],
            [
             0.2,
             "#de77ae"
            ],
            [
             0.3,
             "#f1b6da"
            ],
            [
             0.4,
             "#fde0ef"
            ],
            [
             0.5,
             "#f7f7f7"
            ],
            [
             0.6,
             "#e6f5d0"
            ],
            [
             0.7,
             "#b8e186"
            ],
            [
             0.8,
             "#7fbc41"
            ],
            [
             0.9,
             "#4d9221"
            ],
            [
             1,
             "#276419"
            ]
           ],
           "sequential": [
            [
             0,
             "#0d0887"
            ],
            [
             0.1111111111111111,
             "#46039f"
            ],
            [
             0.2222222222222222,
             "#7201a8"
            ],
            [
             0.3333333333333333,
             "#9c179e"
            ],
            [
             0.4444444444444444,
             "#bd3786"
            ],
            [
             0.5555555555555556,
             "#d8576b"
            ],
            [
             0.6666666666666666,
             "#ed7953"
            ],
            [
             0.7777777777777778,
             "#fb9f3a"
            ],
            [
             0.8888888888888888,
             "#fdca26"
            ],
            [
             1,
             "#f0f921"
            ]
           ],
           "sequentialminus": [
            [
             0,
             "#0d0887"
            ],
            [
             0.1111111111111111,
             "#46039f"
            ],
            [
             0.2222222222222222,
             "#7201a8"
            ],
            [
             0.3333333333333333,
             "#9c179e"
            ],
            [
             0.4444444444444444,
             "#bd3786"
            ],
            [
             0.5555555555555556,
             "#d8576b"
            ],
            [
             0.6666666666666666,
             "#ed7953"
            ],
            [
             0.7777777777777778,
             "#fb9f3a"
            ],
            [
             0.8888888888888888,
             "#fdca26"
            ],
            [
             1,
             "#f0f921"
            ]
           ]
          },
          "colorway": [
           "#636efa",
           "#EF553B",
           "#00cc96",
           "#ab63fa",
           "#FFA15A",
           "#19d3f3",
           "#FF6692",
           "#B6E880",
           "#FF97FF",
           "#FECB52"
          ],
          "font": {
           "color": "#2a3f5f"
          },
          "geo": {
           "bgcolor": "white",
           "lakecolor": "white",
           "landcolor": "#E5ECF6",
           "showlakes": true,
           "showland": true,
           "subunitcolor": "white"
          },
          "hoverlabel": {
           "align": "left"
          },
          "hovermode": "closest",
          "mapbox": {
           "style": "light"
          },
          "paper_bgcolor": "white",
          "plot_bgcolor": "#E5ECF6",
          "polar": {
           "angularaxis": {
            "gridcolor": "white",
            "linecolor": "white",
            "ticks": ""
           },
           "bgcolor": "#E5ECF6",
           "radialaxis": {
            "gridcolor": "white",
            "linecolor": "white",
            "ticks": ""
           }
          },
          "scene": {
           "xaxis": {
            "backgroundcolor": "#E5ECF6",
            "gridcolor": "white",
            "gridwidth": 2,
            "linecolor": "white",
            "showbackground": true,
            "ticks": "",
            "zerolinecolor": "white"
           },
           "yaxis": {
            "backgroundcolor": "#E5ECF6",
            "gridcolor": "white",
            "gridwidth": 2,
            "linecolor": "white",
            "showbackground": true,
            "ticks": "",
            "zerolinecolor": "white"
           },
           "zaxis": {
            "backgroundcolor": "#E5ECF6",
            "gridcolor": "white",
            "gridwidth": 2,
            "linecolor": "white",
            "showbackground": true,
            "ticks": "",
            "zerolinecolor": "white"
           }
          },
          "shapedefaults": {
           "line": {
            "color": "#2a3f5f"
           }
          },
          "ternary": {
           "aaxis": {
            "gridcolor": "white",
            "linecolor": "white",
            "ticks": ""
           },
           "baxis": {
            "gridcolor": "white",
            "linecolor": "white",
            "ticks": ""
           },
           "bgcolor": "#E5ECF6",
           "caxis": {
            "gridcolor": "white",
            "linecolor": "white",
            "ticks": ""
           }
          },
          "title": {
           "x": 0.05
          },
          "xaxis": {
           "automargin": true,
           "gridcolor": "white",
           "linecolor": "white",
           "ticks": "",
           "title": {
            "standoff": 15
           },
           "zerolinecolor": "white",
           "zerolinewidth": 2
          },
          "yaxis": {
           "automargin": true,
           "gridcolor": "white",
           "linecolor": "white",
           "ticks": "",
           "title": {
            "standoff": 15
           },
           "zerolinecolor": "white",
           "zerolinewidth": 2
          }
         }
        },
        "title": {
         "text": "App numbers for each category",
         "x": 0.5
        },
        "xaxis": {
         "anchor": "y",
         "categoryarray": [
          "ART_AND_DESIGN",
          "AUTO_AND_VEHICLES",
          "BEAUTY",
          "BOOKS_AND_REFERENCE",
          "BUSINESS",
          "COMICS",
          "COMMUNICATION",
          "DATING",
          "EDUCATION",
          "ENTERTAINMENT",
          "EVENTS",
          "FAMILY",
          "FINANCE",
          "FOOD_AND_DRINK",
          "GAME",
          "HEALTH_AND_FITNESS",
          "HOUSE_AND_HOME",
          "LIBRARIES_AND_DEMO",
          "LIFESTYLE",
          "MAPS_AND_NAVIGATION",
          "MEDICAL",
          "NEWS_AND_MAGAZINES",
          "PARENTING",
          "PERSONALIZATION",
          "PHOTOGRAPHY",
          "PRODUCTIVITY",
          "SHOPPING",
          "SOCIAL",
          "SPORTS",
          "TOOLS",
          "TRAVEL_AND_LOCAL",
          "VIDEO_PLAYERS",
          "WEATHER"
         ],
         "categoryorder": "array",
         "domain": [
          0,
          1
         ],
         "title": {
          "text": "Category"
         }
        },
        "yaxis": {
         "anchor": "x",
         "domain": [
          0,
          1
         ],
         "title": {
          "text": "Apps_Count"
         }
        }
       }
      }
     },
     "metadata": {},
     "output_type": "display_data"
    }
   ],
   "source": [
    "arain=px.bar(\n",
    "    ali,\n",
    "    x='Category',\n",
    "    y='App',\n",
    "    color='Category',\n",
    "    labels={'App':'Apps_Count'}\n",
    ")\n",
    "arain.update_layout(title_text='App numbers for each category', title_x=0.5)"
   ]
  },
  {
   "cell_type": "code",
   "execution_count": null,
   "metadata": {},
   "outputs": [],
   "source": []
  }
 ],
 "metadata": {
  "interpreter": {
   "hash": "52956175a48f0f66e5800feb672726a770e1c8eee1eadf4f42e9ee5d6119818d"
  },
  "kernelspec": {
   "display_name": "Python 3.10.2 64-bit",
   "language": "python",
   "name": "python3"
  },
  "language_info": {
   "codemirror_mode": {
    "name": "ipython",
    "version": 3
   },
   "file_extension": ".py",
   "mimetype": "text/x-python",
   "name": "python",
   "nbconvert_exporter": "python",
   "pygments_lexer": "ipython3",
   "version": "3.10.2"
  },
  "orig_nbformat": 4
 },
 "nbformat": 4,
 "nbformat_minor": 2
}
